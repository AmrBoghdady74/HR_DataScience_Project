{
 "cells": [
  {
   "cell_type": "markdown",
   "metadata": {},
   "source": [
    "## Human Resources Department Prject\n",
    "\n",
    "Develop a machine learning solution to predict employee attrition based on historical data, aiming to identify factors influencing employees' decisions to leave the company. The objective is to create a robust predictive model that enables proactive measures for employee retention."
   ]
  },
  {
   "cell_type": "code",
   "execution_count": 1,
   "metadata": {},
   "outputs": [],
   "source": [
    "DF_PATH = '../data/processed/HR_Processed.pkl'"
   ]
  },
  {
   "cell_type": "markdown",
   "metadata": {},
   "source": [
    "#### Importing libraries"
   ]
  },
  {
   "cell_type": "code",
   "execution_count": 2,
   "metadata": {},
   "outputs": [
    {
     "name": "stderr",
     "output_type": "stream",
     "text": [
      "c:\\Users\\HP\\anaconda3\\Lib\\site-packages\\paramiko\\transport.py:219: CryptographyDeprecationWarning: Blowfish has been deprecated\n",
      "  \"class\": algorithms.Blowfish,\n"
     ]
    }
   ],
   "source": [
    "import pandas as pd\n",
    "import numpy as np\n",
    "import matplotlib.pyplot as plt\n",
    "import seaborn as sns\n",
    "import os\n",
    "import pickle\n",
    "import plotly.express as px\n",
    "from plotly.subplots import make_subplots\n",
    "import plotly.graph_objs as go\n",
    "import plotly.figure_factory as ff\n",
    "import plotly.io as pio"
   ]
  },
  {
   "cell_type": "markdown",
   "metadata": {},
   "source": [
    "#### Read dataset"
   ]
  },
  {
   "cell_type": "code",
   "execution_count": 3,
   "metadata": {},
   "outputs": [
    {
     "data": {
      "text/html": [
       "<div>\n",
       "<style scoped>\n",
       "    .dataframe tbody tr th:only-of-type {\n",
       "        vertical-align: middle;\n",
       "    }\n",
       "\n",
       "    .dataframe tbody tr th {\n",
       "        vertical-align: top;\n",
       "    }\n",
       "\n",
       "    .dataframe thead th {\n",
       "        text-align: right;\n",
       "    }\n",
       "</style>\n",
       "<table border=\"1\" class=\"dataframe\">\n",
       "  <thead>\n",
       "    <tr style=\"text-align: right;\">\n",
       "      <th></th>\n",
       "      <th>Age</th>\n",
       "      <th>Attrition</th>\n",
       "      <th>BusinessTravel</th>\n",
       "      <th>DailyRate</th>\n",
       "      <th>Department</th>\n",
       "      <th>DistanceFromHome</th>\n",
       "      <th>Education</th>\n",
       "      <th>EducationField</th>\n",
       "      <th>EnvironmentSatisfaction</th>\n",
       "      <th>Gender</th>\n",
       "      <th>...</th>\n",
       "      <th>PerformanceRating</th>\n",
       "      <th>RelationshipSatisfaction</th>\n",
       "      <th>StockOptionLevel</th>\n",
       "      <th>TotalWorkingYears</th>\n",
       "      <th>TrainingTimesLastYear</th>\n",
       "      <th>WorkLifeBalance</th>\n",
       "      <th>YearsAtCompany</th>\n",
       "      <th>YearsInCurrentRole</th>\n",
       "      <th>YearsSinceLastPromotion</th>\n",
       "      <th>YearsWithCurrManager</th>\n",
       "    </tr>\n",
       "  </thead>\n",
       "  <tbody>\n",
       "    <tr>\n",
       "      <th>959</th>\n",
       "      <td>40</td>\n",
       "      <td>No</td>\n",
       "      <td>Travel_Rarely</td>\n",
       "      <td>523</td>\n",
       "      <td>Research &amp; Development</td>\n",
       "      <td>2</td>\n",
       "      <td>3</td>\n",
       "      <td>Life Sciences</td>\n",
       "      <td>3</td>\n",
       "      <td>Male</td>\n",
       "      <td>...</td>\n",
       "      <td>3</td>\n",
       "      <td>3</td>\n",
       "      <td>0</td>\n",
       "      <td>9</td>\n",
       "      <td>4</td>\n",
       "      <td>3</td>\n",
       "      <td>9</td>\n",
       "      <td>8</td>\n",
       "      <td>8</td>\n",
       "      <td>8</td>\n",
       "    </tr>\n",
       "    <tr>\n",
       "      <th>1428</th>\n",
       "      <td>32</td>\n",
       "      <td>No</td>\n",
       "      <td>Travel_Rarely</td>\n",
       "      <td>234</td>\n",
       "      <td>Sales</td>\n",
       "      <td>1</td>\n",
       "      <td>4</td>\n",
       "      <td>Medical</td>\n",
       "      <td>2</td>\n",
       "      <td>Male</td>\n",
       "      <td>...</td>\n",
       "      <td>3</td>\n",
       "      <td>2</td>\n",
       "      <td>1</td>\n",
       "      <td>3</td>\n",
       "      <td>2</td>\n",
       "      <td>3</td>\n",
       "      <td>2</td>\n",
       "      <td>2</td>\n",
       "      <td>2</td>\n",
       "      <td>2</td>\n",
       "    </tr>\n",
       "    <tr>\n",
       "      <th>951</th>\n",
       "      <td>41</td>\n",
       "      <td>No</td>\n",
       "      <td>Non-Travel</td>\n",
       "      <td>256</td>\n",
       "      <td>Sales</td>\n",
       "      <td>10</td>\n",
       "      <td>2</td>\n",
       "      <td>Medical</td>\n",
       "      <td>3</td>\n",
       "      <td>Male</td>\n",
       "      <td>...</td>\n",
       "      <td>3</td>\n",
       "      <td>1</td>\n",
       "      <td>0</td>\n",
       "      <td>19</td>\n",
       "      <td>4</td>\n",
       "      <td>3</td>\n",
       "      <td>19</td>\n",
       "      <td>2</td>\n",
       "      <td>11</td>\n",
       "      <td>9</td>\n",
       "    </tr>\n",
       "    <tr>\n",
       "      <th>609</th>\n",
       "      <td>43</td>\n",
       "      <td>No</td>\n",
       "      <td>Travel_Rarely</td>\n",
       "      <td>589</td>\n",
       "      <td>Research &amp; Development</td>\n",
       "      <td>14</td>\n",
       "      <td>2</td>\n",
       "      <td>Life Sciences</td>\n",
       "      <td>2</td>\n",
       "      <td>Male</td>\n",
       "      <td>...</td>\n",
       "      <td>4</td>\n",
       "      <td>3</td>\n",
       "      <td>1</td>\n",
       "      <td>22</td>\n",
       "      <td>3</td>\n",
       "      <td>3</td>\n",
       "      <td>4</td>\n",
       "      <td>1</td>\n",
       "      <td>1</td>\n",
       "      <td>0</td>\n",
       "    </tr>\n",
       "    <tr>\n",
       "      <th>140</th>\n",
       "      <td>32</td>\n",
       "      <td>Yes</td>\n",
       "      <td>Travel_Rarely</td>\n",
       "      <td>1033</td>\n",
       "      <td>Research &amp; Development</td>\n",
       "      <td>9</td>\n",
       "      <td>3</td>\n",
       "      <td>Medical</td>\n",
       "      <td>1</td>\n",
       "      <td>Female</td>\n",
       "      <td>...</td>\n",
       "      <td>4</td>\n",
       "      <td>1</td>\n",
       "      <td>0</td>\n",
       "      <td>10</td>\n",
       "      <td>2</td>\n",
       "      <td>4</td>\n",
       "      <td>5</td>\n",
       "      <td>4</td>\n",
       "      <td>0</td>\n",
       "      <td>4</td>\n",
       "    </tr>\n",
       "  </tbody>\n",
       "</table>\n",
       "<p>5 rows × 31 columns</p>\n",
       "</div>"
      ],
      "text/plain": [
       "      Age Attrition BusinessTravel  DailyRate              Department  \\\n",
       "959    40        No  Travel_Rarely        523  Research & Development   \n",
       "1428   32        No  Travel_Rarely        234                   Sales   \n",
       "951    41        No     Non-Travel        256                   Sales   \n",
       "609    43        No  Travel_Rarely        589  Research & Development   \n",
       "140    32       Yes  Travel_Rarely       1033  Research & Development   \n",
       "\n",
       "      DistanceFromHome  Education EducationField  EnvironmentSatisfaction  \\\n",
       "959                  2          3  Life Sciences                        3   \n",
       "1428                 1          4        Medical                        2   \n",
       "951                 10          2        Medical                        3   \n",
       "609                 14          2  Life Sciences                        2   \n",
       "140                  9          3        Medical                        1   \n",
       "\n",
       "      Gender  ...  PerformanceRating  RelationshipSatisfaction  \\\n",
       "959     Male  ...                  3                         3   \n",
       "1428    Male  ...                  3                         2   \n",
       "951     Male  ...                  3                         1   \n",
       "609     Male  ...                  4                         3   \n",
       "140   Female  ...                  4                         1   \n",
       "\n",
       "      StockOptionLevel TotalWorkingYears  TrainingTimesLastYear  \\\n",
       "959                  0                 9                      4   \n",
       "1428                 1                 3                      2   \n",
       "951                  0                19                      4   \n",
       "609                  1                22                      3   \n",
       "140                  0                10                      2   \n",
       "\n",
       "     WorkLifeBalance  YearsAtCompany  YearsInCurrentRole  \\\n",
       "959                3               9                   8   \n",
       "1428               3               2                   2   \n",
       "951                3              19                   2   \n",
       "609                3               4                   1   \n",
       "140                4               5                   4   \n",
       "\n",
       "      YearsSinceLastPromotion YearsWithCurrManager  \n",
       "959                         8                    8  \n",
       "1428                        2                    2  \n",
       "951                        11                    9  \n",
       "609                         1                    0  \n",
       "140                         0                    4  \n",
       "\n",
       "[5 rows x 31 columns]"
      ]
     },
     "execution_count": 3,
     "metadata": {},
     "output_type": "execute_result"
    }
   ],
   "source": [
    "df = pd.read_pickle(DF_PATH)\n",
    "df.sample(5)"
   ]
  },
  {
   "cell_type": "code",
   "execution_count": 4,
   "metadata": {},
   "outputs": [
    {
     "name": "stdout",
     "output_type": "stream",
     "text": [
      "<class 'pandas.core.frame.DataFrame'>\n",
      "RangeIndex: 1470 entries, 0 to 1469\n",
      "Data columns (total 31 columns):\n",
      " #   Column                    Non-Null Count  Dtype \n",
      "---  ------                    --------------  ----- \n",
      " 0   Age                       1470 non-null   int64 \n",
      " 1   Attrition                 1470 non-null   object\n",
      " 2   BusinessTravel            1470 non-null   object\n",
      " 3   DailyRate                 1470 non-null   int64 \n",
      " 4   Department                1470 non-null   object\n",
      " 5   DistanceFromHome          1470 non-null   int64 \n",
      " 6   Education                 1470 non-null   int64 \n",
      " 7   EducationField            1470 non-null   object\n",
      " 8   EnvironmentSatisfaction   1470 non-null   int64 \n",
      " 9   Gender                    1470 non-null   object\n",
      " 10  HourlyRate                1470 non-null   int64 \n",
      " 11  JobInvolvement            1470 non-null   int64 \n",
      " 12  JobLevel                  1470 non-null   int64 \n",
      " 13  JobRole                   1470 non-null   object\n",
      " 14  JobSatisfaction           1470 non-null   int64 \n",
      " 15  MaritalStatus             1470 non-null   object\n",
      " 16  MonthlyIncome             1470 non-null   int64 \n",
      " 17  MonthlyRate               1470 non-null   int64 \n",
      " 18  NumCompaniesWorked        1470 non-null   int64 \n",
      " 19  OverTime                  1470 non-null   object\n",
      " 20  PercentSalaryHike         1470 non-null   int64 \n",
      " 21  PerformanceRating         1470 non-null   int64 \n",
      " 22  RelationshipSatisfaction  1470 non-null   int64 \n",
      " 23  StockOptionLevel          1470 non-null   int64 \n",
      " 24  TotalWorkingYears         1470 non-null   int64 \n",
      " 25  TrainingTimesLastYear     1470 non-null   int64 \n",
      " 26  WorkLifeBalance           1470 non-null   int64 \n",
      " 27  YearsAtCompany            1470 non-null   int64 \n",
      " 28  YearsInCurrentRole        1470 non-null   int64 \n",
      " 29  YearsSinceLastPromotion   1470 non-null   int64 \n",
      " 30  YearsWithCurrManager      1470 non-null   int64 \n",
      "dtypes: int64(23), object(8)\n",
      "memory usage: 356.1+ KB\n"
     ]
    }
   ],
   "source": [
    "df.info()"
   ]
  },
  {
   "cell_type": "markdown",
   "metadata": {},
   "source": [
    "**Questions:**\n",
    "1. What is overall attrition rate in the company?\n",
    "2. How does attrition vary by different demographics like age, gender, etc?\n",
    "3. Are these specific departments or job roles experiencing higher attrition rates?\n",
    "4. Which factors (e.g.,job satisfaction, work-life balance, distance from home) correlate most strongly with attrition?\n",
    "5. Are there patterns in the number of years worked or promotions recevied concering attrition?\n",
    "6. Does higher job involvement or performance ratings relate to longer tenures?\n",
    "7. Do longer durations with the current manager relate to lower attrition rates?\n",
    "8. Does the frequence of overtime impact attrition rates?\n",
    "9. How does the distance of the workplace from an employee's home effect attition?\n",
    "10. Do higher salary hikes benefits relate to lower attrition?"
   ]
  },
  {
   "cell_type": "markdown",
   "metadata": {},
   "source": [
    "----------------------------------------"
   ]
  },
  {
   "cell_type": "markdown",
   "metadata": {},
   "source": [
    "#### 1. What is overall attrition rate in the company?"
   ]
  },
  {
   "cell_type": "code",
   "execution_count": 5,
   "metadata": {},
   "outputs": [],
   "source": [
    "df_left = df[df['Attrition'] == 'Yes']\n",
    "df_stayed = df[df['Attrition'] == 'No']"
   ]
  },
  {
   "cell_type": "code",
   "execution_count": 6,
   "metadata": {},
   "outputs": [
    {
     "name": "stdout",
     "output_type": "stream",
     "text": [
      "Total Employees in The Company:  1470\n",
      "Employees Left:  237\n",
      "Percentage of Employees Left:  16.12 %\n",
      "-----------------------------------------\n",
      "Employees Stayed:  1233\n",
      "Percentage of Employees Stayed:  83.88 %\n"
     ]
    }
   ],
   "source": [
    "print('Total Employees in The Company: ', len(df))\n",
    "print('Employees Left: ', len(df_left))\n",
    "print('Percentage of Employees Left: ', round(len(df_left)/len(df)*100, 2), '%')\n",
    "print('-----------------------------------------')\n",
    "print('Employees Stayed: ', len(df_stayed))\n",
    "print('Percentage of Employees Stayed: ', round(len(df_stayed)/len(df)*100, 2), '%')"
   ]
  },
  {
   "cell_type": "markdown",
   "metadata": {},
   "source": [
    "#### 2. How does attrition vary by different demographics like age, gender, etc?"
   ]
  },
  {
   "cell_type": "markdown",
   "metadata": {},
   "source": [
    "##### Attrition Vs. Age"
   ]
  },
  {
   "cell_type": "code",
   "execution_count": 7,
   "metadata": {},
   "outputs": [
    {
     "data": {
      "image/svg+xml": [
       "<svg class=\"main-svg\" xmlns=\"http://www.w3.org/2000/svg\" xmlns:xlink=\"http://www.w3.org/1999/xlink\" width=\"800\" height=\"500\" style=\"\" viewBox=\"0 0 800 500\"><rect x=\"0\" y=\"0\" width=\"800\" height=\"500\" style=\"fill: rgb(255, 255, 255); fill-opacity: 1;\"/><defs id=\"defs-23177f\"><g class=\"clips\"><clipPath id=\"clip23177fxyplot\" class=\"plotclip\"><rect width=\"640\" height=\"320\"/></clipPath><clipPath class=\"axesclip\" id=\"clip23177fx\"><rect x=\"80\" y=\"0\" width=\"640\" height=\"500\"/></clipPath><clipPath class=\"axesclip\" id=\"clip23177fy\"><rect x=\"0\" y=\"100\" width=\"800\" height=\"320\"/></clipPath><clipPath class=\"axesclip\" id=\"clip23177fxy\"><rect x=\"80\" y=\"100\" width=\"640\" height=\"320\"/></clipPath></g><g class=\"gradients\"/><g class=\"patterns\"/></defs><g class=\"bglayer\"><rect class=\"bg\" x=\"80\" y=\"100\" width=\"640\" height=\"320\" style=\"fill: rgb(255, 255, 255); fill-opacity: 1; stroke-width: 0;\"/></g><g class=\"layer-below\"><g class=\"imagelayer\"/><g class=\"shapelayer\"/></g><g class=\"cartesianlayer\"><g class=\"subplot xy\"><g class=\"layer-subplot\"><g class=\"shapelayer\"/><g class=\"imagelayer\"/></g><g class=\"minor-gridlayer\"><g class=\"x\"/><g class=\"y\"/></g><g class=\"gridlayer\"><g class=\"x\"/><g class=\"y\"/></g><g class=\"zerolinelayer\"><path class=\"yzl zl crisp\" transform=\"translate(0,418.5)\" d=\"M80,0h640\" style=\"stroke: rgb(255, 255, 255); stroke-opacity: 1; stroke-width: 2px;\"/></g><path class=\"xlines-below\"/><path class=\"ylines-below\"/><g class=\"overlines-below\"/><g class=\"xaxislayer-below\"/><g class=\"yaxislayer-below\"/><g class=\"overaxes-below\"/><g class=\"plot\" transform=\"translate(80,100)\" clip-path=\"url(#clip23177fxyplot)\"><g class=\"barlayer mlayer\"><g class=\"trace bars\" style=\"opacity: 1;\"><g class=\"points\"><g class=\"point\"><path d=\"M1.78,318.5V272.33H69.33V318.5Z\" style=\"vector-effect: non-scaling-stroke; opacity: 1; stroke-width: 0px; fill: rgb(0, 128, 128); fill-opacity: 1;\"/></g><g class=\"point\"><path d=\"M72.89,318.5V189.23H140.44V318.5Z\" style=\"vector-effect: non-scaling-stroke; opacity: 1; stroke-width: 0px; fill: rgb(0, 128, 128); fill-opacity: 1;\"/></g><g class=\"point\"><path d=\"M144,318.5V73.82H211.56V318.5Z\" style=\"vector-effect: non-scaling-stroke; opacity: 1; stroke-width: 0px; fill: rgb(0, 128, 128); fill-opacity: 1;\"/></g><g class=\"point\"><path d=\"M215.11,318.5V46.12H282.67V318.5Z\" style=\"vector-effect: non-scaling-stroke; opacity: 1; stroke-width: 0px; fill: rgb(0, 128, 128); fill-opacity: 1;\"/></g><g class=\"point\"><path d=\"M286.22,318.5V180H353.78V318.5Z\" style=\"vector-effect: non-scaling-stroke; opacity: 1; stroke-width: 0px; fill: rgb(0, 128, 128); fill-opacity: 1;\"/></g><g class=\"point\"><path d=\"M357.33,318.5V221.55H424.89V318.5Z\" style=\"vector-effect: non-scaling-stroke; opacity: 1; stroke-width: 0px; fill: rgb(0, 128, 128); fill-opacity: 1;\"/></g><g class=\"point\"><path d=\"M428.44,318.5V258.48H496V318.5Z\" style=\"vector-effect: non-scaling-stroke; opacity: 1; stroke-width: 0px; fill: rgb(0, 128, 128); fill-opacity: 1;\"/></g><g class=\"point\"><path d=\"M499.56,318.5V263.1H567.11V318.5Z\" style=\"vector-effect: non-scaling-stroke; opacity: 1; stroke-width: 0px; fill: rgb(0, 128, 128); fill-opacity: 1;\"/></g><g class=\"point\"><path d=\"M570.67,318.5V267.72H638.22V318.5Z\" style=\"vector-effect: non-scaling-stroke; opacity: 1; stroke-width: 0px; fill: rgb(0, 128, 128); fill-opacity: 1;\"/></g></g></g></g></g><g class=\"overplot\"/><path class=\"xlines-above crisp\" d=\"M0,0\" style=\"fill: none;\"/><path class=\"ylines-above crisp\" d=\"M0,0\" style=\"fill: none;\"/><g class=\"overlines-above\"/><g class=\"xaxislayer-above\"><g class=\"xtick\"><text text-anchor=\"middle\" x=\"0\" y=\"433\" transform=\"translate(158.22,0)\" style=\"font-family: 'Open Sans', verdana, arial, sans-serif; font-size: 12px; fill: rgb(42, 63, 95); fill-opacity: 1; white-space: pre; opacity: 1;\">20</text></g><g class=\"xtick\"><text text-anchor=\"middle\" x=\"0\" y=\"433\" style=\"font-family: 'Open Sans', verdana, arial, sans-serif; font-size: 12px; fill: rgb(42, 63, 95); fill-opacity: 1; white-space: pre; opacity: 1;\" transform=\"translate(300.44,0)\">30</text></g><g class=\"xtick\"><text text-anchor=\"middle\" x=\"0\" y=\"433\" style=\"font-family: 'Open Sans', verdana, arial, sans-serif; font-size: 12px; fill: rgb(42, 63, 95); fill-opacity: 1; white-space: pre; opacity: 1;\" transform=\"translate(442.67,0)\">40</text></g><g class=\"xtick\"><text text-anchor=\"middle\" x=\"0\" y=\"433\" style=\"font-family: 'Open Sans', verdana, arial, sans-serif; font-size: 12px; fill: rgb(42, 63, 95); fill-opacity: 1; white-space: pre; opacity: 1;\" transform=\"translate(584.89,0)\">50</text></g></g><g class=\"yaxislayer-above\"><g class=\"ytick\"><text text-anchor=\"end\" x=\"79\" y=\"4.199999999999999\" transform=\"translate(0,418.5)\" style=\"font-family: 'Open Sans', verdana, arial, sans-serif; font-size: 12px; fill: rgb(42, 63, 95); fill-opacity: 1; white-space: pre; opacity: 1;\">0</text></g><g class=\"ytick\"><text text-anchor=\"end\" x=\"79\" y=\"4.199999999999999\" style=\"font-family: 'Open Sans', verdana, arial, sans-serif; font-size: 12px; fill: rgb(42, 63, 95); fill-opacity: 1; white-space: pre; opacity: 1;\" transform=\"translate(0,372.33)\">10</text></g><g class=\"ytick\"><text text-anchor=\"end\" x=\"79\" y=\"4.199999999999999\" style=\"font-family: 'Open Sans', verdana, arial, sans-serif; font-size: 12px; fill: rgb(42, 63, 95); fill-opacity: 1; white-space: pre; opacity: 1;\" transform=\"translate(0,326.16999999999996)\">20</text></g><g class=\"ytick\"><text text-anchor=\"end\" x=\"79\" y=\"4.199999999999999\" style=\"font-family: 'Open Sans', verdana, arial, sans-serif; font-size: 12px; fill: rgb(42, 63, 95); fill-opacity: 1; white-space: pre; opacity: 1;\" transform=\"translate(0,280)\">30</text></g><g class=\"ytick\"><text text-anchor=\"end\" x=\"79\" y=\"4.199999999999999\" style=\"font-family: 'Open Sans', verdana, arial, sans-serif; font-size: 12px; fill: rgb(42, 63, 95); fill-opacity: 1; white-space: pre; opacity: 1;\" transform=\"translate(0,233.83)\">40</text></g><g class=\"ytick\"><text text-anchor=\"end\" x=\"79\" y=\"4.199999999999999\" style=\"font-family: 'Open Sans', verdana, arial, sans-serif; font-size: 12px; fill: rgb(42, 63, 95); fill-opacity: 1; white-space: pre; opacity: 1;\" transform=\"translate(0,187.67000000000002)\">50</text></g><g class=\"ytick\"><text text-anchor=\"end\" x=\"79\" y=\"4.199999999999999\" style=\"font-family: 'Open Sans', verdana, arial, sans-serif; font-size: 12px; fill: rgb(42, 63, 95); fill-opacity: 1; white-space: pre; opacity: 1;\" transform=\"translate(0,141.5)\">60</text></g></g><g class=\"overaxes-above\"/></g></g><g class=\"polarlayer\"/><g class=\"smithlayer\"/><g class=\"ternarylayer\"/><g class=\"geolayer\"/><g class=\"funnelarealayer\"/><g class=\"pielayer\"/><g class=\"iciclelayer\"/><g class=\"treemaplayer\"/><g class=\"sunburstlayer\"/><g class=\"glimages\"/><defs id=\"topdefs-23177f\"><g class=\"clips\"/></defs><g class=\"layer-above\"><g class=\"imagelayer\"/><g class=\"shapelayer\"><path data-index=\"0\" fill-rule=\"evenodd\" d=\"M351.75,418.5L351.75,141.5\" clip-path=\"url(#clip23177fxy)\" style=\"opacity: 0.8; stroke: rgb(0, 0, 0); stroke-opacity: 1; fill: rgb(0, 0, 0); fill-opacity: 0; stroke-dasharray: 9px, 9px; stroke-width: 3px;\"/></g></g><g class=\"infolayer\"><g class=\"g-gtitle\"><text class=\"gtitle\" x=\"40\" y=\"50\" text-anchor=\"start\" dy=\"0em\" style=\"font-family: 'Open Sans', verdana, arial, sans-serif; font-size: 17px; fill: rgb(42, 63, 95); opacity: 1; font-weight: normal; white-space: pre;\">Age Distribution of Employees Left</text></g><g class=\"g-xtitle\"><text class=\"xtitle\" x=\"400\" y=\"460.8\" text-anchor=\"middle\" style=\"font-family: 'Open Sans', verdana, arial, sans-serif; font-size: 14px; fill: rgb(42, 63, 95); opacity: 1; font-weight: normal; white-space: pre;\">Age of Employees Left</text></g><g class=\"g-ytitle\"><text class=\"ytitle\" transform=\"rotate(-90,38.934375,260)\" x=\"38.934375\" y=\"260\" text-anchor=\"middle\" style=\"font-family: 'Open Sans', verdana, arial, sans-serif; font-size: 14px; fill: rgb(42, 63, 95); opacity: 1; font-weight: normal; white-space: pre;\">Count of Employees Left</text></g><g class=\"annotation\" data-index=\"0\" style=\"opacity: 1;\"><g class=\"annotation-text-g\" transform=\"rotate(0,341.75,111.5)\"><g class=\"cursor-pointer\" transform=\"translate(284,100)\"><rect class=\"bg\" x=\"0.5\" y=\"0.5\" width=\"115\" height=\"22\" style=\"stroke-width: 1px; stroke: rgb(0, 0, 0); stroke-opacity: 0; fill: rgb(0, 0, 0); fill-opacity: 0;\"/><text class=\"annotation-text\" text-anchor=\"middle\" x=\"58.03125\" y=\"18\" style=\"font-family: 'Open Sans', verdana, arial, sans-serif; font-size: 16px; fill: rgb(0, 0, 0); fill-opacity: 1; white-space: pre;\">Mean Age: 33</text></g></g><g class=\"annotation-arrow-g\" style=\"opacity: 1;\"><path d=\"M345.4166666666667,122.5L351.75,141.5\" style=\"stroke-width: 1px; stroke: rgb(42, 63, 95); stroke-opacity: 1; stroke-dasharray: 0px, 0px, 20.0278px, 20.0278px;\"/></g></g></g></svg>"
      ]
     },
     "metadata": {},
     "output_type": "display_data"
    }
   ],
   "source": [
    "fig = px.histogram(df_left, x='Age', nbins=15,\n",
    "                   title='Age Distribution of Employees Left',\n",
    "                   color_discrete_sequence=['#008080'])\n",
    "fig.update_layout(bargap=0.05, width=800, height=500, plot_bgcolor='#FFFFFF')\n",
    "mean_age = df_left['Age'].mean()\n",
    "fig.add_shape(\n",
    "    dict(\n",
    "        type='line',\n",
    "        line=dict(color='black', width=3, dash='dash'),\n",
    "        x0=mean_age,\n",
    "        x1=mean_age,\n",
    "        y0=0,\n",
    "        y1=60,\n",
    "        name='Mean Age',\n",
    "        opacity=0.8\n",
    "    )\n",
    ")\n",
    "fig.add_annotation(\n",
    "    x = mean_age,\n",
    "    y = 60,\n",
    "    text = f'Mean Age: {int(mean_age):.0f}',\n",
    "    font = dict(size=16, color='#000000')\n",
    ")\n",
    "fig.update_xaxes(title='Age of Employees Left', showgrid=False)\n",
    "fig.update_yaxes(title='Count of Employees Left', showgrid=False)\n",
    "\n",
    "fig.show(renderer=\"svg\")"
   ]
  },
  {
   "cell_type": "code",
   "execution_count": 8,
   "metadata": {},
   "outputs": [
    {
     "data": {
      "image/svg+xml": [
       "<svg class=\"main-svg\" xmlns=\"http://www.w3.org/2000/svg\" xmlns:xlink=\"http://www.w3.org/1999/xlink\" width=\"800\" height=\"500\" style=\"\" viewBox=\"0 0 800 500\"><rect x=\"0\" y=\"0\" width=\"800\" height=\"500\" style=\"fill: rgb(255, 255, 255); fill-opacity: 1;\"/><defs id=\"defs-977d63\"><g class=\"clips\"><clipPath id=\"clip977d63xyplot\" class=\"plotclip\"><rect width=\"640\" height=\"320\"/></clipPath><clipPath class=\"axesclip\" id=\"clip977d63x\"><rect x=\"80\" y=\"0\" width=\"640\" height=\"500\"/></clipPath><clipPath class=\"axesclip\" id=\"clip977d63y\"><rect x=\"0\" y=\"100\" width=\"800\" height=\"320\"/></clipPath><clipPath class=\"axesclip\" id=\"clip977d63xy\"><rect x=\"80\" y=\"100\" width=\"640\" height=\"320\"/></clipPath></g><g class=\"gradients\"/><g class=\"patterns\"/></defs><g class=\"bglayer\"><rect class=\"bg\" x=\"80\" y=\"100\" width=\"640\" height=\"320\" style=\"fill: rgb(255, 255, 255); fill-opacity: 1; stroke-width: 0;\"/></g><g class=\"layer-below\"><g class=\"imagelayer\"/><g class=\"shapelayer\"/></g><g class=\"cartesianlayer\"><g class=\"subplot xy\"><g class=\"layer-subplot\"><g class=\"shapelayer\"/><g class=\"imagelayer\"/></g><g class=\"minor-gridlayer\"><g class=\"x\"/><g class=\"y\"/></g><g class=\"gridlayer\"><g class=\"x\"/><g class=\"y\"/></g><g class=\"zerolinelayer\"><path class=\"yzl zl crisp\" transform=\"translate(0,418.5)\" d=\"M80,0h640\" style=\"stroke: rgb(255, 255, 255); stroke-opacity: 1; stroke-width: 2px;\"/></g><path class=\"xlines-below\"/><path class=\"ylines-below\"/><g class=\"overlines-below\"/><g class=\"xaxislayer-below\"/><g class=\"yaxislayer-below\"/><g class=\"overaxes-below\"/><g class=\"plot\" transform=\"translate(80,100)\" clip-path=\"url(#clip977d63xyplot)\"><g class=\"barlayer mlayer\"><g class=\"trace bars\" style=\"opacity: 1;\"><g class=\"points\"><g class=\"point\"><path d=\"M1.6,318.5V311.58H62.4V318.5Z\" style=\"vector-effect: non-scaling-stroke; opacity: 1; stroke-width: 0px; fill: rgb(0, 128, 128); fill-opacity: 1;\"/></g><g class=\"point\"><path d=\"M65.6,318.5V267.06H126.4V318.5Z\" style=\"vector-effect: non-scaling-stroke; opacity: 1; stroke-width: 0px; fill: rgb(0, 128, 128); fill-opacity: 1;\"/></g><g class=\"point\"><path d=\"M129.6,318.5V144.39H190.4V318.5Z\" style=\"vector-effect: non-scaling-stroke; opacity: 1; stroke-width: 0px; fill: rgb(0, 128, 128); fill-opacity: 1;\"/></g><g class=\"point\"><path d=\"M193.6,318.5V55.35H254.4V318.5Z\" style=\"vector-effect: non-scaling-stroke; opacity: 1; stroke-width: 0px; fill: rgb(0, 128, 128); fill-opacity: 1;\"/></g><g class=\"point\"><path d=\"M257.6,318.5V54.36H318.4V318.5Z\" style=\"vector-effect: non-scaling-stroke; opacity: 1; stroke-width: 0px; fill: rgb(0, 128, 128); fill-opacity: 1;\"/></g><g class=\"point\"><path d=\"M321.6,318.5V133.5H382.4V318.5Z\" style=\"vector-effect: non-scaling-stroke; opacity: 1; stroke-width: 0px; fill: rgb(0, 128, 128); fill-opacity: 1;\"/></g><g class=\"point\"><path d=\"M385.6,318.5V191.87H446.4V318.5Z\" style=\"vector-effect: non-scaling-stroke; opacity: 1; stroke-width: 0px; fill: rgb(0, 128, 128); fill-opacity: 1;\"/></g><g class=\"point\"><path d=\"M449.6,318.5V227.49H510.4V318.5Z\" style=\"vector-effect: non-scaling-stroke; opacity: 1; stroke-width: 0px; fill: rgb(0, 128, 128); fill-opacity: 1;\"/></g><g class=\"point\"><path d=\"M513.6,318.5V266.07H574.4V318.5Z\" style=\"vector-effect: non-scaling-stroke; opacity: 1; stroke-width: 0px; fill: rgb(0, 128, 128); fill-opacity: 1;\"/></g><g class=\"point\"><path d=\"M577.6,318.5V313.55H638.4V318.5Z\" style=\"vector-effect: non-scaling-stroke; opacity: 1; stroke-width: 0px; fill: rgb(0, 128, 128); fill-opacity: 1;\"/></g></g></g></g></g><g class=\"overplot\"/><path class=\"xlines-above crisp\" d=\"M0,0\" style=\"fill: none;\"/><path class=\"ylines-above crisp\" d=\"M0,0\" style=\"fill: none;\"/><g class=\"overlines-above\"/><g class=\"xaxislayer-above\"><g class=\"xtick\"><text text-anchor=\"middle\" x=\"0\" y=\"433\" transform=\"translate(150.4,0)\" style=\"font-family: 'Open Sans', verdana, arial, sans-serif; font-size: 12px; fill: rgb(42, 63, 95); fill-opacity: 1; white-space: pre; opacity: 1;\">20</text></g><g class=\"xtick\"><text text-anchor=\"middle\" x=\"0\" y=\"433\" style=\"font-family: 'Open Sans', verdana, arial, sans-serif; font-size: 12px; fill: rgb(42, 63, 95); fill-opacity: 1; white-space: pre; opacity: 1;\" transform=\"translate(278.4,0)\">30</text></g><g class=\"xtick\"><text text-anchor=\"middle\" x=\"0\" y=\"433\" style=\"font-family: 'Open Sans', verdana, arial, sans-serif; font-size: 12px; fill: rgb(42, 63, 95); fill-opacity: 1; white-space: pre; opacity: 1;\" transform=\"translate(406.4,0)\">40</text></g><g class=\"xtick\"><text text-anchor=\"middle\" x=\"0\" y=\"433\" style=\"font-family: 'Open Sans', verdana, arial, sans-serif; font-size: 12px; fill: rgb(42, 63, 95); fill-opacity: 1; white-space: pre; opacity: 1;\" transform=\"translate(534.4,0)\">50</text></g><g class=\"xtick\"><text text-anchor=\"middle\" x=\"0\" y=\"433\" style=\"font-family: 'Open Sans', verdana, arial, sans-serif; font-size: 12px; fill: rgb(42, 63, 95); fill-opacity: 1; white-space: pre; opacity: 1;\" transform=\"translate(662.4,0)\">60</text></g></g><g class=\"yaxislayer-above\"><g class=\"ytick\"><text text-anchor=\"end\" x=\"79\" y=\"4.199999999999999\" transform=\"translate(0,418.5)\" style=\"font-family: 'Open Sans', verdana, arial, sans-serif; font-size: 12px; fill: rgb(42, 63, 95); fill-opacity: 1; white-space: pre; opacity: 1;\">0</text></g><g class=\"ytick\"><text text-anchor=\"end\" x=\"79\" y=\"4.199999999999999\" style=\"font-family: 'Open Sans', verdana, arial, sans-serif; font-size: 12px; fill: rgb(42, 63, 95); fill-opacity: 1; white-space: pre; opacity: 1;\" transform=\"translate(0,369.04)\">50</text></g><g class=\"ytick\"><text text-anchor=\"end\" x=\"79\" y=\"4.199999999999999\" style=\"font-family: 'Open Sans', verdana, arial, sans-serif; font-size: 12px; fill: rgb(42, 63, 95); fill-opacity: 1; white-space: pre; opacity: 1;\" transform=\"translate(0,319.57)\">100</text></g><g class=\"ytick\"><text text-anchor=\"end\" x=\"79\" y=\"4.199999999999999\" style=\"font-family: 'Open Sans', verdana, arial, sans-serif; font-size: 12px; fill: rgb(42, 63, 95); fill-opacity: 1; white-space: pre; opacity: 1;\" transform=\"translate(0,270.11)\">150</text></g><g class=\"ytick\"><text text-anchor=\"end\" x=\"79\" y=\"4.199999999999999\" style=\"font-family: 'Open Sans', verdana, arial, sans-serif; font-size: 12px; fill: rgb(42, 63, 95); fill-opacity: 1; white-space: pre; opacity: 1;\" transform=\"translate(0,220.64)\">200</text></g><g class=\"ytick\"><text text-anchor=\"end\" x=\"79\" y=\"4.199999999999999\" style=\"font-family: 'Open Sans', verdana, arial, sans-serif; font-size: 12px; fill: rgb(42, 63, 95); fill-opacity: 1; white-space: pre; opacity: 1;\" transform=\"translate(0,171.18)\">250</text></g><g class=\"ytick\"><text text-anchor=\"end\" x=\"79\" y=\"4.199999999999999\" style=\"font-family: 'Open Sans', verdana, arial, sans-serif; font-size: 12px; fill: rgb(42, 63, 95); fill-opacity: 1; white-space: pre; opacity: 1;\" transform=\"translate(0,121.71000000000001)\">300</text></g></g><g class=\"overaxes-above\"/></g></g><g class=\"polarlayer\"/><g class=\"smithlayer\"/><g class=\"ternarylayer\"/><g class=\"geolayer\"/><g class=\"funnelarealayer\"/><g class=\"pielayer\"/><g class=\"iciclelayer\"/><g class=\"treemaplayer\"/><g class=\"sunburstlayer\"/><g class=\"glimages\"/><defs id=\"topdefs-977d63\"><g class=\"clips\"/></defs><g class=\"layer-above\"><g class=\"imagelayer\"/><g class=\"shapelayer\"><path data-index=\"0\" fill-rule=\"evenodd\" d=\"M375.18,418.5L375.18,141.5\" clip-path=\"url(#clip977d63xy)\" style=\"opacity: 0.8; stroke: rgb(0, 0, 0); stroke-opacity: 1; fill: rgb(0, 0, 0); fill-opacity: 0; stroke-dasharray: 9px, 9px; stroke-width: 3px;\"/></g></g><g class=\"infolayer\"><g class=\"g-gtitle\"><text class=\"gtitle\" x=\"40\" y=\"50\" text-anchor=\"start\" dy=\"0em\" style=\"font-family: 'Open Sans', verdana, arial, sans-serif; font-size: 17px; fill: rgb(42, 63, 95); opacity: 1; font-weight: normal; white-space: pre;\">Age Distribution of Employees Stayed</text></g><g class=\"g-xtitle\"><text class=\"xtitle\" x=\"400\" y=\"460.8\" text-anchor=\"middle\" style=\"font-family: 'Open Sans', verdana, arial, sans-serif; font-size: 14px; fill: rgb(42, 63, 95); opacity: 1; font-weight: normal; white-space: pre;\">Age of Employees Stayed</text></g><g class=\"g-ytitle\"><text class=\"ytitle\" transform=\"rotate(-90,31.309375000000003,260)\" x=\"31.309375000000003\" y=\"260\" text-anchor=\"middle\" style=\"font-family: 'Open Sans', verdana, arial, sans-serif; font-size: 14px; fill: rgb(42, 63, 95); opacity: 1; font-weight: normal; white-space: pre;\">Count of Employees Stayed</text></g><g class=\"annotation\" data-index=\"0\" style=\"opacity: 1;\"><g class=\"annotation-text-g\" transform=\"rotate(0,365.18,111.5)\"><g class=\"cursor-pointer\" transform=\"translate(307,100)\"><rect class=\"bg\" x=\"0.5\" y=\"0.5\" width=\"115\" height=\"22\" style=\"stroke-width: 1px; stroke: rgb(0, 0, 0); stroke-opacity: 0; fill: rgb(0, 0, 0); fill-opacity: 0;\"/><text class=\"annotation-text\" text-anchor=\"middle\" x=\"58.03125\" y=\"18\" style=\"font-family: 'Open Sans', verdana, arial, sans-serif; font-size: 16px; fill: rgb(0, 0, 0); fill-opacity: 1; white-space: pre;\">Mean Age: 37</text></g></g><g class=\"annotation-arrow-g\" style=\"opacity: 1;\"><path d=\"M368.8466666666667,122.5L375.18,141.5\" style=\"stroke-width: 1px; stroke: rgb(42, 63, 95); stroke-opacity: 1; stroke-dasharray: 0px, 0px, 20.0278px, 20.0278px;\"/></g></g></g></svg>"
      ]
     },
     "metadata": {},
     "output_type": "display_data"
    }
   ],
   "source": [
    "fig = px.histogram(df_stayed, x = 'Age', nbins=15,\n",
    "                   title='Age Distribution of Employees Stayed',\n",
    "                   color_discrete_sequence=['#008080'])\n",
    "fig.update_layout(bargap = 0.05, width = 800, height = 500, plot_bgcolor = '#FFFFFF')\n",
    "mean_age = df_stayed['Age'].mean()\n",
    "fig.add_shape(\n",
    "    dict(\n",
    "        type = 'line',\n",
    "        line = dict(color = 'black', width = 3, dash = 'dash'),\n",
    "        x0 = mean_age,\n",
    "        x1 = mean_age,\n",
    "        y0 = 0, \n",
    "        y1 = 280,\n",
    "        name = 'Mean Age',\n",
    "        opacity = 0.8\n",
    "    )\n",
    ")\n",
    "fig.add_annotation(\n",
    "    x = mean_age,\n",
    "    y = 280, \n",
    "    text = f'Mean Age: {int(mean_age):.0f}',\n",
    "    font = dict(size = 16, color = '#000000')\n",
    ")\n",
    "fig.update_xaxes(title = 'Age of Employees Stayed', showgrid = False)\n",
    "fig.update_yaxes(title = 'Count of Employees Stayed', showgrid = False)\n",
    "\n",
    "fig.show(renderer=\"svg\")"
   ]
  },
  {
   "cell_type": "markdown",
   "metadata": {},
   "source": [
    "##### Attrition Vs. Gender"
   ]
  },
  {
   "cell_type": "code",
   "execution_count": 9,
   "metadata": {},
   "outputs": [
    {
     "data": {
      "application/vnd.plotly.v1+json": {
       "config": {
        "plotlyServerURL": "https://plot.ly"
       },
       "data": [
        {
         "alignmentgroup": "True",
         "bingroup": "x",
         "hovertemplate": "Attrition=Yes<br>Gender=%{x}<br>count=%{y}<extra></extra>",
         "legendgroup": "Yes",
         "marker": {
          "color": "#008080",
          "pattern": {
           "shape": ""
          }
         },
         "name": "Yes",
         "nbinsx": 15,
         "offsetgroup": "Yes",
         "orientation": "v",
         "showlegend": true,
         "type": "histogram",
         "x": [
          "Female",
          "Male",
          "Male",
          "Male",
          "Male",
          "Female",
          "Male",
          "Male",
          "Male",
          "Male",
          "Female",
          "Male",
          "Male",
          "Male",
          "Male",
          "Male",
          "Female",
          "Male",
          "Male",
          "Female",
          "Male",
          "Female",
          "Male",
          "Female",
          "Male",
          "Female",
          "Female",
          "Male",
          "Female",
          "Male",
          "Male",
          "Female",
          "Male",
          "Female",
          "Female",
          "Male",
          "Male",
          "Male",
          "Female",
          "Male",
          "Male",
          "Male",
          "Male",
          "Male",
          "Male",
          "Male",
          "Male",
          "Male",
          "Male",
          "Male",
          "Female",
          "Male",
          "Female",
          "Female",
          "Male",
          "Male",
          "Female",
          "Male",
          "Male",
          "Male",
          "Male",
          "Female",
          "Female",
          "Female",
          "Male",
          "Male",
          "Male",
          "Male",
          "Female",
          "Male",
          "Female",
          "Male",
          "Male",
          "Male",
          "Female",
          "Male",
          "Male",
          "Male",
          "Female",
          "Male",
          "Male",
          "Female",
          "Male",
          "Female",
          "Male",
          "Male",
          "Female",
          "Male",
          "Male",
          "Male",
          "Female",
          "Female",
          "Male",
          "Male",
          "Female",
          "Male",
          "Female",
          "Female",
          "Female",
          "Male",
          "Male",
          "Female",
          "Female",
          "Female",
          "Female",
          "Male",
          "Male",
          "Male",
          "Male",
          "Male",
          "Male",
          "Male",
          "Female",
          "Male",
          "Female",
          "Female",
          "Male",
          "Female",
          "Female",
          "Female",
          "Male",
          "Female",
          "Female",
          "Male",
          "Male",
          "Female",
          "Female",
          "Male",
          "Male",
          "Male",
          "Male",
          "Female",
          "Male",
          "Male",
          "Male",
          "Male",
          "Male",
          "Male",
          "Male",
          "Female",
          "Male",
          "Female",
          "Male",
          "Female",
          "Female",
          "Male",
          "Male",
          "Male",
          "Female",
          "Female",
          "Male",
          "Female",
          "Female",
          "Female",
          "Female",
          "Male",
          "Male",
          "Male",
          "Male",
          "Female",
          "Male",
          "Female",
          "Male",
          "Female",
          "Female",
          "Male",
          "Female",
          "Male",
          "Female",
          "Female",
          "Female",
          "Male",
          "Male",
          "Female",
          "Female",
          "Male",
          "Female",
          "Male",
          "Female",
          "Female",
          "Male",
          "Male",
          "Male",
          "Male",
          "Female",
          "Male",
          "Female",
          "Female",
          "Male",
          "Male",
          "Female",
          "Male",
          "Male",
          "Male",
          "Male",
          "Male",
          "Female",
          "Male",
          "Male",
          "Male",
          "Male",
          "Male",
          "Male",
          "Female",
          "Female",
          "Female",
          "Male",
          "Male",
          "Male",
          "Female",
          "Male",
          "Male",
          "Male",
          "Male",
          "Female",
          "Female",
          "Male",
          "Male",
          "Male",
          "Male",
          "Female",
          "Male",
          "Male",
          "Male",
          "Male",
          "Male",
          "Female",
          "Female",
          "Female",
          "Male",
          "Male",
          "Male",
          "Male",
          "Male",
          "Male",
          "Male",
          "Male"
         ],
         "xaxis": "x",
         "yaxis": "y"
        },
        {
         "alignmentgroup": "True",
         "bingroup": "x",
         "hovertemplate": "Attrition=No<br>Gender=%{x}<br>count=%{y}<extra></extra>",
         "legendgroup": "No",
         "marker": {
          "color": "#00cccc",
          "pattern": {
           "shape": ""
          }
         },
         "name": "No",
         "nbinsx": 15,
         "offsetgroup": "No",
         "orientation": "v",
         "showlegend": true,
         "type": "histogram",
         "x": [
          "Male",
          "Female",
          "Male",
          "Male",
          "Female",
          "Male",
          "Male",
          "Male",
          "Male",
          "Female",
          "Male",
          "Male",
          "Female",
          "Male",
          "Male",
          "Female",
          "Male",
          "Female",
          "Female",
          "Male",
          "Female",
          "Male",
          "Female",
          "Female",
          "Male",
          "Male",
          "Male",
          "Female",
          "Female",
          "Female",
          "Female",
          "Male",
          "Female",
          "Male",
          "Female",
          "Male",
          "Male",
          "Male",
          "Male",
          "Female",
          "Male",
          "Female",
          "Female",
          "Male",
          "Female",
          "Male",
          "Male",
          "Male",
          "Female",
          "Female",
          "Female",
          "Female",
          "Female",
          "Male",
          "Male",
          "Male",
          "Female",
          "Male",
          "Male",
          "Male",
          "Female",
          "Female",
          "Male",
          "Male",
          "Male",
          "Male",
          "Male",
          "Male",
          "Male",
          "Female",
          "Male",
          "Male",
          "Male",
          "Male",
          "Male",
          "Male",
          "Male",
          "Female",
          "Male",
          "Male",
          "Female",
          "Female",
          "Male",
          "Male",
          "Male",
          "Male",
          "Female",
          "Male",
          "Female",
          "Female",
          "Male",
          "Female",
          "Female",
          "Female",
          "Male",
          "Female",
          "Male",
          "Female",
          "Female",
          "Female",
          "Male",
          "Male",
          "Male",
          "Male",
          "Female",
          "Male",
          "Female",
          "Female",
          "Female",
          "Male",
          "Female",
          "Male",
          "Female",
          "Male",
          "Male",
          "Male",
          "Female",
          "Female",
          "Male",
          "Female",
          "Male",
          "Male",
          "Male",
          "Female",
          "Female",
          "Male",
          "Male",
          "Male",
          "Female",
          "Male",
          "Male",
          "Female",
          "Male",
          "Female",
          "Male",
          "Male",
          "Male",
          "Male",
          "Male",
          "Female",
          "Male",
          "Female",
          "Female",
          "Male",
          "Male",
          "Male",
          "Male",
          "Female",
          "Female",
          "Male",
          "Female",
          "Female",
          "Female",
          "Female",
          "Male",
          "Female",
          "Female",
          "Female",
          "Male",
          "Male",
          "Female",
          "Male",
          "Female",
          "Male",
          "Male",
          "Male",
          "Female",
          "Female",
          "Male",
          "Male",
          "Male",
          "Male",
          "Male",
          "Male",
          "Male",
          "Female",
          "Male",
          "Male",
          "Male",
          "Female",
          "Male",
          "Female",
          "Female",
          "Female",
          "Male",
          "Female",
          "Male",
          "Male",
          "Male",
          "Male",
          "Male",
          "Female",
          "Female",
          "Female",
          "Male",
          "Male",
          "Female",
          "Female",
          "Male",
          "Female",
          "Female",
          "Male",
          "Male",
          "Male",
          "Male",
          "Male",
          "Female",
          "Male",
          "Female",
          "Male",
          "Female",
          "Male",
          "Female",
          "Male",
          "Female",
          "Female",
          "Male",
          "Male",
          "Male",
          "Male",
          "Male",
          "Female",
          "Male",
          "Male",
          "Male",
          "Male",
          "Male",
          "Male",
          "Male",
          "Male",
          "Male",
          "Female",
          "Female",
          "Female",
          "Female",
          "Male",
          "Male",
          "Male",
          "Male",
          "Male",
          "Male",
          "Female",
          "Male",
          "Female",
          "Female",
          "Male",
          "Female",
          "Male",
          "Female",
          "Male",
          "Male",
          "Male",
          "Male",
          "Female",
          "Male",
          "Male",
          "Male",
          "Female",
          "Male",
          "Female",
          "Male",
          "Male",
          "Male",
          "Male",
          "Male",
          "Female",
          "Male",
          "Female",
          "Female",
          "Female",
          "Female",
          "Male",
          "Male",
          "Female",
          "Female",
          "Female",
          "Male",
          "Male",
          "Male",
          "Female",
          "Male",
          "Female",
          "Female",
          "Male",
          "Male",
          "Male",
          "Female",
          "Female",
          "Male",
          "Male",
          "Female",
          "Female",
          "Male",
          "Male",
          "Male",
          "Male",
          "Female",
          "Male",
          "Male",
          "Female",
          "Female",
          "Male",
          "Female",
          "Male",
          "Male",
          "Female",
          "Male",
          "Male",
          "Female",
          "Male",
          "Female",
          "Female",
          "Male",
          "Male",
          "Male",
          "Male",
          "Male",
          "Male",
          "Male",
          "Female",
          "Female",
          "Female",
          "Female",
          "Male",
          "Female",
          "Male",
          "Female",
          "Female",
          "Female",
          "Male",
          "Male",
          "Female",
          "Male",
          "Female",
          "Female",
          "Male",
          "Female",
          "Female",
          "Female",
          "Male",
          "Male",
          "Female",
          "Female",
          "Male",
          "Male",
          "Male",
          "Male",
          "Female",
          "Female",
          "Female",
          "Female",
          "Female",
          "Female",
          "Male",
          "Female",
          "Female",
          "Male",
          "Male",
          "Female",
          "Male",
          "Male",
          "Female",
          "Female",
          "Female",
          "Male",
          "Male",
          "Female",
          "Male",
          "Female",
          "Male",
          "Male",
          "Male",
          "Male",
          "Male",
          "Female",
          "Female",
          "Male",
          "Male",
          "Female",
          "Female",
          "Male",
          "Male",
          "Male",
          "Male",
          "Female",
          "Male",
          "Male",
          "Female",
          "Male",
          "Female",
          "Male",
          "Female",
          "Female",
          "Female",
          "Male",
          "Male",
          "Male",
          "Female",
          "Female",
          "Male",
          "Male",
          "Male",
          "Male",
          "Male",
          "Male",
          "Male",
          "Male",
          "Male",
          "Female",
          "Male",
          "Female",
          "Female",
          "Male",
          "Female",
          "Male",
          "Female",
          "Female",
          "Female",
          "Male",
          "Male",
          "Male",
          "Male",
          "Female",
          "Female",
          "Female",
          "Male",
          "Female",
          "Male",
          "Female",
          "Male",
          "Male",
          "Male",
          "Male",
          "Male",
          "Male",
          "Male",
          "Male",
          "Female",
          "Male",
          "Male",
          "Female",
          "Male",
          "Male",
          "Female",
          "Female",
          "Male",
          "Female",
          "Female",
          "Female",
          "Male",
          "Male",
          "Male",
          "Male",
          "Male",
          "Male",
          "Male",
          "Male",
          "Female",
          "Female",
          "Male",
          "Female",
          "Male",
          "Male",
          "Male",
          "Female",
          "Male",
          "Female",
          "Male",
          "Female",
          "Female",
          "Male",
          "Male",
          "Female",
          "Male",
          "Male",
          "Female",
          "Male",
          "Female",
          "Male",
          "Male",
          "Male",
          "Male",
          "Male",
          "Female",
          "Female",
          "Female",
          "Female",
          "Male",
          "Female",
          "Female",
          "Female",
          "Female",
          "Male",
          "Female",
          "Female",
          "Male",
          "Male",
          "Female",
          "Male",
          "Male",
          "Female",
          "Female",
          "Male",
          "Female",
          "Female",
          "Male",
          "Female",
          "Male",
          "Female",
          "Female",
          "Male",
          "Male",
          "Female",
          "Male",
          "Male",
          "Male",
          "Female",
          "Male",
          "Male",
          "Female",
          "Male",
          "Male",
          "Male",
          "Female",
          "Male",
          "Male",
          "Male",
          "Female",
          "Male",
          "Female",
          "Female",
          "Male",
          "Male",
          "Male",
          "Male",
          "Male",
          "Male",
          "Male",
          "Female",
          "Male",
          "Male",
          "Female",
          "Male",
          "Male",
          "Male",
          "Female",
          "Male",
          "Male",
          "Male",
          "Female",
          "Female",
          "Female",
          "Female",
          "Male",
          "Male",
          "Female",
          "Male",
          "Female",
          "Male",
          "Male",
          "Female",
          "Male",
          "Female",
          "Female",
          "Female",
          "Male",
          "Female",
          "Male",
          "Female",
          "Male",
          "Female",
          "Female",
          "Male",
          "Female",
          "Male",
          "Female",
          "Female",
          "Male",
          "Male",
          "Male",
          "Male",
          "Female",
          "Male",
          "Female",
          "Female",
          "Male",
          "Female",
          "Female",
          "Male",
          "Male",
          "Male",
          "Female",
          "Male",
          "Male",
          "Male",
          "Male",
          "Male",
          "Female",
          "Female",
          "Male",
          "Female",
          "Male",
          "Female",
          "Male",
          "Female",
          "Male",
          "Male",
          "Male",
          "Female",
          "Female",
          "Male",
          "Female",
          "Female",
          "Female",
          "Male",
          "Male",
          "Male",
          "Male",
          "Female",
          "Female",
          "Female",
          "Male",
          "Male",
          "Male",
          "Female",
          "Male",
          "Female",
          "Male",
          "Female",
          "Female",
          "Female",
          "Female",
          "Female",
          "Female",
          "Male",
          "Male",
          "Male",
          "Female",
          "Female",
          "Male",
          "Male",
          "Male",
          "Female",
          "Male",
          "Female",
          "Male",
          "Female",
          "Female",
          "Female",
          "Male",
          "Male",
          "Female",
          "Male",
          "Male",
          "Female",
          "Female",
          "Male",
          "Male",
          "Male",
          "Female",
          "Male",
          "Male",
          "Male",
          "Female",
          "Male",
          "Female",
          "Male",
          "Male",
          "Female",
          "Male",
          "Male",
          "Female",
          "Female",
          "Male",
          "Male",
          "Female",
          "Male",
          "Female",
          "Male",
          "Male",
          "Male",
          "Male",
          "Male",
          "Male",
          "Male",
          "Female",
          "Male",
          "Male",
          "Male",
          "Male",
          "Male",
          "Female",
          "Male",
          "Female",
          "Male",
          "Female",
          "Male",
          "Male",
          "Male",
          "Male",
          "Male",
          "Female",
          "Male",
          "Male",
          "Male",
          "Female",
          "Female",
          "Female",
          "Male",
          "Female",
          "Female",
          "Male",
          "Female",
          "Female",
          "Female",
          "Male",
          "Male",
          "Male",
          "Male",
          "Female",
          "Male",
          "Male",
          "Male",
          "Female",
          "Male",
          "Male",
          "Male",
          "Male",
          "Male",
          "Male",
          "Male",
          "Female",
          "Female",
          "Female",
          "Male",
          "Female",
          "Male",
          "Male",
          "Female",
          "Female",
          "Male",
          "Female",
          "Female",
          "Female",
          "Male",
          "Male",
          "Female",
          "Female",
          "Male",
          "Male",
          "Male",
          "Male",
          "Male",
          "Male",
          "Male",
          "Female",
          "Female",
          "Male",
          "Male",
          "Female",
          "Male",
          "Male",
          "Male",
          "Female",
          "Female",
          "Male",
          "Male",
          "Female",
          "Male",
          "Male",
          "Male",
          "Male",
          "Female",
          "Female",
          "Female",
          "Male",
          "Female",
          "Female",
          "Male",
          "Female",
          "Male",
          "Female",
          "Female",
          "Male",
          "Female",
          "Female",
          "Female",
          "Female",
          "Female",
          "Female",
          "Male",
          "Female",
          "Male",
          "Male",
          "Female",
          "Male",
          "Male",
          "Male",
          "Male",
          "Female",
          "Male",
          "Male",
          "Female",
          "Female",
          "Male",
          "Male",
          "Female",
          "Male",
          "Female",
          "Female",
          "Female",
          "Female",
          "Male",
          "Male",
          "Female",
          "Female",
          "Male",
          "Male",
          "Female",
          "Male",
          "Male",
          "Male",
          "Female",
          "Male",
          "Male",
          "Male",
          "Male",
          "Male",
          "Female",
          "Female",
          "Female",
          "Male",
          "Female",
          "Female",
          "Female",
          "Male",
          "Male",
          "Male",
          "Male",
          "Female",
          "Female",
          "Male",
          "Female",
          "Female",
          "Female",
          "Male",
          "Male",
          "Male",
          "Female",
          "Male",
          "Male",
          "Female",
          "Female",
          "Female",
          "Male",
          "Female",
          "Male",
          "Male",
          "Male",
          "Male",
          "Female",
          "Male",
          "Male",
          "Male",
          "Male",
          "Male",
          "Male",
          "Male",
          "Male",
          "Male",
          "Male",
          "Male",
          "Male",
          "Female",
          "Female",
          "Male",
          "Male",
          "Male",
          "Male",
          "Male",
          "Female",
          "Male",
          "Male",
          "Male",
          "Male",
          "Female",
          "Female",
          "Male",
          "Male",
          "Female",
          "Female",
          "Male",
          "Male",
          "Male",
          "Female",
          "Male",
          "Female",
          "Female",
          "Female",
          "Male",
          "Male",
          "Male",
          "Male",
          "Male",
          "Male",
          "Female",
          "Male",
          "Male",
          "Male",
          "Male",
          "Male",
          "Male",
          "Male",
          "Male",
          "Male",
          "Female",
          "Female",
          "Male",
          "Female",
          "Male",
          "Male",
          "Male",
          "Male",
          "Male",
          "Male",
          "Female",
          "Male",
          "Male",
          "Male",
          "Female",
          "Male",
          "Female",
          "Female",
          "Male",
          "Female",
          "Male",
          "Male",
          "Male",
          "Male",
          "Male",
          "Male",
          "Male",
          "Male",
          "Female",
          "Male",
          "Male",
          "Male",
          "Female",
          "Male",
          "Female",
          "Female",
          "Male",
          "Female",
          "Male",
          "Male",
          "Female",
          "Male",
          "Female",
          "Male",
          "Male",
          "Male",
          "Female",
          "Male",
          "Female",
          "Male",
          "Female",
          "Female",
          "Male",
          "Female",
          "Female",
          "Female",
          "Female",
          "Female",
          "Male",
          "Male",
          "Female",
          "Female",
          "Male",
          "Male",
          "Female",
          "Male",
          "Male",
          "Female",
          "Female",
          "Female",
          "Female",
          "Male",
          "Female",
          "Female",
          "Male",
          "Female",
          "Male",
          "Male",
          "Male",
          "Male",
          "Male",
          "Female",
          "Female",
          "Female",
          "Female",
          "Male",
          "Male",
          "Male",
          "Female",
          "Male",
          "Female",
          "Female",
          "Male",
          "Male",
          "Male",
          "Male",
          "Male",
          "Male",
          "Male",
          "Female",
          "Female",
          "Male",
          "Male",
          "Male",
          "Male",
          "Female",
          "Female",
          "Male",
          "Male",
          "Female",
          "Male",
          "Male",
          "Male",
          "Female",
          "Male",
          "Male",
          "Male",
          "Male",
          "Male",
          "Male",
          "Female",
          "Female",
          "Male",
          "Male",
          "Male",
          "Female",
          "Female",
          "Male",
          "Male",
          "Female",
          "Male",
          "Male",
          "Male",
          "Female",
          "Female",
          "Female",
          "Female",
          "Male",
          "Male",
          "Male",
          "Male",
          "Male",
          "Male",
          "Male",
          "Male",
          "Female",
          "Male",
          "Female",
          "Female",
          "Female",
          "Female",
          "Male",
          "Male",
          "Male",
          "Male",
          "Male",
          "Male",
          "Male",
          "Male",
          "Female",
          "Male",
          "Male",
          "Male",
          "Male",
          "Male",
          "Male",
          "Female",
          "Female",
          "Female",
          "Male",
          "Male",
          "Male",
          "Female",
          "Female",
          "Female",
          "Female",
          "Female",
          "Female",
          "Male",
          "Male",
          "Female",
          "Female",
          "Female",
          "Male",
          "Female",
          "Male",
          "Male",
          "Male",
          "Female",
          "Male",
          "Male",
          "Male",
          "Male",
          "Female",
          "Female",
          "Male",
          "Female",
          "Male",
          "Female",
          "Male",
          "Male",
          "Female",
          "Female",
          "Male",
          "Male",
          "Male",
          "Male",
          "Female",
          "Female",
          "Male",
          "Male",
          "Female",
          "Female",
          "Female",
          "Male",
          "Male",
          "Female",
          "Male",
          "Female",
          "Female",
          "Female",
          "Male",
          "Male",
          "Male",
          "Male",
          "Female",
          "Male",
          "Male",
          "Male",
          "Female",
          "Male",
          "Female",
          "Female",
          "Male",
          "Male",
          "Male",
          "Male",
          "Male",
          "Male",
          "Male",
          "Male",
          "Male",
          "Male",
          "Male",
          "Female",
          "Male",
          "Male",
          "Female",
          "Male",
          "Male",
          "Female",
          "Male",
          "Male",
          "Male",
          "Male",
          "Female",
          "Male",
          "Male",
          "Female",
          "Female",
          "Male",
          "Male",
          "Female",
          "Female",
          "Female",
          "Male",
          "Male",
          "Male",
          "Male",
          "Male",
          "Male",
          "Male",
          "Male",
          "Male",
          "Female",
          "Male",
          "Male",
          "Male",
          "Female",
          "Female",
          "Male",
          "Male",
          "Male",
          "Female",
          "Female",
          "Female",
          "Female",
          "Male",
          "Male",
          "Male",
          "Male",
          "Female",
          "Female",
          "Male",
          "Male",
          "Female",
          "Female",
          "Male",
          "Male",
          "Male",
          "Female",
          "Female",
          "Female",
          "Female",
          "Male",
          "Male",
          "Female",
          "Female",
          "Male",
          "Female",
          "Female",
          "Male",
          "Female",
          "Male",
          "Male",
          "Male",
          "Male",
          "Male"
         ],
         "xaxis": "x",
         "yaxis": "y"
        }
       ],
       "layout": {
        "bargap": 0.05,
        "barmode": "group",
        "height": 500,
        "legend": {
         "title": {
          "text": "Attrition"
         },
         "tracegroupgap": 0
        },
        "margin": {
         "t": 60
        },
        "plot_bgcolor": "#FFFFFF",
        "template": {
         "data": {
          "bar": [
           {
            "error_x": {
             "color": "#2a3f5f"
            },
            "error_y": {
             "color": "#2a3f5f"
            },
            "marker": {
             "line": {
              "color": "#E5ECF6",
              "width": 0.5
             },
             "pattern": {
              "fillmode": "overlay",
              "size": 10,
              "solidity": 0.2
             }
            },
            "type": "bar"
           }
          ],
          "barpolar": [
           {
            "marker": {
             "line": {
              "color": "#E5ECF6",
              "width": 0.5
             },
             "pattern": {
              "fillmode": "overlay",
              "size": 10,
              "solidity": 0.2
             }
            },
            "type": "barpolar"
           }
          ],
          "carpet": [
           {
            "aaxis": {
             "endlinecolor": "#2a3f5f",
             "gridcolor": "white",
             "linecolor": "white",
             "minorgridcolor": "white",
             "startlinecolor": "#2a3f5f"
            },
            "baxis": {
             "endlinecolor": "#2a3f5f",
             "gridcolor": "white",
             "linecolor": "white",
             "minorgridcolor": "white",
             "startlinecolor": "#2a3f5f"
            },
            "type": "carpet"
           }
          ],
          "choropleth": [
           {
            "colorbar": {
             "outlinewidth": 0,
             "ticks": ""
            },
            "type": "choropleth"
           }
          ],
          "contour": [
           {
            "colorbar": {
             "outlinewidth": 0,
             "ticks": ""
            },
            "colorscale": [
             [
              0,
              "#0d0887"
             ],
             [
              0.1111111111111111,
              "#46039f"
             ],
             [
              0.2222222222222222,
              "#7201a8"
             ],
             [
              0.3333333333333333,
              "#9c179e"
             ],
             [
              0.4444444444444444,
              "#bd3786"
             ],
             [
              0.5555555555555556,
              "#d8576b"
             ],
             [
              0.6666666666666666,
              "#ed7953"
             ],
             [
              0.7777777777777778,
              "#fb9f3a"
             ],
             [
              0.8888888888888888,
              "#fdca26"
             ],
             [
              1,
              "#f0f921"
             ]
            ],
            "type": "contour"
           }
          ],
          "contourcarpet": [
           {
            "colorbar": {
             "outlinewidth": 0,
             "ticks": ""
            },
            "type": "contourcarpet"
           }
          ],
          "heatmap": [
           {
            "colorbar": {
             "outlinewidth": 0,
             "ticks": ""
            },
            "colorscale": [
             [
              0,
              "#0d0887"
             ],
             [
              0.1111111111111111,
              "#46039f"
             ],
             [
              0.2222222222222222,
              "#7201a8"
             ],
             [
              0.3333333333333333,
              "#9c179e"
             ],
             [
              0.4444444444444444,
              "#bd3786"
             ],
             [
              0.5555555555555556,
              "#d8576b"
             ],
             [
              0.6666666666666666,
              "#ed7953"
             ],
             [
              0.7777777777777778,
              "#fb9f3a"
             ],
             [
              0.8888888888888888,
              "#fdca26"
             ],
             [
              1,
              "#f0f921"
             ]
            ],
            "type": "heatmap"
           }
          ],
          "heatmapgl": [
           {
            "colorbar": {
             "outlinewidth": 0,
             "ticks": ""
            },
            "colorscale": [
             [
              0,
              "#0d0887"
             ],
             [
              0.1111111111111111,
              "#46039f"
             ],
             [
              0.2222222222222222,
              "#7201a8"
             ],
             [
              0.3333333333333333,
              "#9c179e"
             ],
             [
              0.4444444444444444,
              "#bd3786"
             ],
             [
              0.5555555555555556,
              "#d8576b"
             ],
             [
              0.6666666666666666,
              "#ed7953"
             ],
             [
              0.7777777777777778,
              "#fb9f3a"
             ],
             [
              0.8888888888888888,
              "#fdca26"
             ],
             [
              1,
              "#f0f921"
             ]
            ],
            "type": "heatmapgl"
           }
          ],
          "histogram": [
           {
            "marker": {
             "pattern": {
              "fillmode": "overlay",
              "size": 10,
              "solidity": 0.2
             }
            },
            "type": "histogram"
           }
          ],
          "histogram2d": [
           {
            "colorbar": {
             "outlinewidth": 0,
             "ticks": ""
            },
            "colorscale": [
             [
              0,
              "#0d0887"
             ],
             [
              0.1111111111111111,
              "#46039f"
             ],
             [
              0.2222222222222222,
              "#7201a8"
             ],
             [
              0.3333333333333333,
              "#9c179e"
             ],
             [
              0.4444444444444444,
              "#bd3786"
             ],
             [
              0.5555555555555556,
              "#d8576b"
             ],
             [
              0.6666666666666666,
              "#ed7953"
             ],
             [
              0.7777777777777778,
              "#fb9f3a"
             ],
             [
              0.8888888888888888,
              "#fdca26"
             ],
             [
              1,
              "#f0f921"
             ]
            ],
            "type": "histogram2d"
           }
          ],
          "histogram2dcontour": [
           {
            "colorbar": {
             "outlinewidth": 0,
             "ticks": ""
            },
            "colorscale": [
             [
              0,
              "#0d0887"
             ],
             [
              0.1111111111111111,
              "#46039f"
             ],
             [
              0.2222222222222222,
              "#7201a8"
             ],
             [
              0.3333333333333333,
              "#9c179e"
             ],
             [
              0.4444444444444444,
              "#bd3786"
             ],
             [
              0.5555555555555556,
              "#d8576b"
             ],
             [
              0.6666666666666666,
              "#ed7953"
             ],
             [
              0.7777777777777778,
              "#fb9f3a"
             ],
             [
              0.8888888888888888,
              "#fdca26"
             ],
             [
              1,
              "#f0f921"
             ]
            ],
            "type": "histogram2dcontour"
           }
          ],
          "mesh3d": [
           {
            "colorbar": {
             "outlinewidth": 0,
             "ticks": ""
            },
            "type": "mesh3d"
           }
          ],
          "parcoords": [
           {
            "line": {
             "colorbar": {
              "outlinewidth": 0,
              "ticks": ""
             }
            },
            "type": "parcoords"
           }
          ],
          "pie": [
           {
            "automargin": true,
            "type": "pie"
           }
          ],
          "scatter": [
           {
            "fillpattern": {
             "fillmode": "overlay",
             "size": 10,
             "solidity": 0.2
            },
            "type": "scatter"
           }
          ],
          "scatter3d": [
           {
            "line": {
             "colorbar": {
              "outlinewidth": 0,
              "ticks": ""
             }
            },
            "marker": {
             "colorbar": {
              "outlinewidth": 0,
              "ticks": ""
             }
            },
            "type": "scatter3d"
           }
          ],
          "scattercarpet": [
           {
            "marker": {
             "colorbar": {
              "outlinewidth": 0,
              "ticks": ""
             }
            },
            "type": "scattercarpet"
           }
          ],
          "scattergeo": [
           {
            "marker": {
             "colorbar": {
              "outlinewidth": 0,
              "ticks": ""
             }
            },
            "type": "scattergeo"
           }
          ],
          "scattergl": [
           {
            "marker": {
             "colorbar": {
              "outlinewidth": 0,
              "ticks": ""
             }
            },
            "type": "scattergl"
           }
          ],
          "scattermapbox": [
           {
            "marker": {
             "colorbar": {
              "outlinewidth": 0,
              "ticks": ""
             }
            },
            "type": "scattermapbox"
           }
          ],
          "scatterpolar": [
           {
            "marker": {
             "colorbar": {
              "outlinewidth": 0,
              "ticks": ""
             }
            },
            "type": "scatterpolar"
           }
          ],
          "scatterpolargl": [
           {
            "marker": {
             "colorbar": {
              "outlinewidth": 0,
              "ticks": ""
             }
            },
            "type": "scatterpolargl"
           }
          ],
          "scatterternary": [
           {
            "marker": {
             "colorbar": {
              "outlinewidth": 0,
              "ticks": ""
             }
            },
            "type": "scatterternary"
           }
          ],
          "surface": [
           {
            "colorbar": {
             "outlinewidth": 0,
             "ticks": ""
            },
            "colorscale": [
             [
              0,
              "#0d0887"
             ],
             [
              0.1111111111111111,
              "#46039f"
             ],
             [
              0.2222222222222222,
              "#7201a8"
             ],
             [
              0.3333333333333333,
              "#9c179e"
             ],
             [
              0.4444444444444444,
              "#bd3786"
             ],
             [
              0.5555555555555556,
              "#d8576b"
             ],
             [
              0.6666666666666666,
              "#ed7953"
             ],
             [
              0.7777777777777778,
              "#fb9f3a"
             ],
             [
              0.8888888888888888,
              "#fdca26"
             ],
             [
              1,
              "#f0f921"
             ]
            ],
            "type": "surface"
           }
          ],
          "table": [
           {
            "cells": {
             "fill": {
              "color": "#EBF0F8"
             },
             "line": {
              "color": "white"
             }
            },
            "header": {
             "fill": {
              "color": "#C8D4E3"
             },
             "line": {
              "color": "white"
             }
            },
            "type": "table"
           }
          ]
         },
         "layout": {
          "annotationdefaults": {
           "arrowcolor": "#2a3f5f",
           "arrowhead": 0,
           "arrowwidth": 1
          },
          "autotypenumbers": "strict",
          "coloraxis": {
           "colorbar": {
            "outlinewidth": 0,
            "ticks": ""
           }
          },
          "colorscale": {
           "diverging": [
            [
             0,
             "#8e0152"
            ],
            [
             0.1,
             "#c51b7d"
            ],
            [
             0.2,
             "#de77ae"
            ],
            [
             0.3,
             "#f1b6da"
            ],
            [
             0.4,
             "#fde0ef"
            ],
            [
             0.5,
             "#f7f7f7"
            ],
            [
             0.6,
             "#e6f5d0"
            ],
            [
             0.7,
             "#b8e186"
            ],
            [
             0.8,
             "#7fbc41"
            ],
            [
             0.9,
             "#4d9221"
            ],
            [
             1,
             "#276419"
            ]
           ],
           "sequential": [
            [
             0,
             "#0d0887"
            ],
            [
             0.1111111111111111,
             "#46039f"
            ],
            [
             0.2222222222222222,
             "#7201a8"
            ],
            [
             0.3333333333333333,
             "#9c179e"
            ],
            [
             0.4444444444444444,
             "#bd3786"
            ],
            [
             0.5555555555555556,
             "#d8576b"
            ],
            [
             0.6666666666666666,
             "#ed7953"
            ],
            [
             0.7777777777777778,
             "#fb9f3a"
            ],
            [
             0.8888888888888888,
             "#fdca26"
            ],
            [
             1,
             "#f0f921"
            ]
           ],
           "sequentialminus": [
            [
             0,
             "#0d0887"
            ],
            [
             0.1111111111111111,
             "#46039f"
            ],
            [
             0.2222222222222222,
             "#7201a8"
            ],
            [
             0.3333333333333333,
             "#9c179e"
            ],
            [
             0.4444444444444444,
             "#bd3786"
            ],
            [
             0.5555555555555556,
             "#d8576b"
            ],
            [
             0.6666666666666666,
             "#ed7953"
            ],
            [
             0.7777777777777778,
             "#fb9f3a"
            ],
            [
             0.8888888888888888,
             "#fdca26"
            ],
            [
             1,
             "#f0f921"
            ]
           ]
          },
          "colorway": [
           "#636efa",
           "#EF553B",
           "#00cc96",
           "#ab63fa",
           "#FFA15A",
           "#19d3f3",
           "#FF6692",
           "#B6E880",
           "#FF97FF",
           "#FECB52"
          ],
          "font": {
           "color": "#2a3f5f"
          },
          "geo": {
           "bgcolor": "white",
           "lakecolor": "white",
           "landcolor": "#E5ECF6",
           "showlakes": true,
           "showland": true,
           "subunitcolor": "white"
          },
          "hoverlabel": {
           "align": "left"
          },
          "hovermode": "closest",
          "mapbox": {
           "style": "light"
          },
          "paper_bgcolor": "white",
          "plot_bgcolor": "#E5ECF6",
          "polar": {
           "angularaxis": {
            "gridcolor": "white",
            "linecolor": "white",
            "ticks": ""
           },
           "bgcolor": "#E5ECF6",
           "radialaxis": {
            "gridcolor": "white",
            "linecolor": "white",
            "ticks": ""
           }
          },
          "scene": {
           "xaxis": {
            "backgroundcolor": "#E5ECF6",
            "gridcolor": "white",
            "gridwidth": 2,
            "linecolor": "white",
            "showbackground": true,
            "ticks": "",
            "zerolinecolor": "white"
           },
           "yaxis": {
            "backgroundcolor": "#E5ECF6",
            "gridcolor": "white",
            "gridwidth": 2,
            "linecolor": "white",
            "showbackground": true,
            "ticks": "",
            "zerolinecolor": "white"
           },
           "zaxis": {
            "backgroundcolor": "#E5ECF6",
            "gridcolor": "white",
            "gridwidth": 2,
            "linecolor": "white",
            "showbackground": true,
            "ticks": "",
            "zerolinecolor": "white"
           }
          },
          "shapedefaults": {
           "line": {
            "color": "#2a3f5f"
           }
          },
          "ternary": {
           "aaxis": {
            "gridcolor": "white",
            "linecolor": "white",
            "ticks": ""
           },
           "baxis": {
            "gridcolor": "white",
            "linecolor": "white",
            "ticks": ""
           },
           "bgcolor": "#E5ECF6",
           "caxis": {
            "gridcolor": "white",
            "linecolor": "white",
            "ticks": ""
           }
          },
          "title": {
           "x": 0.05
          },
          "xaxis": {
           "automargin": true,
           "gridcolor": "white",
           "linecolor": "white",
           "ticks": "",
           "title": {
            "standoff": 15
           },
           "zerolinecolor": "white",
           "zerolinewidth": 2
          },
          "yaxis": {
           "automargin": true,
           "gridcolor": "white",
           "linecolor": "white",
           "ticks": "",
           "title": {
            "standoff": 15
           },
           "zerolinecolor": "white",
           "zerolinewidth": 2
          }
         }
        },
        "width": 800,
        "xaxis": {
         "anchor": "y",
         "domain": [
          0,
          1
         ],
         "showgrid": false,
         "title": {
          "text": "Gender Of Employees"
         }
        },
        "yaxis": {
         "anchor": "x",
         "domain": [
          0,
          1
         ],
         "showgrid": false,
         "title": {
          "text": "Count of Employees"
         }
        }
       }
      }
     },
     "metadata": {},
     "output_type": "display_data"
    }
   ],
   "source": [
    "fig = px.histogram(df, x = 'Gender', color = 'Attrition', nbins = 15,\n",
    "                   barmode = 'group', color_discrete_sequence = ['#008080', '#00cccc'])\n",
    "fig.update_layout(bargap = 0.05, width = 800, height = 500, plot_bgcolor = '#FFFFFF')\n",
    "fig.update_xaxes(title = 'Gender Of Employees', showgrid = False)\n",
    "fig.update_yaxes(title = 'Count of Employees', showgrid = False)\n",
    "fig.show()"
   ]
  },
  {
   "cell_type": "markdown",
   "metadata": {},
   "source": [
    "#### 3. Are these specific departments or job roles experiencing higher attrition rates?"
   ]
  },
  {
   "cell_type": "code",
   "execution_count": 10,
   "metadata": {},
   "outputs": [
    {
     "data": {
      "text/plain": [
       "array(['Sales Executive', 'Research Scientist', 'Laboratory Technician',\n",
       "       'Manufacturing Director', 'Healthcare Representative', 'Manager',\n",
       "       'Sales Representative', 'Research Director', 'Human Resources'],\n",
       "      dtype=object)"
      ]
     },
     "execution_count": 10,
     "metadata": {},
     "output_type": "execute_result"
    }
   ],
   "source": [
    "df['JobRole'].unique()"
   ]
  },
  {
   "cell_type": "code",
   "execution_count": 11,
   "metadata": {},
   "outputs": [
    {
     "data": {
      "text/html": [
       "<div>\n",
       "<style scoped>\n",
       "    .dataframe tbody tr th:only-of-type {\n",
       "        vertical-align: middle;\n",
       "    }\n",
       "\n",
       "    .dataframe tbody tr th {\n",
       "        vertical-align: top;\n",
       "    }\n",
       "\n",
       "    .dataframe thead th {\n",
       "        text-align: right;\n",
       "    }\n",
       "</style>\n",
       "<table border=\"1\" class=\"dataframe\">\n",
       "  <thead>\n",
       "    <tr style=\"text-align: right;\">\n",
       "      <th></th>\n",
       "      <th>Attrition</th>\n",
       "      <th>JobRole</th>\n",
       "      <th>Count</th>\n",
       "    </tr>\n",
       "  </thead>\n",
       "  <tbody>\n",
       "    <tr>\n",
       "      <th>0</th>\n",
       "      <td>Yes</td>\n",
       "      <td>Laboratory Technician</td>\n",
       "      <td>62</td>\n",
       "    </tr>\n",
       "    <tr>\n",
       "      <th>1</th>\n",
       "      <td>Yes</td>\n",
       "      <td>Sales Executive</td>\n",
       "      <td>57</td>\n",
       "    </tr>\n",
       "    <tr>\n",
       "      <th>2</th>\n",
       "      <td>Yes</td>\n",
       "      <td>Research Scientist</td>\n",
       "      <td>47</td>\n",
       "    </tr>\n",
       "    <tr>\n",
       "      <th>3</th>\n",
       "      <td>Yes</td>\n",
       "      <td>Sales Representative</td>\n",
       "      <td>33</td>\n",
       "    </tr>\n",
       "    <tr>\n",
       "      <th>4</th>\n",
       "      <td>Yes</td>\n",
       "      <td>Human Resources</td>\n",
       "      <td>12</td>\n",
       "    </tr>\n",
       "    <tr>\n",
       "      <th>5</th>\n",
       "      <td>Yes</td>\n",
       "      <td>Manufacturing Director</td>\n",
       "      <td>10</td>\n",
       "    </tr>\n",
       "    <tr>\n",
       "      <th>6</th>\n",
       "      <td>Yes</td>\n",
       "      <td>Healthcare Representative</td>\n",
       "      <td>9</td>\n",
       "    </tr>\n",
       "    <tr>\n",
       "      <th>7</th>\n",
       "      <td>Yes</td>\n",
       "      <td>Manager</td>\n",
       "      <td>5</td>\n",
       "    </tr>\n",
       "    <tr>\n",
       "      <th>8</th>\n",
       "      <td>Yes</td>\n",
       "      <td>Research Director</td>\n",
       "      <td>2</td>\n",
       "    </tr>\n",
       "  </tbody>\n",
       "</table>\n",
       "</div>"
      ],
      "text/plain": [
       "  Attrition                    JobRole  Count\n",
       "0       Yes      Laboratory Technician     62\n",
       "1       Yes            Sales Executive     57\n",
       "2       Yes         Research Scientist     47\n",
       "3       Yes       Sales Representative     33\n",
       "4       Yes            Human Resources     12\n",
       "5       Yes     Manufacturing Director     10\n",
       "6       Yes  Healthcare Representative      9\n",
       "7       Yes                    Manager      5\n",
       "8       Yes          Research Director      2"
      ]
     },
     "execution_count": 11,
     "metadata": {},
     "output_type": "execute_result"
    }
   ],
   "source": [
    "job_role_df_left = df_left.groupby('Attrition')['JobRole'].value_counts()\\\n",
    "                .reset_index(name = 'Count')\n",
    "job_role_df_left"
   ]
  },
  {
   "cell_type": "code",
   "execution_count": 12,
   "metadata": {},
   "outputs": [
    {
     "data": {
      "text/html": [
       "<div>\n",
       "<style scoped>\n",
       "    .dataframe tbody tr th:only-of-type {\n",
       "        vertical-align: middle;\n",
       "    }\n",
       "\n",
       "    .dataframe tbody tr th {\n",
       "        vertical-align: top;\n",
       "    }\n",
       "\n",
       "    .dataframe thead th {\n",
       "        text-align: right;\n",
       "    }\n",
       "</style>\n",
       "<table border=\"1\" class=\"dataframe\">\n",
       "  <thead>\n",
       "    <tr style=\"text-align: right;\">\n",
       "      <th></th>\n",
       "      <th>Attrition</th>\n",
       "      <th>JobRole</th>\n",
       "      <th>Count</th>\n",
       "    </tr>\n",
       "  </thead>\n",
       "  <tbody>\n",
       "    <tr>\n",
       "      <th>0</th>\n",
       "      <td>No</td>\n",
       "      <td>Sales Executive</td>\n",
       "      <td>269</td>\n",
       "    </tr>\n",
       "    <tr>\n",
       "      <th>1</th>\n",
       "      <td>No</td>\n",
       "      <td>Research Scientist</td>\n",
       "      <td>245</td>\n",
       "    </tr>\n",
       "    <tr>\n",
       "      <th>2</th>\n",
       "      <td>No</td>\n",
       "      <td>Laboratory Technician</td>\n",
       "      <td>197</td>\n",
       "    </tr>\n",
       "    <tr>\n",
       "      <th>3</th>\n",
       "      <td>No</td>\n",
       "      <td>Manufacturing Director</td>\n",
       "      <td>135</td>\n",
       "    </tr>\n",
       "    <tr>\n",
       "      <th>4</th>\n",
       "      <td>No</td>\n",
       "      <td>Healthcare Representative</td>\n",
       "      <td>122</td>\n",
       "    </tr>\n",
       "    <tr>\n",
       "      <th>5</th>\n",
       "      <td>No</td>\n",
       "      <td>Manager</td>\n",
       "      <td>97</td>\n",
       "    </tr>\n",
       "    <tr>\n",
       "      <th>6</th>\n",
       "      <td>No</td>\n",
       "      <td>Research Director</td>\n",
       "      <td>78</td>\n",
       "    </tr>\n",
       "    <tr>\n",
       "      <th>7</th>\n",
       "      <td>No</td>\n",
       "      <td>Sales Representative</td>\n",
       "      <td>50</td>\n",
       "    </tr>\n",
       "    <tr>\n",
       "      <th>8</th>\n",
       "      <td>No</td>\n",
       "      <td>Human Resources</td>\n",
       "      <td>40</td>\n",
       "    </tr>\n",
       "  </tbody>\n",
       "</table>\n",
       "</div>"
      ],
      "text/plain": [
       "  Attrition                    JobRole  Count\n",
       "0        No            Sales Executive    269\n",
       "1        No         Research Scientist    245\n",
       "2        No      Laboratory Technician    197\n",
       "3        No     Manufacturing Director    135\n",
       "4        No  Healthcare Representative    122\n",
       "5        No                    Manager     97\n",
       "6        No          Research Director     78\n",
       "7        No       Sales Representative     50\n",
       "8        No            Human Resources     40"
      ]
     },
     "execution_count": 12,
     "metadata": {},
     "output_type": "execute_result"
    }
   ],
   "source": [
    "job_role_df_stayed = df_stayed.groupby('Attrition')['JobRole'].value_counts()\\\n",
    "                .reset_index(name = 'Count')\n",
    "job_role_df_stayed"
   ]
  },
  {
   "cell_type": "code",
   "execution_count": 13,
   "metadata": {},
   "outputs": [
    {
     "data": {
      "image/svg+xml": [
       "<svg class=\"main-svg\" xmlns=\"http://www.w3.org/2000/svg\" xmlns:xlink=\"http://www.w3.org/1999/xlink\" width=\"1100\" height=\"500\" style=\"\" viewBox=\"0 0 1100 500\"><rect x=\"0\" y=\"0\" width=\"1100\" height=\"500\" style=\"fill: rgb(255, 255, 255); fill-opacity: 1;\"/><defs id=\"defs-862a39\"><g class=\"clips\"><clipPath id=\"clip862a39xyplot\" class=\"plotclip\"><rect width=\"370.35\" height=\"320\"/></clipPath><clipPath id=\"clip862a39x2y2plot\" class=\"plotclip\"><rect width=\"370.34999999999997\" height=\"320\"/></clipPath><clipPath class=\"axesclip\" id=\"clip862a39x\"><rect x=\"197\" y=\"0\" width=\"370.35\" height=\"500\"/></clipPath><clipPath class=\"axesclip\" id=\"clip862a39y\"><rect x=\"0\" y=\"100\" width=\"1100\" height=\"320\"/></clipPath><clipPath class=\"axesclip\" id=\"clip862a39xy\"><rect x=\"197\" y=\"100\" width=\"370.35\" height=\"320\"/></clipPath><clipPath class=\"axesclip\" id=\"clip862a39y2\"><rect x=\"0\" y=\"100\" width=\"1100\" height=\"320\"/></clipPath><clipPath class=\"axesclip\" id=\"clip862a39xy2\"><rect x=\"197\" y=\"100\" width=\"370.35\" height=\"320\"/></clipPath><clipPath class=\"axesclip\" id=\"clip862a39x2\"><rect x=\"649.6500000000001\" y=\"0\" width=\"370.34999999999997\" height=\"500\"/></clipPath><clipPath class=\"axesclip\" id=\"clip862a39x2y\"><rect x=\"649.6500000000001\" y=\"100\" width=\"370.34999999999997\" height=\"320\"/></clipPath><clipPath class=\"axesclip\" id=\"clip862a39x2y2\"><rect x=\"649.6500000000001\" y=\"100\" width=\"370.34999999999997\" height=\"320\"/></clipPath></g><g class=\"gradients\"/><g class=\"patterns\"/></defs><g class=\"bglayer\"><rect class=\"bg\" x=\"197\" y=\"100\" width=\"370.35\" height=\"320\" style=\"fill: rgb(255, 255, 255); fill-opacity: 1; stroke-width: 0;\"/><rect class=\"bg\" x=\"649.6500000000001\" y=\"100\" width=\"370.34999999999997\" height=\"320\" style=\"fill: rgb(255, 255, 255); fill-opacity: 1; stroke-width: 0;\"/></g><g class=\"layer-below\"><g class=\"imagelayer\"/><g class=\"shapelayer\"/></g><g class=\"cartesianlayer\"><g class=\"subplot xy\"><g class=\"layer-subplot\"><g class=\"shapelayer\"/><g class=\"imagelayer\"/></g><g class=\"minor-gridlayer\"><g class=\"x\"/><g class=\"y\"/></g><g class=\"gridlayer\"><g class=\"x\"/><g class=\"y\"/></g><g class=\"zerolinelayer\"/><path class=\"xlines-below\"/><path class=\"ylines-below\"/><g class=\"overlines-below\"/><g class=\"xaxislayer-below\"/><g class=\"yaxislayer-below\"/><g class=\"overaxes-below\"/><g class=\"plot\" transform=\"translate(197,100)\" clip-path=\"url(#clip862a39xyplot)\"><g class=\"funnellayer mlayer\"><g class=\"trace bars\" style=\"opacity: 1;\"><g class=\"regions\"><g class=\"region\"><path d=\"M18.52,32L31.96,39.11H338.39L351.83,32Z\" style=\"stroke-width: 0; fill: rgb(0, 128, 128); fill-opacity: 0.5;\"/></g><g class=\"region\"><path d=\"M31.96,67.56L58.84,74.67H311.51L338.39,67.56Z\" style=\"stroke-width: 0; fill: rgb(0, 128, 128); fill-opacity: 0.5;\"/></g><g class=\"region\"><path d=\"M58.84,103.11L96.47,110.22H273.88L311.51,103.11Z\" style=\"stroke-width: 0; fill: rgb(0, 128, 128); fill-opacity: 0.5;\"/></g><g class=\"region\"><path d=\"M96.47,138.67L152.92,145.78H217.43L273.88,138.67Z\" style=\"stroke-width: 0; fill: rgb(0, 128, 128); fill-opacity: 0.5;\"/></g><g class=\"region\"><path d=\"M152.92,174.22L158.29,181.33H212.06L217.43,174.22Z\" style=\"stroke-width: 0; fill: rgb(0, 128, 128); fill-opacity: 0.5;\"/></g><g class=\"region\"><path d=\"M158.29,209.78L160.98,216.89H209.37L212.06,209.78Z\" style=\"stroke-width: 0; fill: rgb(0, 128, 128); fill-opacity: 0.5;\"/></g><g class=\"region\"><path d=\"M160.98,245.33L171.73,252.44H198.62L209.37,245.33Z\" style=\"stroke-width: 0; fill: rgb(0, 128, 128); fill-opacity: 0.5;\"/></g><g class=\"region\"><path d=\"M171.73,280.89L179.8,288H190.55L198.62,280.89Z\" style=\"stroke-width: 0; fill: rgb(0, 128, 128); fill-opacity: 0.5;\"/></g><g class=\"region\"><path d=\"M0,0Z\" style=\"stroke-width: 0; fill: rgb(0, 128, 128); fill-opacity: 0.5;\"/></g></g><g class=\"points\"><g class=\"point\"><path d=\"M18.52,3.56V32H351.83V3.56Z\" style=\"vector-effect: non-scaling-stroke; fill: rgb(0, 128, 128); fill-opacity: 1; stroke: rgb(68, 68, 68); stroke-opacity: 1; stroke-width: 0px; opacity: 1;\"/><text class=\"bartext bartext-inside\" text-anchor=\"middle\" data-notex=\"1\" x=\"0\" y=\"0\" style=\"font-family: 'Open Sans', verdana, arial, sans-serif; font-size: 12px; fill: rgb(255, 255, 255); fill-opacity: 1; white-space: pre;\" transform=\"translate(184.99531249999998,22.28)\">62</text></g><g class=\"point\"><path d=\"M31.96,39.11V67.56H338.39V39.11Z\" style=\"vector-effect: non-scaling-stroke; fill: rgb(0, 128, 128); fill-opacity: 1; stroke: rgb(68, 68, 68); stroke-opacity: 1; stroke-width: 0px; opacity: 1;\"/><text class=\"bartext bartext-inside\" text-anchor=\"middle\" data-notex=\"1\" x=\"0\" y=\"0\" style=\"font-family: 'Open Sans', verdana, arial, sans-serif; font-size: 12px; fill: rgb(255, 255, 255); fill-opacity: 1; white-space: pre;\" transform=\"translate(184.99531249999998,57.835)\">57</text></g><g class=\"point\"><path d=\"M58.84,74.67V103.11H311.51V74.67Z\" style=\"vector-effect: non-scaling-stroke; fill: rgb(0, 128, 128); fill-opacity: 1; stroke: rgb(68, 68, 68); stroke-opacity: 1; stroke-width: 0px; opacity: 1;\"/><text class=\"bartext bartext-inside\" text-anchor=\"middle\" data-notex=\"1\" x=\"0\" y=\"0\" style=\"font-family: 'Open Sans', verdana, arial, sans-serif; font-size: 12px; fill: rgb(255, 255, 255); fill-opacity: 1; white-space: pre;\" transform=\"translate(184.9953125,93.39)\">47</text></g><g class=\"point\"><path d=\"M96.47,110.22V138.67H273.88V110.22Z\" style=\"vector-effect: non-scaling-stroke; fill: rgb(0, 128, 128); fill-opacity: 1; stroke: rgb(68, 68, 68); stroke-opacity: 1; stroke-width: 0px; opacity: 1;\"/><text class=\"bartext bartext-inside\" text-anchor=\"middle\" data-notex=\"1\" x=\"0\" y=\"0\" style=\"font-family: 'Open Sans', verdana, arial, sans-serif; font-size: 12px; fill: rgb(255, 255, 255); fill-opacity: 1; white-space: pre;\" transform=\"translate(185.175,128.945)\">33</text></g><g class=\"point\"><path d=\"M152.92,145.78V174.22H217.43V145.78Z\" style=\"vector-effect: non-scaling-stroke; fill: rgb(0, 128, 128); fill-opacity: 1; stroke: rgb(68, 68, 68); stroke-opacity: 1; stroke-width: 0px; opacity: 1;\"/><text class=\"bartext bartext-inside\" text-anchor=\"middle\" data-notex=\"1\" x=\"0\" y=\"0\" style=\"font-family: 'Open Sans', verdana, arial, sans-serif; font-size: 12px; fill: rgb(255, 255, 255); fill-opacity: 1; white-space: pre;\" transform=\"translate(184.9953125,164.5)\">12</text></g><g class=\"point\"><path d=\"M158.29,181.33V209.78H212.06V181.33Z\" style=\"vector-effect: non-scaling-stroke; fill: rgb(0, 128, 128); fill-opacity: 1; stroke: rgb(68, 68, 68); stroke-opacity: 1; stroke-width: 0px; opacity: 1;\"/><text class=\"bartext bartext-inside\" text-anchor=\"middle\" data-notex=\"1\" x=\"0\" y=\"0\" style=\"font-family: 'Open Sans', verdana, arial, sans-serif; font-size: 12px; fill: rgb(255, 255, 255); fill-opacity: 1; white-space: pre;\" transform=\"translate(184.9953125,200.055)\">10</text></g><g class=\"point\"><path d=\"M160.98,216.89V245.33H209.37V216.89Z\" style=\"vector-effect: non-scaling-stroke; fill: rgb(0, 128, 128); fill-opacity: 1; stroke: rgb(68, 68, 68); stroke-opacity: 1; stroke-width: 0px; opacity: 1;\"/><text class=\"bartext bartext-inside\" text-anchor=\"middle\" data-notex=\"1\" x=\"0\" y=\"0\" style=\"font-family: 'Open Sans', verdana, arial, sans-serif; font-size: 12px; fill: rgb(255, 255, 255); fill-opacity: 1; white-space: pre;\" transform=\"translate(184.9953125,235.61)\">9</text></g><g class=\"point\"><path d=\"M171.73,252.44V280.89H198.62V252.44Z\" style=\"vector-effect: non-scaling-stroke; fill: rgb(0, 128, 128); fill-opacity: 1; stroke: rgb(68, 68, 68); stroke-opacity: 1; stroke-width: 0px; opacity: 1;\"/><text class=\"bartext bartext-inside\" text-anchor=\"middle\" data-notex=\"1\" x=\"0\" y=\"0\" style=\"font-family: 'Open Sans', verdana, arial, sans-serif; font-size: 12px; fill: rgb(255, 255, 255); fill-opacity: 1; white-space: pre;\" transform=\"translate(184.9953125,271.16499999999996)\">5</text></g><g class=\"point\"><path d=\"M179.8,288V316.44H190.55V288Z\" style=\"vector-effect: non-scaling-stroke; fill: rgb(0, 128, 128); fill-opacity: 1; stroke: rgb(68, 68, 68); stroke-opacity: 1; stroke-width: 0px; opacity: 1;\"/><text class=\"bartext bartext-outside\" text-anchor=\"middle\" data-notex=\"1\" x=\"0\" y=\"0\" style=\"font-family: 'Open Sans', verdana, arial, sans-serif; font-size: 12px; fill: rgb(42, 63, 95); fill-opacity: 1; white-space: pre;\" transform=\"translate(197.378125,306.72)\">2</text></g></g></g></g></g><g class=\"overplot\"/><path class=\"xlines-above crisp\" d=\"M0,0\" style=\"fill: none;\"/><path class=\"ylines-above crisp\" d=\"M0,0\" style=\"fill: none;\"/><g class=\"overlines-above\"/><g class=\"xaxislayer-above\"/><g class=\"yaxislayer-above\"><g class=\"ytick\"><text text-anchor=\"end\" x=\"196\" y=\"4.199999999999999\" transform=\"translate(0,402.22)\" style=\"font-family: 'Open Sans', verdana, arial, sans-serif; font-size: 12px; fill: rgb(42, 63, 95); fill-opacity: 1; white-space: pre; opacity: 1;\">Research Director</text></g><g class=\"ytick\"><text text-anchor=\"end\" x=\"196\" y=\"4.199999999999999\" transform=\"translate(0,366.67)\" style=\"font-family: 'Open Sans', verdana, arial, sans-serif; font-size: 12px; fill: rgb(42, 63, 95); fill-opacity: 1; white-space: pre; opacity: 1;\">Manager</text></g><g class=\"ytick\"><text text-anchor=\"end\" x=\"196\" y=\"4.199999999999999\" transform=\"translate(0,331.11)\" style=\"font-family: 'Open Sans', verdana, arial, sans-serif; font-size: 12px; fill: rgb(42, 63, 95); fill-opacity: 1; white-space: pre; opacity: 1;\">Healthcare Representative</text></g><g class=\"ytick\"><text text-anchor=\"end\" x=\"196\" y=\"4.199999999999999\" transform=\"translate(0,295.56)\" style=\"font-family: 'Open Sans', verdana, arial, sans-serif; font-size: 12px; fill: rgb(42, 63, 95); fill-opacity: 1; white-space: pre; opacity: 1;\">Manufacturing Director</text></g><g class=\"ytick\"><text text-anchor=\"end\" x=\"196\" y=\"4.199999999999999\" transform=\"translate(0,260)\" style=\"font-family: 'Open Sans', verdana, arial, sans-serif; font-size: 12px; fill: rgb(42, 63, 95); fill-opacity: 1; white-space: pre; opacity: 1;\">Human Resources</text></g><g class=\"ytick\"><text text-anchor=\"end\" x=\"196\" y=\"4.199999999999999\" transform=\"translate(0,224.44)\" style=\"font-family: 'Open Sans', verdana, arial, sans-serif; font-size: 12px; fill: rgb(42, 63, 95); fill-opacity: 1; white-space: pre; opacity: 1;\">Sales Representative</text></g><g class=\"ytick\"><text text-anchor=\"end\" x=\"196\" y=\"4.199999999999999\" transform=\"translate(0,188.89)\" style=\"font-family: 'Open Sans', verdana, arial, sans-serif; font-size: 12px; fill: rgb(42, 63, 95); fill-opacity: 1; white-space: pre; opacity: 1;\">Research Scientist</text></g><g class=\"ytick\"><text text-anchor=\"end\" x=\"196\" y=\"4.199999999999999\" transform=\"translate(0,153.32999999999998)\" style=\"font-family: 'Open Sans', verdana, arial, sans-serif; font-size: 12px; fill: rgb(42, 63, 95); fill-opacity: 1; white-space: pre; opacity: 1;\">Sales Executive</text></g><g class=\"ytick\"><text text-anchor=\"end\" x=\"196\" y=\"4.199999999999999\" transform=\"translate(0,117.78)\" style=\"font-family: 'Open Sans', verdana, arial, sans-serif; font-size: 12px; fill: rgb(42, 63, 95); fill-opacity: 1; white-space: pre; opacity: 1;\">Laboratory Technician</text></g></g><g class=\"overaxes-above\"/></g><g class=\"subplot x2y2\"><g class=\"layer-subplot\"><g class=\"shapelayer\"/><g class=\"imagelayer\"/></g><g class=\"minor-gridlayer\"><g class=\"x2\"/><g class=\"y2\"/></g><g class=\"gridlayer\"><g class=\"x2\"/><g class=\"y2\"/></g><g class=\"zerolinelayer\"/><path class=\"xlines-below\"/><path class=\"ylines-below\"/><g class=\"overlines-below\"/><g class=\"xaxislayer-below\"/><g class=\"yaxislayer-below\"/><g class=\"overaxes-below\"/><g class=\"plot\" transform=\"translate(649.6500000000001,100)\" clip-path=\"url(#clip862a39x2y2plot)\"><g class=\"funnellayer mlayer\"><g class=\"trace bars\" style=\"opacity: 1;\"><g class=\"regions\"><g class=\"region\"><path d=\"M18.52,32L33.39,39.11H336.96L351.83,32Z\" style=\"stroke-width: 0; fill: rgb(0, 204, 204); fill-opacity: 0.5;\"/></g><g class=\"region\"><path d=\"M33.39,67.56L63.12,74.67H307.23L336.96,67.56Z\" style=\"stroke-width: 0; fill: rgb(0, 204, 204); fill-opacity: 0.5;\"/></g><g class=\"region\"><path d=\"M63.12,103.11L101.54,110.22H268.81L307.23,103.11Z\" style=\"stroke-width: 0; fill: rgb(0, 204, 204); fill-opacity: 0.5;\"/></g><g class=\"region\"><path d=\"M101.54,138.67L109.59,145.78H260.76L268.81,138.67Z\" style=\"stroke-width: 0; fill: rgb(0, 204, 204); fill-opacity: 0.5;\"/></g><g class=\"region\"><path d=\"M109.59,174.22L125.08,181.33H245.27L260.76,174.22Z\" style=\"stroke-width: 0; fill: rgb(0, 204, 204); fill-opacity: 0.5;\"/></g><g class=\"region\"><path d=\"M125.08,209.78L136.85,216.89H233.5L245.27,209.78Z\" style=\"stroke-width: 0; fill: rgb(0, 204, 204); fill-opacity: 0.5;\"/></g><g class=\"region\"><path d=\"M136.85,245.33L154.2,252.44H216.15L233.5,245.33Z\" style=\"stroke-width: 0; fill: rgb(0, 204, 204); fill-opacity: 0.5;\"/></g><g class=\"region\"><path d=\"M154.2,280.89L160.39,288H209.96L216.15,280.89Z\" style=\"stroke-width: 0; fill: rgb(0, 204, 204); fill-opacity: 0.5;\"/></g><g class=\"region\"><path d=\"M0,0Z\" style=\"stroke-width: 0; fill: rgb(0, 204, 204); fill-opacity: 0.5;\"/></g></g><g class=\"points\"><g class=\"point\"><path d=\"M18.52,3.56V32H351.83V3.56Z\" style=\"vector-effect: non-scaling-stroke; fill: rgb(0, 204, 204); fill-opacity: 1; stroke: rgb(68, 68, 68); stroke-opacity: 1; stroke-width: 0px; opacity: 1;\"/><text class=\"bartext bartext-inside\" text-anchor=\"middle\" data-notex=\"1\" x=\"0\" y=\"0\" style=\"font-family: 'Open Sans', verdana, arial, sans-serif; font-size: 12px; fill: rgb(68, 68, 68); fill-opacity: 1; white-space: pre;\" transform=\"translate(184.98749999999998,22.28)\">269</text></g><g class=\"point\"><path d=\"M33.39,39.11V67.56H336.96V39.11Z\" style=\"vector-effect: non-scaling-stroke; fill: rgb(0, 204, 204); fill-opacity: 1; stroke: rgb(68, 68, 68); stroke-opacity: 1; stroke-width: 0px; opacity: 1;\"/><text class=\"bartext bartext-inside\" text-anchor=\"middle\" data-notex=\"1\" x=\"0\" y=\"0\" style=\"font-family: 'Open Sans', verdana, arial, sans-serif; font-size: 12px; fill: rgb(68, 68, 68); fill-opacity: 1; white-space: pre;\" transform=\"translate(184.98749999999998,57.835)\">245</text></g><g class=\"point\"><path d=\"M63.12,74.67V103.11H307.23V74.67Z\" style=\"vector-effect: non-scaling-stroke; fill: rgb(0, 204, 204); fill-opacity: 1; stroke: rgb(68, 68, 68); stroke-opacity: 1; stroke-width: 0px; opacity: 1;\"/><text class=\"bartext bartext-inside\" text-anchor=\"middle\" data-notex=\"1\" x=\"0\" y=\"0\" style=\"font-family: 'Open Sans', verdana, arial, sans-serif; font-size: 12px; fill: rgb(68, 68, 68); fill-opacity: 1; white-space: pre;\" transform=\"translate(184.9875,93.39)\">197</text></g><g class=\"point\"><path d=\"M101.54,110.22V138.67H268.81V110.22Z\" style=\"vector-effect: non-scaling-stroke; fill: rgb(0, 204, 204); fill-opacity: 1; stroke: rgb(68, 68, 68); stroke-opacity: 1; stroke-width: 0px; opacity: 1;\"/><text class=\"bartext bartext-inside\" text-anchor=\"middle\" data-notex=\"1\" x=\"0\" y=\"0\" style=\"font-family: 'Open Sans', verdana, arial, sans-serif; font-size: 12px; fill: rgb(68, 68, 68); fill-opacity: 1; white-space: pre;\" transform=\"translate(184.9875,128.945)\">135</text></g><g class=\"point\"><path d=\"M109.59,145.78V174.22H260.76V145.78Z\" style=\"vector-effect: non-scaling-stroke; fill: rgb(0, 204, 204); fill-opacity: 1; stroke: rgb(68, 68, 68); stroke-opacity: 1; stroke-width: 0px; opacity: 1;\"/><text class=\"bartext bartext-inside\" text-anchor=\"middle\" data-notex=\"1\" x=\"0\" y=\"0\" style=\"font-family: 'Open Sans', verdana, arial, sans-serif; font-size: 12px; fill: rgb(68, 68, 68); fill-opacity: 1; white-space: pre;\" transform=\"translate(184.9875,164.5)\">122</text></g><g class=\"point\"><path d=\"M125.08,181.33V209.78H245.27V181.33Z\" style=\"vector-effect: non-scaling-stroke; fill: rgb(0, 204, 204); fill-opacity: 1; stroke: rgb(68, 68, 68); stroke-opacity: 1; stroke-width: 0px; opacity: 1;\"/><text class=\"bartext bartext-inside\" text-anchor=\"middle\" data-notex=\"1\" x=\"0\" y=\"0\" style=\"font-family: 'Open Sans', verdana, arial, sans-serif; font-size: 12px; fill: rgb(68, 68, 68); fill-opacity: 1; white-space: pre;\" transform=\"translate(184.9953125,200.055)\">97</text></g><g class=\"point\"><path d=\"M136.85,216.89V245.33H233.5V216.89Z\" style=\"vector-effect: non-scaling-stroke; fill: rgb(0, 204, 204); fill-opacity: 1; stroke: rgb(68, 68, 68); stroke-opacity: 1; stroke-width: 0px; opacity: 1;\"/><text class=\"bartext bartext-inside\" text-anchor=\"middle\" data-notex=\"1\" x=\"0\" y=\"0\" style=\"font-family: 'Open Sans', verdana, arial, sans-serif; font-size: 12px; fill: rgb(68, 68, 68); fill-opacity: 1; white-space: pre;\" transform=\"translate(184.9953125,235.61)\">78</text></g><g class=\"point\"><path d=\"M154.2,252.44V280.89H216.15V252.44Z\" style=\"vector-effect: non-scaling-stroke; fill: rgb(0, 204, 204); fill-opacity: 1; stroke: rgb(68, 68, 68); stroke-opacity: 1; stroke-width: 0px; opacity: 1;\"/><text class=\"bartext bartext-inside\" text-anchor=\"middle\" data-notex=\"1\" x=\"0\" y=\"0\" style=\"font-family: 'Open Sans', verdana, arial, sans-serif; font-size: 12px; fill: rgb(68, 68, 68); fill-opacity: 1; white-space: pre;\" transform=\"translate(184.9953125,271.16499999999996)\">50</text></g><g class=\"point\"><path d=\"M160.39,288V316.44H209.96V288Z\" style=\"vector-effect: non-scaling-stroke; fill: rgb(0, 204, 204); fill-opacity: 1; stroke: rgb(68, 68, 68); stroke-opacity: 1; stroke-width: 0px; opacity: 1;\"/><text class=\"bartext bartext-inside\" text-anchor=\"middle\" data-notex=\"1\" x=\"0\" y=\"0\" style=\"font-family: 'Open Sans', verdana, arial, sans-serif; font-size: 12px; fill: rgb(68, 68, 68); fill-opacity: 1; white-space: pre;\" transform=\"translate(184.9953125,306.72)\">40</text></g></g></g></g></g><g class=\"overplot\"/><path class=\"xlines-above crisp\" d=\"M0,0\" style=\"fill: none;\"/><path class=\"ylines-above crisp\" d=\"M0,0\" style=\"fill: none;\"/><g class=\"overlines-above\"/><g class=\"xaxislayer-above\"/><g class=\"yaxislayer-above\"><g class=\"y2tick\"><text text-anchor=\"end\" x=\"648.6500000000001\" y=\"4.199999999999999\" transform=\"translate(0,402.22)\" style=\"font-family: 'Open Sans', verdana, arial, sans-serif; font-size: 12px; fill: rgb(42, 63, 95); fill-opacity: 1; white-space: pre; opacity: 1;\">Human Resources</text></g><g class=\"y2tick\"><text text-anchor=\"end\" x=\"648.6500000000001\" y=\"4.199999999999999\" transform=\"translate(0,366.67)\" style=\"font-family: 'Open Sans', verdana, arial, sans-serif; font-size: 12px; fill: rgb(42, 63, 95); fill-opacity: 1; white-space: pre; opacity: 1;\">Sales Representative</text></g><g class=\"y2tick\"><text text-anchor=\"end\" x=\"648.6500000000001\" y=\"4.199999999999999\" transform=\"translate(0,331.11)\" style=\"font-family: 'Open Sans', verdana, arial, sans-serif; font-size: 12px; fill: rgb(42, 63, 95); fill-opacity: 1; white-space: pre; opacity: 1;\">Research Director</text></g><g class=\"y2tick\"><text text-anchor=\"end\" x=\"648.6500000000001\" y=\"4.199999999999999\" transform=\"translate(0,295.56)\" style=\"font-family: 'Open Sans', verdana, arial, sans-serif; font-size: 12px; fill: rgb(42, 63, 95); fill-opacity: 1; white-space: pre; opacity: 1;\">Manager</text></g><g class=\"y2tick\"><text text-anchor=\"end\" x=\"648.6500000000001\" y=\"4.199999999999999\" transform=\"translate(0,260)\" style=\"font-family: 'Open Sans', verdana, arial, sans-serif; font-size: 12px; fill: rgb(42, 63, 95); fill-opacity: 1; white-space: pre; opacity: 1;\">Healthcare Representative</text></g><g class=\"y2tick\"><text text-anchor=\"end\" x=\"648.6500000000001\" y=\"4.199999999999999\" transform=\"translate(0,224.44)\" style=\"font-family: 'Open Sans', verdana, arial, sans-serif; font-size: 12px; fill: rgb(42, 63, 95); fill-opacity: 1; white-space: pre; opacity: 1;\">Manufacturing Director</text></g><g class=\"y2tick\"><text text-anchor=\"end\" x=\"648.6500000000001\" y=\"4.199999999999999\" transform=\"translate(0,188.89)\" style=\"font-family: 'Open Sans', verdana, arial, sans-serif; font-size: 12px; fill: rgb(42, 63, 95); fill-opacity: 1; white-space: pre; opacity: 1;\">Laboratory Technician</text></g><g class=\"y2tick\"><text text-anchor=\"end\" x=\"648.6500000000001\" y=\"4.199999999999999\" transform=\"translate(0,153.32999999999998)\" style=\"font-family: 'Open Sans', verdana, arial, sans-serif; font-size: 12px; fill: rgb(42, 63, 95); fill-opacity: 1; white-space: pre; opacity: 1;\">Research Scientist</text></g><g class=\"y2tick\"><text text-anchor=\"end\" x=\"648.6500000000001\" y=\"4.199999999999999\" transform=\"translate(0,117.78)\" style=\"font-family: 'Open Sans', verdana, arial, sans-serif; font-size: 12px; fill: rgb(42, 63, 95); fill-opacity: 1; white-space: pre; opacity: 1;\">Sales Executive</text></g></g><g class=\"overaxes-above\"/></g></g><g class=\"polarlayer\"/><g class=\"smithlayer\"/><g class=\"ternarylayer\"/><g class=\"geolayer\"/><g class=\"funnelarealayer\"/><g class=\"pielayer\"/><g class=\"iciclelayer\"/><g class=\"treemaplayer\"/><g class=\"sunburstlayer\"/><g class=\"glimages\"/><defs id=\"topdefs-862a39\"><g class=\"clips\"/></defs><g class=\"layer-above\"><g class=\"imagelayer\"/><g class=\"shapelayer\"/></g><g class=\"infolayer\"><g class=\"g-gtitle\"><text class=\"gtitle\" x=\"55\" y=\"50\" text-anchor=\"start\" dy=\"0em\" style=\"font-family: 'Open Sans', verdana, arial, sans-serif; font-size: 17px; fill: rgb(42, 63, 95); opacity: 1; font-weight: normal; white-space: pre;\">Job Role Distribution</text></g><g class=\"g-ytitle\" transform=\"translate(1.7841796875,0)\"><text class=\"ytitle\" transform=\"rotate(-90,12.215624999999989,260)\" x=\"12.215624999999989\" y=\"260\" text-anchor=\"middle\" style=\"font-family: 'Open Sans', verdana, arial, sans-serif; font-size: 14px; fill: rgb(42, 63, 95); opacity: 1; font-weight: normal; white-space: pre;\">Job Role</text></g><g class=\"g-y2title\"/><g class=\"annotation\" data-index=\"0\" style=\"opacity: 1;\"><g class=\"annotation-text-g\" transform=\"rotate(0,382.175,88.5)\"><g class=\"cursor-pointer\" transform=\"translate(319,77)\"><rect class=\"bg\" x=\"0.5\" y=\"0.5\" width=\"126\" height=\"22\" style=\"stroke-width: 1px; stroke: rgb(0, 0, 0); stroke-opacity: 0; fill: rgb(0, 0, 0); fill-opacity: 0;\"/><text class=\"annotation-text\" text-anchor=\"middle\" x=\"63.1875\" y=\"18\" style=\"font-family: 'Open Sans', verdana, arial, sans-serif; font-size: 16px; fill: rgb(42, 63, 95); fill-opacity: 1; white-space: pre;\">Employees Left</text></g></g></g><g class=\"annotation\" data-index=\"1\" style=\"opacity: 1;\"><g class=\"annotation-text-g\" transform=\"rotate(0,834.825,88.5)\"><g class=\"cursor-pointer\" transform=\"translate(759,77)\"><rect class=\"bg\" x=\"0.5\" y=\"0.5\" width=\"151\" height=\"22\" style=\"stroke-width: 1px; stroke: rgb(0, 0, 0); stroke-opacity: 0; fill: rgb(0, 0, 0); fill-opacity: 0;\"/><text class=\"annotation-text\" text-anchor=\"middle\" x=\"75.78125\" y=\"18\" style=\"font-family: 'Open Sans', verdana, arial, sans-serif; font-size: 16px; fill: rgb(42, 63, 95); fill-opacity: 1; white-space: pre;\">Employees Stayed</text></g></g></g></g></svg>"
      ]
     },
     "metadata": {},
     "output_type": "display_data"
    }
   ],
   "source": [
    "fig = make_subplots(rows = 1, cols = 2,\n",
    "                    subplot_titles = ['Employees Left', 'Employees Stayed'])\n",
    "fig.add_trace(\n",
    "    go.Funnel(\n",
    "        name = 'Employees Left',\n",
    "        y = job_role_df_left['JobRole'],\n",
    "        x = job_role_df_left['Count'],\n",
    "        textinfo = 'value',\n",
    "        marker = {\"color\": \"#008080\"}\n",
    "    ),\n",
    "    row = 1, col = 1\n",
    ")\n",
    "fig.add_trace(\n",
    "    go.Funnel(\n",
    "        name='Employees Stayed',\n",
    "        x=job_role_df_stayed['Count'],\n",
    "        y=job_role_df_stayed['JobRole'],\n",
    "        textinfo=\"value\",\n",
    "        marker = {\"color\": '#00cccc'}\n",
    "    ),\n",
    "    row=1, col=2\n",
    ")\n",
    "fig.update_layout(\n",
    "    width=1100,\n",
    "    height=500,\n",
    "    plot_bgcolor='#FFFFFF',\n",
    "    title='Job Role Distribution',\n",
    "    yaxis_title='Job Role',\n",
    "    showlegend=False\n",
    ")\n",
    "\n",
    "fig.show(renderer=\"svg\")"
   ]
  },
  {
   "cell_type": "markdown",
   "metadata": {},
   "source": [
    "#### 4. Which factors (e.g.,job satisfaction, work-life balance, distance from home) correlate most strongly with attrition?"
   ]
  },
  {
   "cell_type": "code",
   "execution_count": 14,
   "metadata": {},
   "outputs": [
    {
     "name": "stderr",
     "output_type": "stream",
     "text": [
      "C:\\Users\\HP\\AppData\\Local\\Temp\\ipykernel_2608\\4088320954.py:4: FutureWarning:\n",
      "\n",
      "The default value of numeric_only in DataFrame.corr is deprecated. In a future version, it will default to False. Select only valid columns or specify the value of numeric_only to silence this warning.\n",
      "\n"
     ]
    },
    {
     "data": {
      "text/html": [
       "<div>\n",
       "<style scoped>\n",
       "    .dataframe tbody tr th:only-of-type {\n",
       "        vertical-align: middle;\n",
       "    }\n",
       "\n",
       "    .dataframe tbody tr th {\n",
       "        vertical-align: top;\n",
       "    }\n",
       "\n",
       "    .dataframe thead th {\n",
       "        text-align: right;\n",
       "    }\n",
       "</style>\n",
       "<table border=\"1\" class=\"dataframe\">\n",
       "  <thead>\n",
       "    <tr style=\"text-align: right;\">\n",
       "      <th></th>\n",
       "      <th>Attrition</th>\n",
       "    </tr>\n",
       "  </thead>\n",
       "  <tbody>\n",
       "    <tr>\n",
       "      <th>JobSatisfaction</th>\n",
       "      <td>-0.103481</td>\n",
       "    </tr>\n",
       "    <tr>\n",
       "      <th>DistanceFromHome</th>\n",
       "      <td>0.077924</td>\n",
       "    </tr>\n",
       "    <tr>\n",
       "      <th>WorkLifeBalance</th>\n",
       "      <td>-0.063939</td>\n",
       "    </tr>\n",
       "  </tbody>\n",
       "</table>\n",
       "</div>"
      ],
      "text/plain": [
       "                  Attrition\n",
       "JobSatisfaction   -0.103481\n",
       "DistanceFromHome   0.077924\n",
       "WorkLifeBalance   -0.063939"
      ]
     },
     "execution_count": 14,
     "metadata": {},
     "output_type": "execute_result"
    }
   ],
   "source": [
    "# Compute correlation matrix\n",
    "df_copy = df.copy()\n",
    "df_copy['Attrition'] = df_copy['Attrition'].apply(lambda x: 1 if x == 'Yes' else 0)\n",
    "correlation_matrix = df_copy.corr()\n",
    "df_corr_mat = pd.DataFrame(correlation_matrix['Attrition'][['JobSatisfaction', 'DistanceFromHome', 'WorkLifeBalance']])\n",
    "df_corr_mat"
   ]
  },
  {
   "cell_type": "markdown",
   "metadata": {},
   "source": [
    "#### 5. Are there patterns in the number of years worked or promotions recevied concering attrition?"
   ]
  },
  {
   "cell_type": "code",
   "execution_count": 15,
   "metadata": {},
   "outputs": [
    {
     "data": {
      "application/vnd.plotly.v1+json": {
       "config": {
        "plotlyServerURL": "https://plot.ly"
       },
       "data": [
        {
         "alignmentgroup": "True",
         "bingroup": "x",
         "hovertemplate": "Attrition=Yes<br>YearsSinceLastPromotion=%{x}<br>count=%{y}<extra></extra>",
         "legendgroup": "Yes",
         "marker": {
          "color": "#00cccc",
          "pattern": {
           "shape": ""
          }
         },
         "name": "Yes",
         "offsetgroup": "Yes",
         "orientation": "v",
         "showlegend": true,
         "type": "histogram",
         "x": [
          0,
          0,
          0,
          0,
          1,
          6,
          0,
          2,
          0,
          0,
          15,
          0,
          2,
          0,
          4,
          0,
          1,
          0,
          0,
          4,
          7,
          15,
          0,
          2,
          0,
          0,
          0,
          1,
          0,
          0,
          0,
          1,
          9,
          0,
          0,
          1,
          0,
          0,
          1,
          1,
          0,
          1,
          0,
          9,
          0,
          0,
          7,
          0,
          7,
          2,
          0,
          0,
          1,
          0,
          7,
          1,
          0,
          0,
          0,
          0,
          0,
          1,
          1,
          1,
          0,
          7,
          1,
          0,
          0,
          1,
          1,
          0,
          0,
          1,
          1,
          0,
          1,
          0,
          0,
          1,
          9,
          2,
          1,
          3,
          2,
          7,
          1,
          1,
          1,
          0,
          0,
          0,
          13,
          2,
          7,
          7,
          1,
          7,
          0,
          0,
          0,
          0,
          0,
          0,
          1,
          2,
          0,
          0,
          0,
          3,
          11,
          0,
          0,
          1,
          0,
          0,
          0,
          0,
          1,
          0,
          2,
          6,
          15,
          0,
          1,
          0,
          1,
          2,
          1,
          3,
          4,
          3,
          5,
          0,
          2,
          0,
          0,
          11,
          0,
          0,
          2,
          3,
          13,
          0,
          1,
          0,
          0,
          0,
          0,
          0,
          1,
          1,
          2,
          0,
          7,
          1,
          0,
          1,
          7,
          2,
          1,
          5,
          3,
          0,
          3,
          6,
          7,
          1,
          7,
          0,
          0,
          2,
          4,
          0,
          4,
          2,
          2,
          1,
          0,
          10,
          0,
          0,
          0,
          1,
          7,
          6,
          0,
          1,
          1,
          0,
          0,
          6,
          2,
          0,
          6,
          1,
          7,
          0,
          0,
          0,
          14,
          2,
          0,
          1,
          2,
          0,
          0,
          0,
          1,
          0,
          2,
          7,
          0,
          0,
          1,
          3,
          0,
          2,
          2,
          1,
          0,
          0,
          0,
          3,
          1,
          0,
          2,
          0,
          0,
          0,
          0,
          2,
          1,
          2,
          9,
          0,
          2
         ],
         "xaxis": "x",
         "yaxis": "y"
        },
        {
         "alignmentgroup": "True",
         "bingroup": "x",
         "hovertemplate": "Attrition=No<br>YearsSinceLastPromotion=%{x}<br>count=%{y}<extra></extra>",
         "legendgroup": "No",
         "marker": {
          "color": "#008080",
          "pattern": {
           "shape": ""
          }
         },
         "name": "No",
         "offsetgroup": "No",
         "orientation": "v",
         "showlegend": true,
         "type": "histogram",
         "x": [
          1,
          3,
          2,
          3,
          0,
          0,
          1,
          7,
          0,
          0,
          4,
          1,
          8,
          0,
          0,
          3,
          1,
          1,
          2,
          0,
          4,
          4,
          5,
          2,
          0,
          1,
          1,
          1,
          2,
          0,
          1,
          0,
          0,
          1,
          3,
          8,
          0,
          0,
          0,
          1,
          2,
          0,
          8,
          1,
          2,
          1,
          0,
          7,
          9,
          13,
          7,
          12,
          0,
          0,
          0,
          1,
          1,
          0,
          1,
          0,
          0,
          1,
          2,
          0,
          0,
          0,
          3,
          0,
          1,
          1,
          1,
          0,
          0,
          0,
          10,
          11,
          1,
          2,
          9,
          5,
          0,
          0,
          0,
          1,
          1,
          0,
          2,
          0,
          2,
          0,
          2,
          0,
          12,
          4,
          1,
          0,
          1,
          5,
          2,
          0,
          4,
          0,
          0,
          15,
          4,
          2,
          5,
          1,
          2,
          0,
          5,
          0,
          5,
          2,
          4,
          0,
          2,
          0,
          0,
          2,
          1,
          7,
          1,
          0,
          2,
          0,
          4,
          0,
          3,
          0,
          0,
          0,
          2,
          1,
          2,
          2,
          0,
          1,
          0,
          4,
          1,
          7,
          0,
          1,
          1,
          7,
          6,
          0,
          2,
          0,
          15,
          2,
          0,
          1,
          0,
          1,
          1,
          9,
          2,
          1,
          1,
          11,
          0,
          2,
          11,
          1,
          1,
          0,
          0,
          1,
          2,
          1,
          2,
          3,
          2,
          1,
          0,
          0,
          5,
          0,
          4,
          0,
          12,
          0,
          3,
          1,
          0,
          5,
          1,
          0,
          5,
          4,
          0,
          2,
          11,
          2,
          0,
          1,
          15,
          1,
          1,
          2,
          0,
          4,
          1,
          2,
          0,
          5,
          0,
          0,
          11,
          1,
          0,
          0,
          1,
          7,
          3,
          0,
          0,
          7,
          0,
          7,
          0,
          7,
          1,
          4,
          10,
          4,
          0,
          0,
          1,
          0,
          6,
          7,
          1,
          1,
          1,
          11,
          0,
          0,
          3,
          5,
          1,
          0,
          1,
          7,
          2,
          1,
          4,
          6,
          0,
          1,
          0,
          0,
          0,
          7,
          3,
          0,
          4,
          0,
          1,
          0,
          1,
          9,
          2,
          8,
          11,
          1,
          0,
          1,
          11,
          0,
          1,
          0,
          1,
          8,
          13,
          0,
          1,
          0,
          1,
          0,
          0,
          9,
          0,
          2,
          1,
          0,
          0,
          2,
          4,
          1,
          0,
          0,
          1,
          0,
          0,
          0,
          1,
          0,
          0,
          6,
          2,
          7,
          0,
          0,
          1,
          1,
          1,
          2,
          0,
          0,
          1,
          2,
          1,
          0,
          0,
          0,
          0,
          0,
          2,
          1,
          0,
          0,
          1,
          9,
          12,
          1,
          1,
          0,
          3,
          0,
          1,
          1,
          3,
          1,
          0,
          1,
          10,
          3,
          1,
          7,
          4,
          0,
          1,
          0,
          0,
          1,
          0,
          0,
          11,
          0,
          0,
          0,
          1,
          0,
          1,
          0,
          7,
          0,
          15,
          6,
          13,
          0,
          0,
          4,
          0,
          5,
          1,
          0,
          1,
          0,
          2,
          9,
          6,
          7,
          1,
          6,
          5,
          0,
          0,
          5,
          3,
          1,
          0,
          0,
          0,
          0,
          0,
          0,
          5,
          1,
          1,
          11,
          7,
          6,
          2,
          0,
          4,
          0,
          1,
          1,
          0,
          10,
          0,
          1,
          0,
          5,
          0,
          1,
          0,
          2,
          0,
          0,
          4,
          0,
          0,
          0,
          1,
          0,
          2,
          1,
          0,
          0,
          8,
          8,
          0,
          7,
          1,
          11,
          4,
          7,
          0,
          1,
          0,
          0,
          1,
          0,
          2,
          2,
          0,
          0,
          3,
          7,
          11,
          0,
          1,
          0,
          7,
          1,
          1,
          1,
          12,
          2,
          1,
          2,
          2,
          0,
          0,
          1,
          11,
          7,
          0,
          2,
          4,
          0,
          3,
          1,
          2,
          0,
          2,
          2,
          0,
          4,
          0,
          0,
          1,
          1,
          3,
          0,
          1,
          0,
          1,
          2,
          1,
          1,
          1,
          1,
          4,
          4,
          1,
          0,
          0,
          3,
          1,
          14,
          0,
          1,
          0,
          3,
          3,
          0,
          0,
          2,
          0,
          0,
          6,
          0,
          0,
          0,
          7,
          1,
          1,
          1,
          0,
          1,
          7,
          0,
          0,
          4,
          2,
          0,
          0,
          1,
          4,
          0,
          0,
          0,
          0,
          1,
          0,
          0,
          0,
          2,
          0,
          2,
          0,
          0,
          5,
          0,
          0,
          0,
          3,
          5,
          1,
          1,
          0,
          2,
          4,
          0,
          3,
          2,
          7,
          0,
          14,
          0,
          0,
          0,
          7,
          0,
          0,
          4,
          1,
          2,
          0,
          1,
          0,
          0,
          0,
          5,
          0,
          1,
          0,
          0,
          0,
          5,
          0,
          0,
          0,
          2,
          3,
          8,
          0,
          6,
          1,
          0,
          0,
          1,
          7,
          15,
          7,
          1,
          0,
          0,
          2,
          0,
          6,
          0,
          0,
          1,
          1,
          0,
          2,
          0,
          0,
          1,
          0,
          0,
          3,
          0,
          0,
          0,
          10,
          1,
          1,
          1,
          2,
          4,
          2,
          11,
          2,
          1,
          0,
          0,
          4,
          6,
          5,
          0,
          11,
          0,
          2,
          2,
          1,
          7,
          0,
          0,
          0,
          6,
          0,
          0,
          2,
          7,
          0,
          7,
          1,
          2,
          7,
          0,
          7,
          6,
          0,
          1,
          1,
          0,
          0,
          1,
          11,
          1,
          1,
          1,
          1,
          2,
          0,
          0,
          13,
          0,
          0,
          2,
          4,
          4,
          2,
          1,
          1,
          4,
          0,
          0,
          4,
          2,
          0,
          0,
          2,
          0,
          0,
          2,
          0,
          1,
          0,
          1,
          5,
          0,
          0,
          1,
          2,
          1,
          1,
          2,
          1,
          1,
          1,
          0,
          1,
          0,
          6,
          4,
          2,
          0,
          4,
          0,
          0,
          0,
          3,
          1,
          4,
          1,
          15,
          0,
          1,
          0,
          0,
          2,
          3,
          0,
          1,
          0,
          1,
          8,
          13,
          2,
          1,
          0,
          1,
          2,
          0,
          7,
          4,
          1,
          1,
          5,
          0,
          4,
          6,
          1,
          7,
          1,
          0,
          0,
          1,
          0,
          0,
          0,
          0,
          0,
          0,
          1,
          0,
          1,
          0,
          3,
          0,
          0,
          0,
          2,
          15,
          0,
          0,
          11,
          5,
          5,
          0,
          14,
          1,
          2,
          0,
          15,
          5,
          2,
          7,
          1,
          1,
          2,
          0,
          0,
          15,
          2,
          6,
          1,
          5,
          7,
          1,
          0,
          1,
          9,
          11,
          2,
          9,
          7,
          0,
          1,
          8,
          1,
          1,
          0,
          1,
          9,
          1,
          0,
          6,
          0,
          0,
          0,
          0,
          0,
          0,
          15,
          0,
          11,
          7,
          0,
          4,
          0,
          1,
          3,
          3,
          1,
          1,
          1,
          0,
          1,
          0,
          1,
          4,
          1,
          0,
          0,
          0,
          2,
          0,
          0,
          0,
          12,
          1,
          0,
          0,
          0,
          1,
          1,
          1,
          1,
          0,
          1,
          1,
          1,
          5,
          0,
          0,
          0,
          0,
          0,
          9,
          0,
          0,
          1,
          2,
          4,
          1,
          0,
          8,
          1,
          1,
          1,
          0,
          3,
          2,
          5,
          0,
          0,
          2,
          0,
          6,
          0,
          0,
          2,
          0,
          1,
          1,
          0,
          1,
          0,
          1,
          1,
          0,
          1,
          0,
          0,
          1,
          14,
          2,
          5,
          3,
          1,
          8,
          13,
          5,
          0,
          3,
          0,
          0,
          0,
          13,
          7,
          5,
          7,
          0,
          2,
          7,
          4,
          2,
          1,
          7,
          0,
          2,
          1,
          1,
          1,
          1,
          7,
          0,
          2,
          2,
          0,
          7,
          1,
          0,
          1,
          0,
          7,
          1,
          0,
          2,
          0,
          0,
          6,
          7,
          1,
          0,
          0,
          0,
          1,
          12,
          0,
          1,
          1,
          1,
          4,
          0,
          1,
          7,
          1,
          7,
          0,
          1,
          0,
          2,
          1,
          0,
          14,
          2,
          0,
          3,
          3,
          0,
          7,
          3,
          0,
          2,
          1,
          0,
          1,
          1,
          0,
          0,
          1,
          1,
          1,
          2,
          7,
          1,
          2,
          1,
          0,
          4,
          6,
          2,
          0,
          0,
          1,
          0,
          2,
          3,
          1,
          0,
          0,
          0,
          1,
          0,
          2,
          0,
          1,
          5,
          1,
          4,
          0,
          2,
          1,
          8,
          6,
          1,
          8,
          0,
          8,
          1,
          6,
          14,
          0,
          8,
          1,
          0,
          1,
          0,
          1,
          0,
          0,
          0,
          0,
          0,
          1,
          1,
          5,
          0,
          12,
          0,
          0,
          2,
          0,
          1,
          0,
          1,
          1,
          1,
          0,
          0,
          0,
          1,
          0,
          1,
          0,
          0,
          1,
          0,
          0,
          0,
          1,
          2,
          0,
          5,
          2,
          0,
          2,
          5,
          4,
          7,
          0,
          2,
          2,
          0,
          0,
          1,
          3,
          2,
          1,
          1,
          13,
          0,
          0,
          4,
          14,
          0,
          14,
          7,
          1,
          2,
          1,
          0,
          1,
          2,
          0,
          5,
          0,
          7,
          0,
          3,
          0,
          3,
          2,
          4,
          2,
          1,
          0,
          2,
          5,
          0,
          6,
          12,
          7,
          2,
          0,
          0,
          1,
          0,
          1,
          1,
          0,
          0,
          3,
          0,
          11,
          1,
          0,
          4,
          2,
          1,
          1,
          5,
          1,
          0,
          2,
          7,
          0,
          0,
          0,
          1,
          1,
          6,
          1,
          0,
          7,
          0,
          0,
          0,
          4,
          0,
          0,
          1,
          2,
          0,
          2,
          1,
          7,
          0,
          1,
          8,
          0,
          0,
          0,
          0,
          2,
          2,
          0,
          1,
          1,
          0,
          11,
          3,
          4,
          1,
          1,
          1,
          9,
          5,
          1,
          1,
          0,
          12,
          0,
          5,
          1,
          7,
          1,
          1,
          5,
          2,
          1,
          0,
          8,
          4,
          0,
          2,
          1,
          1,
          5,
          6,
          0,
          0,
          1,
          1,
          1,
          3,
          0,
          1,
          4,
          0,
          1,
          11,
          0,
          1,
          1,
          1,
          0,
          0,
          2,
          0,
          0,
          1,
          0,
          0,
          9,
          1,
          0,
          0,
          1,
          0,
          0,
          1
         ],
         "xaxis": "x",
         "yaxis": "y"
        }
       ],
       "layout": {
        "bargap": 0.1,
        "barmode": "group",
        "height": 500,
        "legend": {
         "title": {
          "text": "Attrition"
         },
         "tracegroupgap": 0
        },
        "margin": {
         "t": 60
        },
        "plot_bgcolor": "#FFFFFF",
        "template": {
         "data": {
          "bar": [
           {
            "error_x": {
             "color": "#2a3f5f"
            },
            "error_y": {
             "color": "#2a3f5f"
            },
            "marker": {
             "line": {
              "color": "#E5ECF6",
              "width": 0.5
             },
             "pattern": {
              "fillmode": "overlay",
              "size": 10,
              "solidity": 0.2
             }
            },
            "type": "bar"
           }
          ],
          "barpolar": [
           {
            "marker": {
             "line": {
              "color": "#E5ECF6",
              "width": 0.5
             },
             "pattern": {
              "fillmode": "overlay",
              "size": 10,
              "solidity": 0.2
             }
            },
            "type": "barpolar"
           }
          ],
          "carpet": [
           {
            "aaxis": {
             "endlinecolor": "#2a3f5f",
             "gridcolor": "white",
             "linecolor": "white",
             "minorgridcolor": "white",
             "startlinecolor": "#2a3f5f"
            },
            "baxis": {
             "endlinecolor": "#2a3f5f",
             "gridcolor": "white",
             "linecolor": "white",
             "minorgridcolor": "white",
             "startlinecolor": "#2a3f5f"
            },
            "type": "carpet"
           }
          ],
          "choropleth": [
           {
            "colorbar": {
             "outlinewidth": 0,
             "ticks": ""
            },
            "type": "choropleth"
           }
          ],
          "contour": [
           {
            "colorbar": {
             "outlinewidth": 0,
             "ticks": ""
            },
            "colorscale": [
             [
              0,
              "#0d0887"
             ],
             [
              0.1111111111111111,
              "#46039f"
             ],
             [
              0.2222222222222222,
              "#7201a8"
             ],
             [
              0.3333333333333333,
              "#9c179e"
             ],
             [
              0.4444444444444444,
              "#bd3786"
             ],
             [
              0.5555555555555556,
              "#d8576b"
             ],
             [
              0.6666666666666666,
              "#ed7953"
             ],
             [
              0.7777777777777778,
              "#fb9f3a"
             ],
             [
              0.8888888888888888,
              "#fdca26"
             ],
             [
              1,
              "#f0f921"
             ]
            ],
            "type": "contour"
           }
          ],
          "contourcarpet": [
           {
            "colorbar": {
             "outlinewidth": 0,
             "ticks": ""
            },
            "type": "contourcarpet"
           }
          ],
          "heatmap": [
           {
            "colorbar": {
             "outlinewidth": 0,
             "ticks": ""
            },
            "colorscale": [
             [
              0,
              "#0d0887"
             ],
             [
              0.1111111111111111,
              "#46039f"
             ],
             [
              0.2222222222222222,
              "#7201a8"
             ],
             [
              0.3333333333333333,
              "#9c179e"
             ],
             [
              0.4444444444444444,
              "#bd3786"
             ],
             [
              0.5555555555555556,
              "#d8576b"
             ],
             [
              0.6666666666666666,
              "#ed7953"
             ],
             [
              0.7777777777777778,
              "#fb9f3a"
             ],
             [
              0.8888888888888888,
              "#fdca26"
             ],
             [
              1,
              "#f0f921"
             ]
            ],
            "type": "heatmap"
           }
          ],
          "heatmapgl": [
           {
            "colorbar": {
             "outlinewidth": 0,
             "ticks": ""
            },
            "colorscale": [
             [
              0,
              "#0d0887"
             ],
             [
              0.1111111111111111,
              "#46039f"
             ],
             [
              0.2222222222222222,
              "#7201a8"
             ],
             [
              0.3333333333333333,
              "#9c179e"
             ],
             [
              0.4444444444444444,
              "#bd3786"
             ],
             [
              0.5555555555555556,
              "#d8576b"
             ],
             [
              0.6666666666666666,
              "#ed7953"
             ],
             [
              0.7777777777777778,
              "#fb9f3a"
             ],
             [
              0.8888888888888888,
              "#fdca26"
             ],
             [
              1,
              "#f0f921"
             ]
            ],
            "type": "heatmapgl"
           }
          ],
          "histogram": [
           {
            "marker": {
             "pattern": {
              "fillmode": "overlay",
              "size": 10,
              "solidity": 0.2
             }
            },
            "type": "histogram"
           }
          ],
          "histogram2d": [
           {
            "colorbar": {
             "outlinewidth": 0,
             "ticks": ""
            },
            "colorscale": [
             [
              0,
              "#0d0887"
             ],
             [
              0.1111111111111111,
              "#46039f"
             ],
             [
              0.2222222222222222,
              "#7201a8"
             ],
             [
              0.3333333333333333,
              "#9c179e"
             ],
             [
              0.4444444444444444,
              "#bd3786"
             ],
             [
              0.5555555555555556,
              "#d8576b"
             ],
             [
              0.6666666666666666,
              "#ed7953"
             ],
             [
              0.7777777777777778,
              "#fb9f3a"
             ],
             [
              0.8888888888888888,
              "#fdca26"
             ],
             [
              1,
              "#f0f921"
             ]
            ],
            "type": "histogram2d"
           }
          ],
          "histogram2dcontour": [
           {
            "colorbar": {
             "outlinewidth": 0,
             "ticks": ""
            },
            "colorscale": [
             [
              0,
              "#0d0887"
             ],
             [
              0.1111111111111111,
              "#46039f"
             ],
             [
              0.2222222222222222,
              "#7201a8"
             ],
             [
              0.3333333333333333,
              "#9c179e"
             ],
             [
              0.4444444444444444,
              "#bd3786"
             ],
             [
              0.5555555555555556,
              "#d8576b"
             ],
             [
              0.6666666666666666,
              "#ed7953"
             ],
             [
              0.7777777777777778,
              "#fb9f3a"
             ],
             [
              0.8888888888888888,
              "#fdca26"
             ],
             [
              1,
              "#f0f921"
             ]
            ],
            "type": "histogram2dcontour"
           }
          ],
          "mesh3d": [
           {
            "colorbar": {
             "outlinewidth": 0,
             "ticks": ""
            },
            "type": "mesh3d"
           }
          ],
          "parcoords": [
           {
            "line": {
             "colorbar": {
              "outlinewidth": 0,
              "ticks": ""
             }
            },
            "type": "parcoords"
           }
          ],
          "pie": [
           {
            "automargin": true,
            "type": "pie"
           }
          ],
          "scatter": [
           {
            "fillpattern": {
             "fillmode": "overlay",
             "size": 10,
             "solidity": 0.2
            },
            "type": "scatter"
           }
          ],
          "scatter3d": [
           {
            "line": {
             "colorbar": {
              "outlinewidth": 0,
              "ticks": ""
             }
            },
            "marker": {
             "colorbar": {
              "outlinewidth": 0,
              "ticks": ""
             }
            },
            "type": "scatter3d"
           }
          ],
          "scattercarpet": [
           {
            "marker": {
             "colorbar": {
              "outlinewidth": 0,
              "ticks": ""
             }
            },
            "type": "scattercarpet"
           }
          ],
          "scattergeo": [
           {
            "marker": {
             "colorbar": {
              "outlinewidth": 0,
              "ticks": ""
             }
            },
            "type": "scattergeo"
           }
          ],
          "scattergl": [
           {
            "marker": {
             "colorbar": {
              "outlinewidth": 0,
              "ticks": ""
             }
            },
            "type": "scattergl"
           }
          ],
          "scattermapbox": [
           {
            "marker": {
             "colorbar": {
              "outlinewidth": 0,
              "ticks": ""
             }
            },
            "type": "scattermapbox"
           }
          ],
          "scatterpolar": [
           {
            "marker": {
             "colorbar": {
              "outlinewidth": 0,
              "ticks": ""
             }
            },
            "type": "scatterpolar"
           }
          ],
          "scatterpolargl": [
           {
            "marker": {
             "colorbar": {
              "outlinewidth": 0,
              "ticks": ""
             }
            },
            "type": "scatterpolargl"
           }
          ],
          "scatterternary": [
           {
            "marker": {
             "colorbar": {
              "outlinewidth": 0,
              "ticks": ""
             }
            },
            "type": "scatterternary"
           }
          ],
          "surface": [
           {
            "colorbar": {
             "outlinewidth": 0,
             "ticks": ""
            },
            "colorscale": [
             [
              0,
              "#0d0887"
             ],
             [
              0.1111111111111111,
              "#46039f"
             ],
             [
              0.2222222222222222,
              "#7201a8"
             ],
             [
              0.3333333333333333,
              "#9c179e"
             ],
             [
              0.4444444444444444,
              "#bd3786"
             ],
             [
              0.5555555555555556,
              "#d8576b"
             ],
             [
              0.6666666666666666,
              "#ed7953"
             ],
             [
              0.7777777777777778,
              "#fb9f3a"
             ],
             [
              0.8888888888888888,
              "#fdca26"
             ],
             [
              1,
              "#f0f921"
             ]
            ],
            "type": "surface"
           }
          ],
          "table": [
           {
            "cells": {
             "fill": {
              "color": "#EBF0F8"
             },
             "line": {
              "color": "white"
             }
            },
            "header": {
             "fill": {
              "color": "#C8D4E3"
             },
             "line": {
              "color": "white"
             }
            },
            "type": "table"
           }
          ]
         },
         "layout": {
          "annotationdefaults": {
           "arrowcolor": "#2a3f5f",
           "arrowhead": 0,
           "arrowwidth": 1
          },
          "autotypenumbers": "strict",
          "coloraxis": {
           "colorbar": {
            "outlinewidth": 0,
            "ticks": ""
           }
          },
          "colorscale": {
           "diverging": [
            [
             0,
             "#8e0152"
            ],
            [
             0.1,
             "#c51b7d"
            ],
            [
             0.2,
             "#de77ae"
            ],
            [
             0.3,
             "#f1b6da"
            ],
            [
             0.4,
             "#fde0ef"
            ],
            [
             0.5,
             "#f7f7f7"
            ],
            [
             0.6,
             "#e6f5d0"
            ],
            [
             0.7,
             "#b8e186"
            ],
            [
             0.8,
             "#7fbc41"
            ],
            [
             0.9,
             "#4d9221"
            ],
            [
             1,
             "#276419"
            ]
           ],
           "sequential": [
            [
             0,
             "#0d0887"
            ],
            [
             0.1111111111111111,
             "#46039f"
            ],
            [
             0.2222222222222222,
             "#7201a8"
            ],
            [
             0.3333333333333333,
             "#9c179e"
            ],
            [
             0.4444444444444444,
             "#bd3786"
            ],
            [
             0.5555555555555556,
             "#d8576b"
            ],
            [
             0.6666666666666666,
             "#ed7953"
            ],
            [
             0.7777777777777778,
             "#fb9f3a"
            ],
            [
             0.8888888888888888,
             "#fdca26"
            ],
            [
             1,
             "#f0f921"
            ]
           ],
           "sequentialminus": [
            [
             0,
             "#0d0887"
            ],
            [
             0.1111111111111111,
             "#46039f"
            ],
            [
             0.2222222222222222,
             "#7201a8"
            ],
            [
             0.3333333333333333,
             "#9c179e"
            ],
            [
             0.4444444444444444,
             "#bd3786"
            ],
            [
             0.5555555555555556,
             "#d8576b"
            ],
            [
             0.6666666666666666,
             "#ed7953"
            ],
            [
             0.7777777777777778,
             "#fb9f3a"
            ],
            [
             0.8888888888888888,
             "#fdca26"
            ],
            [
             1,
             "#f0f921"
            ]
           ]
          },
          "colorway": [
           "#636efa",
           "#EF553B",
           "#00cc96",
           "#ab63fa",
           "#FFA15A",
           "#19d3f3",
           "#FF6692",
           "#B6E880",
           "#FF97FF",
           "#FECB52"
          ],
          "font": {
           "color": "#2a3f5f"
          },
          "geo": {
           "bgcolor": "white",
           "lakecolor": "white",
           "landcolor": "#E5ECF6",
           "showlakes": true,
           "showland": true,
           "subunitcolor": "white"
          },
          "hoverlabel": {
           "align": "left"
          },
          "hovermode": "closest",
          "mapbox": {
           "style": "light"
          },
          "paper_bgcolor": "white",
          "plot_bgcolor": "#E5ECF6",
          "polar": {
           "angularaxis": {
            "gridcolor": "white",
            "linecolor": "white",
            "ticks": ""
           },
           "bgcolor": "#E5ECF6",
           "radialaxis": {
            "gridcolor": "white",
            "linecolor": "white",
            "ticks": ""
           }
          },
          "scene": {
           "xaxis": {
            "backgroundcolor": "#E5ECF6",
            "gridcolor": "white",
            "gridwidth": 2,
            "linecolor": "white",
            "showbackground": true,
            "ticks": "",
            "zerolinecolor": "white"
           },
           "yaxis": {
            "backgroundcolor": "#E5ECF6",
            "gridcolor": "white",
            "gridwidth": 2,
            "linecolor": "white",
            "showbackground": true,
            "ticks": "",
            "zerolinecolor": "white"
           },
           "zaxis": {
            "backgroundcolor": "#E5ECF6",
            "gridcolor": "white",
            "gridwidth": 2,
            "linecolor": "white",
            "showbackground": true,
            "ticks": "",
            "zerolinecolor": "white"
           }
          },
          "shapedefaults": {
           "line": {
            "color": "#2a3f5f"
           }
          },
          "ternary": {
           "aaxis": {
            "gridcolor": "white",
            "linecolor": "white",
            "ticks": ""
           },
           "baxis": {
            "gridcolor": "white",
            "linecolor": "white",
            "ticks": ""
           },
           "bgcolor": "#E5ECF6",
           "caxis": {
            "gridcolor": "white",
            "linecolor": "white",
            "ticks": ""
           }
          },
          "title": {
           "x": 0.05
          },
          "xaxis": {
           "automargin": true,
           "gridcolor": "white",
           "linecolor": "white",
           "ticks": "",
           "title": {
            "standoff": 15
           },
           "zerolinecolor": "white",
           "zerolinewidth": 2
          },
          "yaxis": {
           "automargin": true,
           "gridcolor": "white",
           "linecolor": "white",
           "ticks": "",
           "title": {
            "standoff": 15
           },
           "zerolinecolor": "white",
           "zerolinewidth": 2
          }
         }
        },
        "width": 800,
        "xaxis": {
         "anchor": "y",
         "domain": [
          0,
          1
         ],
         "showgrid": false,
         "title": {
          "text": "Years Since Last Promotion"
         }
        },
        "yaxis": {
         "anchor": "x",
         "domain": [
          0,
          1
         ],
         "showgrid": false,
         "title": {
          "text": "Count of Employees"
         }
        }
       }
      }
     },
     "metadata": {},
     "output_type": "display_data"
    }
   ],
   "source": [
    "fig = px.histogram(df, x = 'YearsSinceLastPromotion', color = 'Attrition', barmode = 'group'\n",
    "             , color_discrete_sequence = ['#00cccc', '#008080'])\n",
    "fig.update_layout(bargap = 0.1, width = 800, height = 500, plot_bgcolor = '#FFFFFF')\n",
    "fig.update_xaxes(title = 'Years Since Last Promotion', showgrid = False)\n",
    "fig.update_yaxes(title = 'Count of Employees', showgrid = False)\n",
    "fig.show()"
   ]
  },
  {
   "cell_type": "markdown",
   "metadata": {},
   "source": [
    "#### 6. Does higher job involvement or performance ratings relate to longer tenures?"
   ]
  },
  {
   "cell_type": "code",
   "execution_count": 16,
   "metadata": {},
   "outputs": [
    {
     "data": {
      "application/vnd.plotly.v1+json": {
       "config": {
        "plotlyServerURL": "https://plot.ly"
       },
       "data": [
        {
         "alignmentgroup": "True",
         "bingroup": "x",
         "hovertemplate": "Attrition=Yes<br>JobInvolvement=%{x}<br>count=%{y}<extra></extra>",
         "legendgroup": "Yes",
         "marker": {
          "color": "#00cccc",
          "pattern": {
           "shape": ""
          }
         },
         "name": "Yes",
         "offsetgroup": "Yes",
         "orientation": "v",
         "showlegend": true,
         "type": "histogram",
         "x": [
          3,
          2,
          2,
          2,
          3,
          1,
          3,
          3,
          2,
          1,
          3,
          2,
          3,
          2,
          2,
          3,
          2,
          2,
          1,
          3,
          1,
          3,
          3,
          1,
          1,
          3,
          1,
          2,
          3,
          2,
          3,
          3,
          1,
          3,
          2,
          3,
          2,
          3,
          3,
          2,
          3,
          2,
          3,
          3,
          3,
          3,
          2,
          3,
          2,
          1,
          3,
          1,
          2,
          3,
          3,
          2,
          4,
          4,
          3,
          3,
          3,
          3,
          1,
          2,
          2,
          3,
          1,
          3,
          3,
          2,
          3,
          3,
          1,
          4,
          3,
          2,
          3,
          3,
          3,
          3,
          3,
          3,
          3,
          1,
          4,
          3,
          4,
          3,
          2,
          4,
          2,
          3,
          3,
          3,
          3,
          3,
          2,
          3,
          2,
          3,
          2,
          2,
          3,
          3,
          1,
          3,
          2,
          2,
          3,
          2,
          2,
          3,
          4,
          2,
          2,
          3,
          2,
          2,
          3,
          1,
          1,
          1,
          4,
          3,
          3,
          3,
          2,
          3,
          2,
          2,
          3,
          2,
          3,
          3,
          2,
          2,
          3,
          3,
          3,
          3,
          3,
          2,
          3,
          3,
          1,
          3,
          2,
          2,
          3,
          2,
          1,
          1,
          2,
          3,
          3,
          3,
          3,
          2,
          3,
          3,
          3,
          2,
          4,
          2,
          3,
          3,
          3,
          2,
          3,
          1,
          2,
          2,
          3,
          2,
          4,
          3,
          3,
          3,
          3,
          2,
          3,
          2,
          2,
          3,
          3,
          2,
          3,
          2,
          3,
          3,
          3,
          2,
          1,
          3,
          3,
          2,
          3,
          3,
          3,
          1,
          1,
          2,
          1,
          2,
          1,
          3,
          3,
          2,
          3,
          3,
          3,
          3,
          3,
          3,
          3,
          3,
          4,
          2,
          2,
          2,
          3,
          3,
          3,
          1,
          3,
          4,
          3,
          4,
          2,
          2,
          3,
          3,
          3,
          3,
          3,
          3,
          2
         ],
         "xaxis": "x",
         "yaxis": "y"
        },
        {
         "alignmentgroup": "True",
         "bingroup": "x",
         "hovertemplate": "Attrition=No<br>JobInvolvement=%{x}<br>count=%{y}<extra></extra>",
         "legendgroup": "No",
         "marker": {
          "color": "#008080",
          "pattern": {
           "shape": ""
          }
         },
         "name": "No",
         "offsetgroup": "No",
         "orientation": "v",
         "showlegend": true,
         "type": "histogram",
         "x": [
          2,
          3,
          3,
          3,
          4,
          3,
          2,
          3,
          4,
          2,
          3,
          3,
          4,
          4,
          4,
          2,
          3,
          4,
          3,
          3,
          3,
          3,
          2,
          3,
          3,
          3,
          2,
          4,
          3,
          2,
          4,
          3,
          3,
          3,
          3,
          3,
          3,
          3,
          4,
          3,
          2,
          2,
          3,
          3,
          3,
          3,
          2,
          3,
          3,
          2,
          3,
          3,
          3,
          2,
          3,
          3,
          2,
          3,
          3,
          3,
          4,
          3,
          2,
          3,
          3,
          3,
          2,
          2,
          3,
          1,
          3,
          1,
          3,
          3,
          2,
          2,
          3,
          2,
          2,
          3,
          3,
          3,
          3,
          3,
          3,
          3,
          3,
          2,
          2,
          3,
          2,
          3,
          2,
          4,
          3,
          2,
          3,
          2,
          3,
          3,
          3,
          1,
          3,
          3,
          2,
          3,
          3,
          4,
          3,
          3,
          3,
          3,
          2,
          2,
          3,
          3,
          3,
          3,
          1,
          3,
          2,
          2,
          3,
          3,
          3,
          3,
          3,
          3,
          3,
          3,
          2,
          2,
          2,
          3,
          3,
          3,
          3,
          4,
          2,
          3,
          3,
          3,
          2,
          3,
          3,
          3,
          3,
          3,
          3,
          3,
          3,
          3,
          3,
          3,
          2,
          4,
          3,
          3,
          4,
          2,
          3,
          2,
          3,
          4,
          2,
          4,
          3,
          3,
          3,
          3,
          2,
          3,
          3,
          3,
          4,
          3,
          2,
          3,
          2,
          3,
          2,
          3,
          2,
          3,
          3,
          2,
          3,
          3,
          1,
          2,
          3,
          3,
          3,
          2,
          3,
          3,
          3,
          3,
          2,
          3,
          3,
          3,
          3,
          3,
          4,
          3,
          2,
          2,
          2,
          4,
          3,
          3,
          4,
          3,
          3,
          2,
          3,
          3,
          4,
          2,
          2,
          1,
          2,
          2,
          4,
          3,
          3,
          3,
          3,
          3,
          2,
          3,
          4,
          4,
          3,
          3,
          3,
          3,
          3,
          3,
          3,
          3,
          3,
          3,
          3,
          3,
          3,
          3,
          3,
          3,
          4,
          1,
          3,
          2,
          4,
          4,
          4,
          3,
          2,
          2,
          1,
          3,
          2,
          3,
          3,
          3,
          3,
          3,
          2,
          3,
          2,
          3,
          3,
          4,
          3,
          2,
          2,
          2,
          3,
          2,
          3,
          3,
          3,
          3,
          1,
          2,
          2,
          3,
          3,
          2,
          3,
          2,
          3,
          3,
          2,
          3,
          3,
          3,
          3,
          3,
          3,
          4,
          3,
          3,
          2,
          3,
          2,
          3,
          4,
          3,
          3,
          3,
          2,
          2,
          3,
          2,
          3,
          3,
          2,
          3,
          3,
          3,
          3,
          3,
          3,
          2,
          3,
          3,
          3,
          3,
          2,
          2,
          3,
          3,
          3,
          3,
          3,
          2,
          3,
          2,
          3,
          4,
          3,
          4,
          3,
          2,
          3,
          3,
          3,
          1,
          3,
          3,
          2,
          3,
          3,
          3,
          3,
          2,
          3,
          2,
          2,
          3,
          2,
          3,
          3,
          1,
          3,
          2,
          2,
          3,
          3,
          3,
          3,
          3,
          3,
          3,
          3,
          3,
          3,
          3,
          3,
          3,
          3,
          3,
          4,
          2,
          1,
          2,
          3,
          3,
          4,
          3,
          3,
          3,
          3,
          3,
          3,
          3,
          3,
          2,
          4,
          3,
          2,
          3,
          3,
          2,
          2,
          4,
          2,
          3,
          2,
          3,
          2,
          3,
          3,
          2,
          2,
          3,
          3,
          3,
          3,
          3,
          3,
          3,
          3,
          3,
          3,
          3,
          3,
          1,
          3,
          3,
          2,
          2,
          2,
          4,
          4,
          2,
          1,
          4,
          4,
          4,
          4,
          2,
          2,
          3,
          4,
          3,
          3,
          3,
          2,
          4,
          2,
          3,
          3,
          2,
          3,
          4,
          3,
          1,
          3,
          3,
          3,
          2,
          3,
          3,
          4,
          3,
          2,
          2,
          3,
          3,
          3,
          3,
          3,
          3,
          2,
          3,
          1,
          4,
          3,
          2,
          3,
          1,
          3,
          4,
          3,
          3,
          3,
          4,
          2,
          3,
          1,
          4,
          3,
          3,
          2,
          3,
          3,
          3,
          3,
          3,
          4,
          4,
          2,
          3,
          2,
          2,
          2,
          2,
          3,
          2,
          2,
          3,
          2,
          3,
          3,
          3,
          3,
          3,
          3,
          4,
          4,
          2,
          3,
          3,
          2,
          2,
          3,
          4,
          2,
          2,
          2,
          2,
          4,
          3,
          2,
          3,
          2,
          3,
          2,
          3,
          2,
          3,
          2,
          4,
          3,
          3,
          2,
          3,
          3,
          3,
          3,
          3,
          3,
          2,
          3,
          2,
          3,
          3,
          3,
          3,
          2,
          3,
          3,
          3,
          2,
          2,
          2,
          2,
          3,
          3,
          3,
          3,
          3,
          3,
          2,
          2,
          2,
          3,
          3,
          3,
          3,
          3,
          2,
          3,
          3,
          3,
          3,
          3,
          3,
          3,
          3,
          4,
          4,
          3,
          3,
          3,
          3,
          3,
          4,
          3,
          3,
          3,
          3,
          3,
          3,
          3,
          2,
          3,
          3,
          3,
          3,
          4,
          4,
          1,
          2,
          2,
          3,
          2,
          3,
          3,
          3,
          3,
          2,
          3,
          1,
          3,
          4,
          3,
          3,
          2,
          3,
          3,
          4,
          3,
          3,
          2,
          3,
          3,
          3,
          3,
          3,
          3,
          2,
          3,
          2,
          3,
          2,
          2,
          2,
          2,
          2,
          3,
          4,
          2,
          3,
          1,
          3,
          3,
          2,
          3,
          3,
          2,
          3,
          3,
          2,
          4,
          2,
          3,
          2,
          3,
          3,
          3,
          3,
          3,
          2,
          2,
          3,
          3,
          4,
          2,
          3,
          2,
          3,
          3,
          1,
          2,
          4,
          2,
          3,
          2,
          2,
          3,
          3,
          3,
          3,
          2,
          3,
          4,
          2,
          2,
          2,
          2,
          2,
          3,
          3,
          3,
          3,
          3,
          2,
          2,
          3,
          1,
          3,
          1,
          3,
          3,
          3,
          3,
          2,
          3,
          3,
          3,
          1,
          3,
          3,
          4,
          3,
          4,
          4,
          2,
          3,
          1,
          3,
          2,
          3,
          3,
          3,
          2,
          3,
          3,
          4,
          3,
          3,
          3,
          2,
          2,
          1,
          2,
          3,
          4,
          3,
          3,
          2,
          2,
          4,
          3,
          4,
          4,
          3,
          3,
          2,
          2,
          3,
          3,
          3,
          3,
          3,
          4,
          2,
          3,
          4,
          2,
          3,
          2,
          2,
          3,
          3,
          3,
          4,
          3,
          2,
          3,
          2,
          3,
          3,
          1,
          3,
          3,
          3,
          3,
          1,
          3,
          1,
          3,
          3,
          3,
          3,
          3,
          3,
          3,
          3,
          3,
          3,
          3,
          4,
          3,
          4,
          2,
          3,
          2,
          1,
          3,
          2,
          4,
          3,
          4,
          3,
          2,
          2,
          3,
          3,
          3,
          3,
          3,
          3,
          4,
          4,
          2,
          2,
          2,
          3,
          3,
          3,
          3,
          3,
          4,
          2,
          3,
          3,
          4,
          3,
          3,
          3,
          3,
          3,
          2,
          2,
          3,
          4,
          3,
          3,
          3,
          3,
          2,
          4,
          3,
          3,
          1,
          4,
          3,
          3,
          2,
          3,
          2,
          4,
          3,
          3,
          3,
          3,
          1,
          3,
          3,
          3,
          3,
          4,
          3,
          3,
          3,
          3,
          3,
          2,
          3,
          3,
          2,
          3,
          2,
          3,
          2,
          3,
          1,
          3,
          3,
          3,
          3,
          3,
          3,
          2,
          3,
          2,
          1,
          3,
          2,
          3,
          1,
          2,
          3,
          3,
          3,
          3,
          3,
          2,
          3,
          3,
          2,
          2,
          3,
          3,
          4,
          3,
          3,
          2,
          3,
          3,
          3,
          3,
          2,
          3,
          3,
          3,
          3,
          3,
          3,
          3,
          4,
          3,
          3,
          4,
          4,
          2,
          4,
          2,
          3,
          4,
          2,
          4,
          2,
          3,
          4,
          3,
          2,
          1,
          2,
          3,
          3,
          4,
          3,
          3,
          2,
          4,
          1,
          3,
          3,
          2,
          2,
          3,
          3,
          3,
          2,
          2,
          3,
          3,
          3,
          2,
          3,
          4,
          3,
          2,
          3,
          4,
          3,
          3,
          2,
          3,
          3,
          3,
          2,
          2,
          4,
          3,
          2,
          3,
          2,
          3,
          3,
          3,
          3,
          2,
          4,
          3,
          3,
          3,
          3,
          3,
          3,
          3,
          4,
          3,
          2,
          2,
          1,
          4,
          1,
          2,
          4,
          2,
          3,
          4,
          3,
          3,
          3,
          2,
          1,
          2,
          3,
          3,
          1,
          3,
          3,
          3,
          3,
          3,
          3,
          3,
          3,
          3,
          3,
          1,
          3,
          1,
          2,
          3,
          3,
          3,
          4,
          2,
          4,
          3,
          3,
          2,
          2,
          4,
          3,
          1,
          3,
          2,
          3,
          3,
          3,
          2,
          3,
          1,
          2,
          2,
          3,
          2,
          3,
          3,
          3,
          4,
          3,
          3,
          2,
          3,
          4,
          3,
          3,
          3,
          3,
          4,
          3,
          3,
          3,
          4,
          3,
          1,
          2,
          3,
          3,
          3,
          3,
          1,
          3,
          3,
          3,
          3,
          3,
          3,
          3,
          3,
          3,
          3,
          3,
          3,
          3,
          1,
          3,
          4,
          2,
          2,
          2,
          2,
          2,
          3,
          2,
          3,
          2,
          3,
          3,
          3,
          3,
          2,
          2,
          2,
          3,
          2,
          4,
          3,
          4,
          2,
          3,
          3,
          3,
          2,
          4,
          4,
          3,
          3,
          2,
          1,
          3,
          2,
          3,
          2,
          3,
          2,
          3,
          3,
          3,
          3,
          3,
          3,
          3,
          4,
          3,
          3,
          3,
          3,
          3,
          1,
          2,
          3,
          3,
          2,
          3,
          3,
          3,
          3,
          4,
          1,
          3,
          2,
          3,
          3,
          2,
          3,
          3,
          3,
          3,
          3,
          3,
          3,
          2,
          3,
          3,
          2,
          3,
          3,
          3,
          3,
          3,
          3,
          3,
          2,
          3,
          2,
          3,
          1,
          3,
          4,
          3,
          3,
          3,
          3,
          3,
          2,
          3,
          3,
          3,
          2,
          2,
          1,
          2,
          3,
          3,
          3,
          2,
          3,
          2,
          3,
          3,
          1,
          2,
          2,
          2,
          3,
          2,
          4,
          2,
          4,
          2,
          4
         ],
         "xaxis": "x",
         "yaxis": "y"
        }
       ],
       "layout": {
        "bargap": 0.05,
        "barmode": "group",
        "height": 500,
        "legend": {
         "title": {
          "text": "Attrition"
         },
         "tracegroupgap": 0
        },
        "margin": {
         "t": 60
        },
        "plot_bgcolor": "#FFFFFF",
        "template": {
         "data": {
          "bar": [
           {
            "error_x": {
             "color": "#2a3f5f"
            },
            "error_y": {
             "color": "#2a3f5f"
            },
            "marker": {
             "line": {
              "color": "#E5ECF6",
              "width": 0.5
             },
             "pattern": {
              "fillmode": "overlay",
              "size": 10,
              "solidity": 0.2
             }
            },
            "type": "bar"
           }
          ],
          "barpolar": [
           {
            "marker": {
             "line": {
              "color": "#E5ECF6",
              "width": 0.5
             },
             "pattern": {
              "fillmode": "overlay",
              "size": 10,
              "solidity": 0.2
             }
            },
            "type": "barpolar"
           }
          ],
          "carpet": [
           {
            "aaxis": {
             "endlinecolor": "#2a3f5f",
             "gridcolor": "white",
             "linecolor": "white",
             "minorgridcolor": "white",
             "startlinecolor": "#2a3f5f"
            },
            "baxis": {
             "endlinecolor": "#2a3f5f",
             "gridcolor": "white",
             "linecolor": "white",
             "minorgridcolor": "white",
             "startlinecolor": "#2a3f5f"
            },
            "type": "carpet"
           }
          ],
          "choropleth": [
           {
            "colorbar": {
             "outlinewidth": 0,
             "ticks": ""
            },
            "type": "choropleth"
           }
          ],
          "contour": [
           {
            "colorbar": {
             "outlinewidth": 0,
             "ticks": ""
            },
            "colorscale": [
             [
              0,
              "#0d0887"
             ],
             [
              0.1111111111111111,
              "#46039f"
             ],
             [
              0.2222222222222222,
              "#7201a8"
             ],
             [
              0.3333333333333333,
              "#9c179e"
             ],
             [
              0.4444444444444444,
              "#bd3786"
             ],
             [
              0.5555555555555556,
              "#d8576b"
             ],
             [
              0.6666666666666666,
              "#ed7953"
             ],
             [
              0.7777777777777778,
              "#fb9f3a"
             ],
             [
              0.8888888888888888,
              "#fdca26"
             ],
             [
              1,
              "#f0f921"
             ]
            ],
            "type": "contour"
           }
          ],
          "contourcarpet": [
           {
            "colorbar": {
             "outlinewidth": 0,
             "ticks": ""
            },
            "type": "contourcarpet"
           }
          ],
          "heatmap": [
           {
            "colorbar": {
             "outlinewidth": 0,
             "ticks": ""
            },
            "colorscale": [
             [
              0,
              "#0d0887"
             ],
             [
              0.1111111111111111,
              "#46039f"
             ],
             [
              0.2222222222222222,
              "#7201a8"
             ],
             [
              0.3333333333333333,
              "#9c179e"
             ],
             [
              0.4444444444444444,
              "#bd3786"
             ],
             [
              0.5555555555555556,
              "#d8576b"
             ],
             [
              0.6666666666666666,
              "#ed7953"
             ],
             [
              0.7777777777777778,
              "#fb9f3a"
             ],
             [
              0.8888888888888888,
              "#fdca26"
             ],
             [
              1,
              "#f0f921"
             ]
            ],
            "type": "heatmap"
           }
          ],
          "heatmapgl": [
           {
            "colorbar": {
             "outlinewidth": 0,
             "ticks": ""
            },
            "colorscale": [
             [
              0,
              "#0d0887"
             ],
             [
              0.1111111111111111,
              "#46039f"
             ],
             [
              0.2222222222222222,
              "#7201a8"
             ],
             [
              0.3333333333333333,
              "#9c179e"
             ],
             [
              0.4444444444444444,
              "#bd3786"
             ],
             [
              0.5555555555555556,
              "#d8576b"
             ],
             [
              0.6666666666666666,
              "#ed7953"
             ],
             [
              0.7777777777777778,
              "#fb9f3a"
             ],
             [
              0.8888888888888888,
              "#fdca26"
             ],
             [
              1,
              "#f0f921"
             ]
            ],
            "type": "heatmapgl"
           }
          ],
          "histogram": [
           {
            "marker": {
             "pattern": {
              "fillmode": "overlay",
              "size": 10,
              "solidity": 0.2
             }
            },
            "type": "histogram"
           }
          ],
          "histogram2d": [
           {
            "colorbar": {
             "outlinewidth": 0,
             "ticks": ""
            },
            "colorscale": [
             [
              0,
              "#0d0887"
             ],
             [
              0.1111111111111111,
              "#46039f"
             ],
             [
              0.2222222222222222,
              "#7201a8"
             ],
             [
              0.3333333333333333,
              "#9c179e"
             ],
             [
              0.4444444444444444,
              "#bd3786"
             ],
             [
              0.5555555555555556,
              "#d8576b"
             ],
             [
              0.6666666666666666,
              "#ed7953"
             ],
             [
              0.7777777777777778,
              "#fb9f3a"
             ],
             [
              0.8888888888888888,
              "#fdca26"
             ],
             [
              1,
              "#f0f921"
             ]
            ],
            "type": "histogram2d"
           }
          ],
          "histogram2dcontour": [
           {
            "colorbar": {
             "outlinewidth": 0,
             "ticks": ""
            },
            "colorscale": [
             [
              0,
              "#0d0887"
             ],
             [
              0.1111111111111111,
              "#46039f"
             ],
             [
              0.2222222222222222,
              "#7201a8"
             ],
             [
              0.3333333333333333,
              "#9c179e"
             ],
             [
              0.4444444444444444,
              "#bd3786"
             ],
             [
              0.5555555555555556,
              "#d8576b"
             ],
             [
              0.6666666666666666,
              "#ed7953"
             ],
             [
              0.7777777777777778,
              "#fb9f3a"
             ],
             [
              0.8888888888888888,
              "#fdca26"
             ],
             [
              1,
              "#f0f921"
             ]
            ],
            "type": "histogram2dcontour"
           }
          ],
          "mesh3d": [
           {
            "colorbar": {
             "outlinewidth": 0,
             "ticks": ""
            },
            "type": "mesh3d"
           }
          ],
          "parcoords": [
           {
            "line": {
             "colorbar": {
              "outlinewidth": 0,
              "ticks": ""
             }
            },
            "type": "parcoords"
           }
          ],
          "pie": [
           {
            "automargin": true,
            "type": "pie"
           }
          ],
          "scatter": [
           {
            "fillpattern": {
             "fillmode": "overlay",
             "size": 10,
             "solidity": 0.2
            },
            "type": "scatter"
           }
          ],
          "scatter3d": [
           {
            "line": {
             "colorbar": {
              "outlinewidth": 0,
              "ticks": ""
             }
            },
            "marker": {
             "colorbar": {
              "outlinewidth": 0,
              "ticks": ""
             }
            },
            "type": "scatter3d"
           }
          ],
          "scattercarpet": [
           {
            "marker": {
             "colorbar": {
              "outlinewidth": 0,
              "ticks": ""
             }
            },
            "type": "scattercarpet"
           }
          ],
          "scattergeo": [
           {
            "marker": {
             "colorbar": {
              "outlinewidth": 0,
              "ticks": ""
             }
            },
            "type": "scattergeo"
           }
          ],
          "scattergl": [
           {
            "marker": {
             "colorbar": {
              "outlinewidth": 0,
              "ticks": ""
             }
            },
            "type": "scattergl"
           }
          ],
          "scattermapbox": [
           {
            "marker": {
             "colorbar": {
              "outlinewidth": 0,
              "ticks": ""
             }
            },
            "type": "scattermapbox"
           }
          ],
          "scatterpolar": [
           {
            "marker": {
             "colorbar": {
              "outlinewidth": 0,
              "ticks": ""
             }
            },
            "type": "scatterpolar"
           }
          ],
          "scatterpolargl": [
           {
            "marker": {
             "colorbar": {
              "outlinewidth": 0,
              "ticks": ""
             }
            },
            "type": "scatterpolargl"
           }
          ],
          "scatterternary": [
           {
            "marker": {
             "colorbar": {
              "outlinewidth": 0,
              "ticks": ""
             }
            },
            "type": "scatterternary"
           }
          ],
          "surface": [
           {
            "colorbar": {
             "outlinewidth": 0,
             "ticks": ""
            },
            "colorscale": [
             [
              0,
              "#0d0887"
             ],
             [
              0.1111111111111111,
              "#46039f"
             ],
             [
              0.2222222222222222,
              "#7201a8"
             ],
             [
              0.3333333333333333,
              "#9c179e"
             ],
             [
              0.4444444444444444,
              "#bd3786"
             ],
             [
              0.5555555555555556,
              "#d8576b"
             ],
             [
              0.6666666666666666,
              "#ed7953"
             ],
             [
              0.7777777777777778,
              "#fb9f3a"
             ],
             [
              0.8888888888888888,
              "#fdca26"
             ],
             [
              1,
              "#f0f921"
             ]
            ],
            "type": "surface"
           }
          ],
          "table": [
           {
            "cells": {
             "fill": {
              "color": "#EBF0F8"
             },
             "line": {
              "color": "white"
             }
            },
            "header": {
             "fill": {
              "color": "#C8D4E3"
             },
             "line": {
              "color": "white"
             }
            },
            "type": "table"
           }
          ]
         },
         "layout": {
          "annotationdefaults": {
           "arrowcolor": "#2a3f5f",
           "arrowhead": 0,
           "arrowwidth": 1
          },
          "autotypenumbers": "strict",
          "coloraxis": {
           "colorbar": {
            "outlinewidth": 0,
            "ticks": ""
           }
          },
          "colorscale": {
           "diverging": [
            [
             0,
             "#8e0152"
            ],
            [
             0.1,
             "#c51b7d"
            ],
            [
             0.2,
             "#de77ae"
            ],
            [
             0.3,
             "#f1b6da"
            ],
            [
             0.4,
             "#fde0ef"
            ],
            [
             0.5,
             "#f7f7f7"
            ],
            [
             0.6,
             "#e6f5d0"
            ],
            [
             0.7,
             "#b8e186"
            ],
            [
             0.8,
             "#7fbc41"
            ],
            [
             0.9,
             "#4d9221"
            ],
            [
             1,
             "#276419"
            ]
           ],
           "sequential": [
            [
             0,
             "#0d0887"
            ],
            [
             0.1111111111111111,
             "#46039f"
            ],
            [
             0.2222222222222222,
             "#7201a8"
            ],
            [
             0.3333333333333333,
             "#9c179e"
            ],
            [
             0.4444444444444444,
             "#bd3786"
            ],
            [
             0.5555555555555556,
             "#d8576b"
            ],
            [
             0.6666666666666666,
             "#ed7953"
            ],
            [
             0.7777777777777778,
             "#fb9f3a"
            ],
            [
             0.8888888888888888,
             "#fdca26"
            ],
            [
             1,
             "#f0f921"
            ]
           ],
           "sequentialminus": [
            [
             0,
             "#0d0887"
            ],
            [
             0.1111111111111111,
             "#46039f"
            ],
            [
             0.2222222222222222,
             "#7201a8"
            ],
            [
             0.3333333333333333,
             "#9c179e"
            ],
            [
             0.4444444444444444,
             "#bd3786"
            ],
            [
             0.5555555555555556,
             "#d8576b"
            ],
            [
             0.6666666666666666,
             "#ed7953"
            ],
            [
             0.7777777777777778,
             "#fb9f3a"
            ],
            [
             0.8888888888888888,
             "#fdca26"
            ],
            [
             1,
             "#f0f921"
            ]
           ]
          },
          "colorway": [
           "#636efa",
           "#EF553B",
           "#00cc96",
           "#ab63fa",
           "#FFA15A",
           "#19d3f3",
           "#FF6692",
           "#B6E880",
           "#FF97FF",
           "#FECB52"
          ],
          "font": {
           "color": "#2a3f5f"
          },
          "geo": {
           "bgcolor": "white",
           "lakecolor": "white",
           "landcolor": "#E5ECF6",
           "showlakes": true,
           "showland": true,
           "subunitcolor": "white"
          },
          "hoverlabel": {
           "align": "left"
          },
          "hovermode": "closest",
          "mapbox": {
           "style": "light"
          },
          "paper_bgcolor": "white",
          "plot_bgcolor": "#E5ECF6",
          "polar": {
           "angularaxis": {
            "gridcolor": "white",
            "linecolor": "white",
            "ticks": ""
           },
           "bgcolor": "#E5ECF6",
           "radialaxis": {
            "gridcolor": "white",
            "linecolor": "white",
            "ticks": ""
           }
          },
          "scene": {
           "xaxis": {
            "backgroundcolor": "#E5ECF6",
            "gridcolor": "white",
            "gridwidth": 2,
            "linecolor": "white",
            "showbackground": true,
            "ticks": "",
            "zerolinecolor": "white"
           },
           "yaxis": {
            "backgroundcolor": "#E5ECF6",
            "gridcolor": "white",
            "gridwidth": 2,
            "linecolor": "white",
            "showbackground": true,
            "ticks": "",
            "zerolinecolor": "white"
           },
           "zaxis": {
            "backgroundcolor": "#E5ECF6",
            "gridcolor": "white",
            "gridwidth": 2,
            "linecolor": "white",
            "showbackground": true,
            "ticks": "",
            "zerolinecolor": "white"
           }
          },
          "shapedefaults": {
           "line": {
            "color": "#2a3f5f"
           }
          },
          "ternary": {
           "aaxis": {
            "gridcolor": "white",
            "linecolor": "white",
            "ticks": ""
           },
           "baxis": {
            "gridcolor": "white",
            "linecolor": "white",
            "ticks": ""
           },
           "bgcolor": "#E5ECF6",
           "caxis": {
            "gridcolor": "white",
            "linecolor": "white",
            "ticks": ""
           }
          },
          "title": {
           "x": 0.05
          },
          "xaxis": {
           "automargin": true,
           "gridcolor": "white",
           "linecolor": "white",
           "ticks": "",
           "title": {
            "standoff": 15
           },
           "zerolinecolor": "white",
           "zerolinewidth": 2
          },
          "yaxis": {
           "automargin": true,
           "gridcolor": "white",
           "linecolor": "white",
           "ticks": "",
           "title": {
            "standoff": 15
           },
           "zerolinecolor": "white",
           "zerolinewidth": 2
          }
         }
        },
        "width": 800,
        "xaxis": {
         "anchor": "y",
         "domain": [
          0,
          1
         ],
         "showgrid": false,
         "title": {
          "text": "Job Involvement"
         }
        },
        "yaxis": {
         "anchor": "x",
         "domain": [
          0,
          1
         ],
         "showgrid": false,
         "title": {
          "text": "Count of Employees"
         }
        }
       }
      }
     },
     "metadata": {},
     "output_type": "display_data"
    }
   ],
   "source": [
    "fig = px.histogram(df, x = 'JobInvolvement', color = 'Attrition', barmode = 'group', \n",
    "                   color_discrete_sequence = ['#00cccc', '#008080'])\n",
    "fig.update_layout(bargap = 0.05, width = 800, height = 500, plot_bgcolor = '#FFFFFF')\n",
    "fig.update_xaxes(title = 'Job Involvement', showgrid = False)\n",
    "fig.update_yaxes(title = 'Count of Employees', showgrid = False)\n",
    "fig.show()"
   ]
  },
  {
   "cell_type": "markdown",
   "metadata": {},
   "source": [
    "#### 7. Do longer durations with the current manager relate to lower attrition rates?"
   ]
  },
  {
   "cell_type": "code",
   "execution_count": 17,
   "metadata": {},
   "outputs": [
    {
     "data": {
      "image/svg+xml": [
       "<svg class=\"main-svg\" xmlns=\"http://www.w3.org/2000/svg\" xmlns:xlink=\"http://www.w3.org/1999/xlink\" width=\"800\" height=\"500\" style=\"\" viewBox=\"0 0 800 500\"><rect x=\"0\" y=\"0\" width=\"800\" height=\"500\" style=\"fill: rgb(255, 255, 255); fill-opacity: 1;\"/><defs id=\"defs-c1eea1\"><g class=\"clips\"><clipPath id=\"clipc1eea1xyplot\" class=\"plotclip\"><rect width=\"628\" height=\"320\"/></clipPath><clipPath class=\"axesclip\" id=\"clipc1eea1x\"><rect x=\"80\" y=\"0\" width=\"628\" height=\"500\"/></clipPath><clipPath class=\"axesclip\" id=\"clipc1eea1y\"><rect x=\"0\" y=\"100\" width=\"800\" height=\"320\"/></clipPath><clipPath class=\"axesclip\" id=\"clipc1eea1xy\"><rect x=\"80\" y=\"100\" width=\"628\" height=\"320\"/></clipPath></g><g class=\"gradients\"/><g class=\"patterns\"/></defs><g class=\"bglayer\"><rect class=\"bg\" x=\"80\" y=\"100\" width=\"628\" height=\"320\" style=\"fill: rgb(255, 255, 255); fill-opacity: 1; stroke-width: 0;\"/></g><g class=\"layer-below\"><g class=\"imagelayer\"/><g class=\"shapelayer\"/></g><g class=\"cartesianlayer\"><g class=\"subplot xy\"><g class=\"layer-subplot\"><g class=\"shapelayer\"/><g class=\"imagelayer\"/></g><g class=\"minor-gridlayer\"><g class=\"x\"/><g class=\"y\"/></g><g class=\"gridlayer\"><g class=\"x\"/><g class=\"y\"/></g><g class=\"zerolinelayer\"><path class=\"yzl zl crisp\" transform=\"translate(0,418.5)\" d=\"M80,0h628\" style=\"stroke: rgb(255, 255, 255); stroke-opacity: 1; stroke-width: 2px;\"/></g><path class=\"xlines-below\"/><path class=\"ylines-below\"/><g class=\"overlines-below\"/><g class=\"xaxislayer-below\"/><g class=\"yaxislayer-below\"/><g class=\"overaxes-below\"/><g class=\"plot\" transform=\"translate(80,100)\" clip-path=\"url(#clipc1eea1xyplot)\"><g class=\"barlayer mlayer\"><g class=\"trace bars\" style=\"opacity: 1;\"><g class=\"points\"><g class=\"point\"><path d=\"M10.17,318.5V273.43H75.57V318.5Z\" style=\"vector-effect: non-scaling-stroke; opacity: 1; stroke-width: 0px; fill: rgb(0, 204, 204); fill-opacity: 1;\"/></g><g class=\"point\"><path d=\"M79.01,318.5V286.11H144.41V318.5Z\" style=\"vector-effect: non-scaling-stroke; opacity: 1; stroke-width: 0px; fill: rgb(0, 204, 204); fill-opacity: 1;\"/></g><g class=\"point\"><path d=\"M147.85,318.5V311.46H213.25V318.5Z\" style=\"vector-effect: non-scaling-stroke; opacity: 1; stroke-width: 0px; fill: rgb(0, 204, 204); fill-opacity: 1;\"/></g><g class=\"point\"><path d=\"M216.69,318.5V302.07H282.09V318.5Z\" style=\"vector-effect: non-scaling-stroke; opacity: 1; stroke-width: 0px; fill: rgb(0, 204, 204); fill-opacity: 1;\"/></g><g class=\"point\"><path d=\"M285.53,318.5V310.99H350.92V318.5Z\" style=\"vector-effect: non-scaling-stroke; opacity: 1; stroke-width: 0px; fill: rgb(0, 204, 204); fill-opacity: 1;\"/></g><g class=\"point\"><path d=\"M354.37,318.5V316.62H419.76V318.5Z\" style=\"vector-effect: non-scaling-stroke; opacity: 1; stroke-width: 0px; fill: rgb(0, 204, 204); fill-opacity: 1;\"/></g><g class=\"point\"><path d=\"M0,0Z\" style=\"vector-effect: non-scaling-stroke; opacity: 1; stroke-width: 0px; fill: rgb(0, 204, 204); fill-opacity: 1;\"/></g><g class=\"point\"><path d=\"M492.04,318.5V317.56H557.44V318.5Z\" style=\"vector-effect: non-scaling-stroke; opacity: 1; stroke-width: 0px; fill: rgb(0, 204, 204); fill-opacity: 1;\"/></g></g></g><g class=\"trace bars\" style=\"opacity: 1;\"><g class=\"points\"><g class=\"point\"><path d=\"M10.17,273.43V159.34H75.57V273.43Z\" style=\"vector-effect: non-scaling-stroke; opacity: 1; stroke-width: 0px; fill: rgb(0, 128, 128); fill-opacity: 1;\"/></g><g class=\"point\"><path d=\"M79.01,286.11V90.33H144.41V286.11Z\" style=\"vector-effect: non-scaling-stroke; opacity: 1; stroke-width: 0px; fill: rgb(0, 128, 128); fill-opacity: 1;\"/></g><g class=\"point\"><path d=\"M147.85,311.46V257.94H213.25V311.46Z\" style=\"vector-effect: non-scaling-stroke; opacity: 1; stroke-width: 0px; fill: rgb(0, 128, 128); fill-opacity: 1;\"/></g><g class=\"point\"><path d=\"M216.69,302.07V203.47H282.09V302.07Z\" style=\"vector-effect: non-scaling-stroke; opacity: 1; stroke-width: 0px; fill: rgb(0, 128, 128); fill-opacity: 1;\"/></g><g class=\"point\"><path d=\"M285.53,310.99V238.22H350.92V310.99Z\" style=\"vector-effect: non-scaling-stroke; opacity: 1; stroke-width: 0px; fill: rgb(0, 128, 128); fill-opacity: 1;\"/></g><g class=\"point\"><path d=\"M354.37,316.62V295.49H419.76V316.62Z\" style=\"vector-effect: non-scaling-stroke; opacity: 1; stroke-width: 0px; fill: rgb(0, 128, 128); fill-opacity: 1;\"/></g><g class=\"point\"><path d=\"M423.2,318.5V303.48H488.6V318.5Z\" style=\"vector-effect: non-scaling-stroke; opacity: 1; stroke-width: 0px; fill: rgb(0, 128, 128); fill-opacity: 1;\"/></g><g class=\"point\"><path d=\"M492.04,317.56V313.81H557.44V317.56Z\" style=\"vector-effect: non-scaling-stroke; opacity: 1; stroke-width: 0px; fill: rgb(0, 128, 128); fill-opacity: 1;\"/></g><g class=\"point\"><path d=\"M560.88,318.5V314.27H626.28V318.5Z\" style=\"vector-effect: non-scaling-stroke; opacity: 1; stroke-width: 0px; fill: rgb(0, 128, 128); fill-opacity: 1;\"/></g></g></g></g></g><g class=\"overplot\"/><path class=\"xlines-above crisp\" d=\"M0,0\" style=\"fill: none;\"/><path class=\"ylines-above crisp\" d=\"M0,0\" style=\"fill: none;\"/><g class=\"overlines-above\"/><g class=\"xaxislayer-above\"><g class=\"xtick\"><text text-anchor=\"middle\" x=\"0\" y=\"433\" transform=\"translate(105.66,0)\" style=\"font-family: 'Open Sans', verdana, arial, sans-serif; font-size: 12px; fill: rgb(42, 63, 95); fill-opacity: 1; white-space: pre; opacity: 1;\">0</text></g><g class=\"xtick\"><text text-anchor=\"middle\" x=\"0\" y=\"433\" style=\"font-family: 'Open Sans', verdana, arial, sans-serif; font-size: 12px; fill: rgb(42, 63, 95); fill-opacity: 1; white-space: pre; opacity: 1;\" transform=\"translate(277.76,0)\">5</text></g><g class=\"xtick\"><text text-anchor=\"middle\" x=\"0\" y=\"433\" style=\"font-family: 'Open Sans', verdana, arial, sans-serif; font-size: 12px; fill: rgb(42, 63, 95); fill-opacity: 1; white-space: pre; opacity: 1;\" transform=\"translate(449.85,0)\">10</text></g><g class=\"xtick\"><text text-anchor=\"middle\" x=\"0\" y=\"433\" style=\"font-family: 'Open Sans', verdana, arial, sans-serif; font-size: 12px; fill: rgb(42, 63, 95); fill-opacity: 1; white-space: pre; opacity: 1;\" transform=\"translate(621.95,0)\">15</text></g></g><g class=\"yaxislayer-above\"><g class=\"ytick\"><text text-anchor=\"end\" x=\"79\" y=\"4.199999999999999\" transform=\"translate(0,418.5)\" style=\"font-family: 'Open Sans', verdana, arial, sans-serif; font-size: 12px; fill: rgb(42, 63, 95); fill-opacity: 1; white-space: pre; opacity: 1;\">0</text></g><g class=\"ytick\"><text text-anchor=\"end\" x=\"79\" y=\"4.199999999999999\" style=\"font-family: 'Open Sans', verdana, arial, sans-serif; font-size: 12px; fill: rgb(42, 63, 95); fill-opacity: 1; white-space: pre; opacity: 1;\" transform=\"translate(0,371.55)\">100</text></g><g class=\"ytick\"><text text-anchor=\"end\" x=\"79\" y=\"4.199999999999999\" style=\"font-family: 'Open Sans', verdana, arial, sans-serif; font-size: 12px; fill: rgb(42, 63, 95); fill-opacity: 1; white-space: pre; opacity: 1;\" transform=\"translate(0,324.6)\">200</text></g><g class=\"ytick\"><text text-anchor=\"end\" x=\"79\" y=\"4.199999999999999\" style=\"font-family: 'Open Sans', verdana, arial, sans-serif; font-size: 12px; fill: rgb(42, 63, 95); fill-opacity: 1; white-space: pre; opacity: 1;\" transform=\"translate(0,277.65)\">300</text></g><g class=\"ytick\"><text text-anchor=\"end\" x=\"79\" y=\"4.199999999999999\" style=\"font-family: 'Open Sans', verdana, arial, sans-serif; font-size: 12px; fill: rgb(42, 63, 95); fill-opacity: 1; white-space: pre; opacity: 1;\" transform=\"translate(0,230.7)\">400</text></g><g class=\"ytick\"><text text-anchor=\"end\" x=\"79\" y=\"4.199999999999999\" style=\"font-family: 'Open Sans', verdana, arial, sans-serif; font-size: 12px; fill: rgb(42, 63, 95); fill-opacity: 1; white-space: pre; opacity: 1;\" transform=\"translate(0,183.75)\">500</text></g><g class=\"ytick\"><text text-anchor=\"end\" x=\"79\" y=\"4.199999999999999\" style=\"font-family: 'Open Sans', verdana, arial, sans-serif; font-size: 12px; fill: rgb(42, 63, 95); fill-opacity: 1; white-space: pre; opacity: 1;\" transform=\"translate(0,136.81)\">600</text></g></g><g class=\"overaxes-above\"/></g></g><g class=\"polarlayer\"/><g class=\"smithlayer\"/><g class=\"ternarylayer\"/><g class=\"geolayer\"/><g class=\"funnelarealayer\"/><g class=\"pielayer\"/><g class=\"iciclelayer\"/><g class=\"treemaplayer\"/><g class=\"sunburstlayer\"/><g class=\"glimages\"/><defs id=\"topdefs-c1eea1\"><g class=\"clips\"/><clipPath id=\"legendc1eea1\"><rect width=\"67\" height=\"67\" x=\"0\" y=\"0\"/></clipPath></defs><g class=\"layer-above\"><g class=\"imagelayer\"/><g class=\"shapelayer\"><path data-index=\"0\" fill-rule=\"evenodd\" d=\"M208.92,418.5L208.92,174.36\" clip-path=\"url(#clipc1eea1xy)\" style=\"opacity: 0.8; stroke: rgb(0, 0, 0); stroke-opacity: 1; fill: rgb(0, 0, 0); fill-opacity: 0; stroke-dasharray: 9px, 9px; stroke-width: 3px;\"/><path data-index=\"1\" fill-rule=\"evenodd\" d=\"M174.5,418.5L174.5,141.5\" clip-path=\"url(#clipc1eea1xy)\" style=\"opacity: 0.8; stroke: rgb(0, 0, 0); stroke-opacity: 1; fill: rgb(0, 0, 0); fill-opacity: 0; stroke-dasharray: 9px, 9px; stroke-width: 3px;\"/></g></g><g class=\"infolayer\"><g class=\"legend\" pointer-events=\"all\" transform=\"translate(720.5600000000001,100)\"><rect class=\"bg\" shape-rendering=\"crispEdges\" style=\"stroke: rgb(68, 68, 68); stroke-opacity: 1; fill: rgb(255, 255, 255); fill-opacity: 1; stroke-width: 0px;\" width=\"67\" height=\"67\" x=\"0\" y=\"0\"/><g class=\"scrollbox\" transform=\"\" clip-path=\"url(#legendc1eea1)\"><text class=\"legendtitletext\" text-anchor=\"start\" x=\"2\" y=\"18.2\" style=\"font-family: 'Open Sans', verdana, arial, sans-serif; font-size: 14px; fill: rgb(42, 63, 95); fill-opacity: 1; white-space: pre;\">Attrition</text><g class=\"groups\" transform=\"\"><g class=\"traces\" transform=\"translate(0,32.7)\" style=\"opacity: 1;\"><text class=\"legendtext\" text-anchor=\"start\" x=\"40\" y=\"4.680000000000001\" style=\"font-family: 'Open Sans', verdana, arial, sans-serif; font-size: 12px; fill: rgb(42, 63, 95); fill-opacity: 1; white-space: pre;\">Yes</text><g class=\"layers\" style=\"opacity: 1;\"><g class=\"legendfill\"/><g class=\"legendlines\"/><g class=\"legendsymbols\"><g class=\"legendpoints\"><path class=\"legendundefined\" d=\"M6,6H-6V-6H6Z\" transform=\"translate(20,0)\" style=\"stroke-width: 0px; fill: rgb(0, 204, 204); fill-opacity: 1;\"/></g></g></g><rect class=\"legendtoggle\" x=\"0\" y=\"-9.5\" width=\"61.78125\" height=\"19\" style=\"fill: rgb(0, 0, 0); fill-opacity: 0;\"/></g></g><g class=\"groups\" transform=\"\"><g class=\"traces\" transform=\"translate(0,51.7)\" style=\"opacity: 1;\"><text class=\"legendtext\" text-anchor=\"start\" x=\"40\" y=\"4.680000000000001\" style=\"font-family: 'Open Sans', verdana, arial, sans-serif; font-size: 12px; fill: rgb(42, 63, 95); fill-opacity: 1; white-space: pre;\">No</text><g class=\"layers\" style=\"opacity: 1;\"><g class=\"legendfill\"/><g class=\"legendlines\"/><g class=\"legendsymbols\"><g class=\"legendpoints\"><path class=\"legendundefined\" d=\"M6,6H-6V-6H6Z\" transform=\"translate(20,0)\" style=\"stroke-width: 0px; fill: rgb(0, 128, 128); fill-opacity: 1;\"/></g></g></g><rect class=\"legendtoggle\" x=\"0\" y=\"-9.5\" width=\"61.78125\" height=\"19\" style=\"fill: rgb(0, 0, 0); fill-opacity: 0;\"/></g></g></g><rect class=\"scrollbar\" rx=\"20\" ry=\"3\" width=\"0\" height=\"0\" style=\"fill: rgb(128, 139, 164); fill-opacity: 1;\" x=\"0\" y=\"0\"/></g><g class=\"g-gtitle\"><text class=\"gtitle\" x=\"40\" y=\"50\" text-anchor=\"start\" dy=\"0em\" style=\"font-family: 'Open Sans', verdana, arial, sans-serif; font-size: 17px; fill: rgb(42, 63, 95); opacity: 1; font-weight: normal; white-space: pre;\">Years With Curr Manager Employees Stayed</text></g><g class=\"g-xtitle\"><text class=\"xtitle\" x=\"394\" y=\"460.8\" text-anchor=\"middle\" style=\"font-family: 'Open Sans', verdana, arial, sans-serif; font-size: 14px; fill: rgb(42, 63, 95); opacity: 1; font-weight: normal; white-space: pre;\">Years With Curr Manager of Employees Stayed</text></g><g class=\"g-ytitle\"><text class=\"ytitle\" transform=\"rotate(-90,31.309375000000003,260)\" x=\"31.309375000000003\" y=\"260\" text-anchor=\"middle\" style=\"font-family: 'Open Sans', verdana, arial, sans-serif; font-size: 14px; fill: rgb(42, 63, 95); opacity: 1; font-weight: normal; white-space: pre;\">Count of Employees Stayed</text></g><g class=\"annotation\" data-index=\"0\" style=\"opacity: 1;\"><g class=\"annotation-text-g\" transform=\"rotate(0,198.92,144.36)\"><g class=\"cursor-pointer\" transform=\"translate(102,133)\"><rect class=\"bg\" x=\"0.5\" y=\"0.5\" width=\"193\" height=\"22\" style=\"stroke-width: 1px; stroke: rgb(0, 0, 0); stroke-opacity: 0; fill: rgb(0, 0, 0); fill-opacity: 0;\"/><text class=\"annotation-text\" text-anchor=\"middle\" x=\"97.0625\" y=\"18\" style=\"font-family: 'Open Sans', verdana, arial, sans-serif; font-size: 16px; fill: rgb(0, 0, 0); fill-opacity: 1; white-space: pre;\">Median Years Stayed: 3</text></g></g><g class=\"annotation-arrow-g\" style=\"opacity: 1;\"><path d=\"M202.58666666666664,155.36L208.92,174.36\" style=\"stroke-width: 1px; stroke: rgb(42, 63, 95); stroke-opacity: 1; stroke-dasharray: 0px, 0px, 20.0278px, 20.0278px;\"/></g></g><g class=\"annotation\" data-index=\"1\" style=\"opacity: 1;\"><g class=\"annotation-text-g\" transform=\"rotate(0,164.5,111.5)\"><g class=\"cursor-pointer\" transform=\"translate(80,100)\"><rect class=\"bg\" x=\"0.5\" y=\"0.5\" width=\"168\" height=\"22\" style=\"stroke-width: 1px; stroke: rgb(0, 0, 0); stroke-opacity: 0; fill: rgb(0, 0, 0); fill-opacity: 0;\"/><text class=\"annotation-text\" text-anchor=\"middle\" x=\"84.46875\" y=\"18\" style=\"font-family: 'Open Sans', verdana, arial, sans-serif; font-size: 16px; fill: rgb(0, 0, 0); fill-opacity: 1; white-space: pre;\">Median Years Left: 2</text></g></g><g class=\"annotation-arrow-g\" style=\"opacity: 1;\"><path d=\"M168.16666666666666,122.5L174.5,141.5\" style=\"stroke-width: 1px; stroke: rgb(42, 63, 95); stroke-opacity: 1; stroke-dasharray: 0px, 0px, 20.0278px, 20.0278px;\"/></g></g></g></svg>"
      ]
     },
     "metadata": {},
     "output_type": "display_data"
    }
   ],
   "source": [
    "fig = px.histogram(df, x = 'YearsWithCurrManager', nbins=15, color='Attrition',\n",
    "                   title='Years With Curr Manager Employees Stayed',\n",
    "                   color_discrete_sequence=['#00cccc' ,'#008080'])\n",
    "fig.update_layout(bargap = 0.05, width = 800, height = 500, plot_bgcolor = '#FFFFFF')\n",
    "median_years_stayed = df_stayed['YearsWithCurrManager'].median()\n",
    "median_years_left = df_left['YearsWithCurrManager'].median()\n",
    "fig.add_shape(\n",
    "    dict(\n",
    "        type = 'line',\n",
    "        line = dict(color = 'black', width = 3, dash = 'dash'),\n",
    "        x0 = median_years_stayed,\n",
    "        x1 = median_years_stayed,\n",
    "        y0 = 0, \n",
    "        y1 = 520,\n",
    "        name = 'Median Years Stayed',\n",
    "        opacity = 0.8\n",
    "    )\n",
    ")\n",
    "fig.add_shape(\n",
    "    dict(\n",
    "        type = 'line',\n",
    "        line = dict(color = 'black', width = 3, dash = 'dash'),\n",
    "        x0 = median_years_left,\n",
    "        x1 = median_years_left,\n",
    "        y0 = 0, \n",
    "        y1 = 590,\n",
    "        name = 'Median Years Left',\n",
    "        opacity = 0.8\n",
    "    )\n",
    ")\n",
    "fig.add_annotation(\n",
    "    x = median_years_stayed,\n",
    "    y = 520, \n",
    "    text = f'Median Years Stayed: {int(median_years_stayed):.0f}',\n",
    "    font = dict(size = 16, color = '#000000')\n",
    ")\n",
    "fig.add_annotation(\n",
    "    x = median_years_left,\n",
    "    y = 590, \n",
    "    text = f'Median Years Left: {int(median_years_left):.0f}',\n",
    "    font = dict(size = 16, color = '#000000')\n",
    ")\n",
    "fig.update_xaxes(title = 'Years With Curr Manager of Employees Stayed', showgrid = False)\n",
    "fig.update_yaxes(title = 'Count of Employees Stayed', showgrid = False)\n",
    "\n",
    "fig.show(renderer=\"svg\")"
   ]
  },
  {
   "cell_type": "markdown",
   "metadata": {},
   "source": [
    "#### 8. Does the frequence of overtime impact attrition rates?"
   ]
  },
  {
   "cell_type": "code",
   "execution_count": 18,
   "metadata": {},
   "outputs": [
    {
     "data": {
      "text/html": [
       "<div>\n",
       "<style scoped>\n",
       "    .dataframe tbody tr th:only-of-type {\n",
       "        vertical-align: middle;\n",
       "    }\n",
       "\n",
       "    .dataframe tbody tr th {\n",
       "        vertical-align: top;\n",
       "    }\n",
       "\n",
       "    .dataframe thead th {\n",
       "        text-align: right;\n",
       "    }\n",
       "</style>\n",
       "<table border=\"1\" class=\"dataframe\">\n",
       "  <thead>\n",
       "    <tr style=\"text-align: right;\">\n",
       "      <th></th>\n",
       "      <th>Attrition</th>\n",
       "      <th>OverTime</th>\n",
       "      <th>Percentage</th>\n",
       "    </tr>\n",
       "  </thead>\n",
       "  <tbody>\n",
       "    <tr>\n",
       "      <th>0</th>\n",
       "      <td>No</td>\n",
       "      <td>No</td>\n",
       "      <td>76.56</td>\n",
       "    </tr>\n",
       "    <tr>\n",
       "      <th>1</th>\n",
       "      <td>No</td>\n",
       "      <td>Yes</td>\n",
       "      <td>23.44</td>\n",
       "    </tr>\n",
       "    <tr>\n",
       "      <th>2</th>\n",
       "      <td>Yes</td>\n",
       "      <td>Yes</td>\n",
       "      <td>53.59</td>\n",
       "    </tr>\n",
       "    <tr>\n",
       "      <th>3</th>\n",
       "      <td>Yes</td>\n",
       "      <td>No</td>\n",
       "      <td>46.41</td>\n",
       "    </tr>\n",
       "  </tbody>\n",
       "</table>\n",
       "</div>"
      ],
      "text/plain": [
       "  Attrition OverTime  Percentage\n",
       "0        No       No       76.56\n",
       "1        No      Yes       23.44\n",
       "2       Yes      Yes       53.59\n",
       "3       Yes       No       46.41"
      ]
     },
     "execution_count": 18,
     "metadata": {},
     "output_type": "execute_result"
    }
   ],
   "source": [
    "df_overtime = df.groupby('Attrition')['OverTime'].value_counts(normalize = True).reset_index(name = 'Percentage')\n",
    "df_overtime['Percentage'] = np.round(df_overtime['Percentage'] * 100, 2)\n",
    "df_overtime"
   ]
  },
  {
   "cell_type": "code",
   "execution_count": 19,
   "metadata": {},
   "outputs": [
    {
     "name": "stderr",
     "output_type": "stream",
     "text": [
      "C:\\Users\\HP\\AppData\\Local\\Temp\\ipykernel_2608\\3654208011.py:1: FutureWarning:\n",
      "\n",
      "In a future version of pandas all arguments of DataFrame.pivot will be keyword-only.\n",
      "\n"
     ]
    },
    {
     "data": {
      "text/html": [
       "<div>\n",
       "<style scoped>\n",
       "    .dataframe tbody tr th:only-of-type {\n",
       "        vertical-align: middle;\n",
       "    }\n",
       "\n",
       "    .dataframe tbody tr th {\n",
       "        vertical-align: top;\n",
       "    }\n",
       "\n",
       "    .dataframe thead th {\n",
       "        text-align: right;\n",
       "    }\n",
       "</style>\n",
       "<table border=\"1\" class=\"dataframe\">\n",
       "  <thead>\n",
       "    <tr style=\"text-align: right;\">\n",
       "      <th>OverTime</th>\n",
       "      <th>No</th>\n",
       "      <th>Yes</th>\n",
       "    </tr>\n",
       "    <tr>\n",
       "      <th>Attrition</th>\n",
       "      <th></th>\n",
       "      <th></th>\n",
       "    </tr>\n",
       "  </thead>\n",
       "  <tbody>\n",
       "    <tr>\n",
       "      <th>No</th>\n",
       "      <td>76.56</td>\n",
       "      <td>23.44</td>\n",
       "    </tr>\n",
       "    <tr>\n",
       "      <th>Yes</th>\n",
       "      <td>46.41</td>\n",
       "      <td>53.59</td>\n",
       "    </tr>\n",
       "  </tbody>\n",
       "</table>\n",
       "</div>"
      ],
      "text/plain": [
       "OverTime      No    Yes\n",
       "Attrition              \n",
       "No         76.56  23.44\n",
       "Yes        46.41  53.59"
      ]
     },
     "execution_count": 19,
     "metadata": {},
     "output_type": "execute_result"
    }
   ],
   "source": [
    "df_overtime.pivot('Attrition', 'OverTime', 'Percentage')"
   ]
  },
  {
   "cell_type": "code",
   "execution_count": 20,
   "metadata": {},
   "outputs": [
    {
     "name": "stderr",
     "output_type": "stream",
     "text": [
      "C:\\Users\\HP\\AppData\\Local\\Temp\\ipykernel_2608\\4171233440.py:1: FutureWarning:\n",
      "\n",
      "In a future version of pandas all arguments of DataFrame.pivot will be keyword-only.\n",
      "\n"
     ]
    },
    {
     "data": {
      "image/png": "[encoded data removed]"
     },
     "metadata": {},
     "output_type": "display_data"
    }
   ],
   "source": [
    "fig = px.imshow(df_overtime.pivot('Attrition', 'OverTime', 'Percentage'),\n",
    "                labels=dict(x=\"OverTime\", y=\"Attrition\", color=\"Percentage\"),\n",
    "                x=['Yes', 'No'], y=['Yes', 'No'], color_continuous_scale='teal',\n",
    "                text_auto=True)\n",
    "fig.update_layout(title='Attrition vs OverTime Percentage',\n",
    "                  xaxis_title='OverTime',\n",
    "                  yaxis_title='Attrition', \n",
    "                  width=800, height=500, plot_bgcolor='#FFFFFF')\n",
    "fig.show(renderer=\"png\")"
   ]
  },
  {
   "cell_type": "markdown",
   "metadata": {},
   "source": [
    "#### 9. How does the distance of the workplace from an employee's home effect attition?"
   ]
  },
  {
   "cell_type": "code",
   "execution_count": 21,
   "metadata": {},
   "outputs": [
    {
     "data": {
      "image/svg+xml": [
       "<svg class=\"main-svg\" xmlns=\"http://www.w3.org/2000/svg\" xmlns:xlink=\"http://www.w3.org/1999/xlink\" width=\"800\" height=\"500\" style=\"\" viewBox=\"0 0 800 500\"><rect x=\"0\" y=\"0\" width=\"800\" height=\"500\" style=\"fill: rgb(255, 255, 255); fill-opacity: 1;\"/><defs id=\"defs-de22ea\"><g class=\"clips\"><clipPath id=\"clipde22eaxyplot\" class=\"plotclip\"><rect width=\"628\" height=\"360\"/></clipPath><clipPath class=\"axesclip\" id=\"clipde22eax\"><rect x=\"80\" y=\"0\" width=\"628\" height=\"500\"/></clipPath><clipPath class=\"axesclip\" id=\"clipde22eay\"><rect x=\"0\" y=\"60\" width=\"800\" height=\"360\"/></clipPath><clipPath class=\"axesclip\" id=\"clipde22eaxy\"><rect x=\"80\" y=\"60\" width=\"628\" height=\"360\"/></clipPath></g><g class=\"gradients\"/><g class=\"patterns\"/></defs><g class=\"bglayer\"><rect class=\"bg\" x=\"80\" y=\"60\" width=\"628\" height=\"360\" style=\"fill: rgb(255, 255, 255); fill-opacity: 1; stroke-width: 0;\"/></g><g class=\"layer-below\"><g class=\"imagelayer\"/><g class=\"shapelayer\"/></g><g class=\"cartesianlayer\"><g class=\"subplot xy\"><g class=\"layer-subplot\"><g class=\"shapelayer\"/><g class=\"imagelayer\"/></g><g class=\"minor-gridlayer\"><g class=\"x\"/><g class=\"y\"/></g><g class=\"gridlayer\"><g class=\"x\"/><g class=\"y\"><path class=\"ygrid crisp\" transform=\"translate(0,402.02)\" d=\"M80,0h628\" style=\"stroke: rgb(255, 255, 255); stroke-opacity: 1; stroke-width: 1px;\"/><path class=\"ygrid crisp\" transform=\"translate(0,321.01)\" d=\"M80,0h628\" style=\"stroke: rgb(255, 255, 255); stroke-opacity: 1; stroke-width: 1px;\"/><path class=\"ygrid crisp\" transform=\"translate(0,280.51)\" d=\"M80,0h628\" style=\"stroke: rgb(255, 255, 255); stroke-opacity: 1; stroke-width: 1px;\"/><path class=\"ygrid crisp\" transform=\"translate(0,240)\" d=\"M80,0h628\" style=\"stroke: rgb(255, 255, 255); stroke-opacity: 1; stroke-width: 1px;\"/><path class=\"ygrid crisp\" transform=\"translate(0,199.49)\" d=\"M80,0h628\" style=\"stroke: rgb(255, 255, 255); stroke-opacity: 1; stroke-width: 1px;\"/><path class=\"ygrid crisp\" transform=\"translate(0,158.99)\" d=\"M80,0h628\" style=\"stroke: rgb(255, 255, 255); stroke-opacity: 1; stroke-width: 1px;\"/><path class=\"ygrid crisp\" transform=\"translate(0,118.47999999999999)\" d=\"M80,0h628\" style=\"stroke: rgb(255, 255, 255); stroke-opacity: 1; stroke-width: 1px;\"/><path class=\"ygrid crisp\" transform=\"translate(0,77.98)\" d=\"M80,0h628\" style=\"stroke: rgb(255, 255, 255); stroke-opacity: 1; stroke-width: 1px;\"/></g></g><g class=\"zerolinelayer\"><path class=\"yzl zl crisp\" transform=\"translate(0,361.52)\" d=\"M80,0h628\" style=\"stroke: rgb(255, 255, 255); stroke-opacity: 1; stroke-width: 2px;\"/></g><path class=\"xlines-below\"/><path class=\"ylines-below\"/><g class=\"overlines-below\"/><g class=\"xaxislayer-below\"/><g class=\"yaxislayer-below\"/><g class=\"overaxes-below\"/><g class=\"plot\" transform=\"translate(80,60)\" clip-path=\"url(#clipde22eaxyplot)\"><g class=\"violinlayer mlayer\"><g class=\"trace violins\" style=\"opacity: 1;\"><path class=\"violin\" d=\"M160.4,342Q162.26,336.68 163.57,334.1C164.94,331.4 166.63,328.76 168.53,326.2C170.54,323.48 172.93,320.87 175.4,318.29C177.99,315.59 180.93,313 183.78,310.39C186.68,307.74 189.8,305.16 192.65,302.49C195.43,299.89 198.3,297.32 200.68,294.59C202.91,292.04 205.06,289.42 206.61,286.68C208.05,284.14 209.18,281.46 209.81,278.78C210.42,276.19 210.53,273.51 210.44,270.88C210.35,268.24 209.81,265.6 209.28,262.98C208.75,260.33 207.96,257.7 207.25,255.07C206.53,252.43 205.75,249.8 204.99,247.17C204.23,244.54 203.48,241.9 202.67,239.27C201.86,236.63 201.05,233.99 200.14,231.37C199.22,228.72 198.24,226.08 197.2,223.46C196.15,220.81 194.99,218.19 193.85,215.56C192.7,212.92 191.48,210.3 190.33,207.66C189.19,205.03 188.02,202.41 186.98,199.76C185.95,197.14 184.97,194.5 184.1,191.85C183.24,189.23 182.48,186.59 181.8,183.95C181.13,181.33 180.56,178.69 180.05,176.05C179.55,173.42 179.13,170.79 178.77,168.15C178.41,165.52 178.13,162.88 177.91,160.24C177.7,157.61 177.54,154.97 177.48,152.34C177.42,149.71 177.45,147.07 177.54,144.44C177.63,141.81 177.84,139.17 178.05,136.54C178.26,133.9 178.56,131.27 178.8,128.63C179.04,126 179.33,123.37 179.47,120.73C179.61,118.1 179.73,115.46 179.67,112.83C179.61,110.2 179.42,107.55 179.08,104.93C178.74,102.28 178.22,99.64 177.61,97.02C176.99,94.37 176.2,91.74 175.37,89.12C174.54,86.47 173.58,83.85 172.63,81.22C171.68,78.58 170.65,75.96 169.68,73.32C168.71,70.69 167.73,68.05 166.81,65.41C165.9,62.78 165.01,60.15 164.2,57.51C163.4,54.89 162.65,52.25 161.99,49.61C161.33,46.99 160.75,44.35 160.24,41.71C159.73,39.08 159.31,36.44 158.95,33.8C158.59,31.17 158.32,28.54 158.09,25.9Q157.86,23.27 157.56,18L156.44,18Q156.14,23.27 155.91,25.9C155.68,28.54 155.41,31.17 155.05,33.8C154.69,36.44 154.27,39.08 153.76,41.71C153.25,44.35 152.67,46.99 152.01,49.61C151.35,52.25 150.6,54.89 149.8,57.51C148.99,60.15 148.1,62.78 147.19,65.41C146.27,68.05 145.29,70.69 144.32,73.32C143.35,75.96 142.32,78.58 141.37,81.22C140.42,83.85 139.46,86.47 138.63,89.12C137.8,91.74 137.01,94.37 136.39,97.02C135.78,99.64 135.26,102.28 134.92,104.93C134.58,107.55 134.39,110.2 134.33,112.83C134.27,115.46 134.39,118.1 134.53,120.73C134.67,123.37 134.96,126 135.2,128.63C135.44,131.27 135.74,133.9 135.95,136.54C136.16,139.17 136.37,141.81 136.46,144.44C136.55,147.07 136.58,149.71 136.52,152.34C136.46,154.97 136.3,157.61 136.09,160.24C135.87,162.88 135.59,165.52 135.23,168.15C134.87,170.79 134.45,173.42 133.95,176.05C133.44,178.69 132.87,181.33 132.2,183.95C131.52,186.59 130.76,189.23 129.9,191.85C129.03,194.5 128.05,197.14 127.02,199.76C125.98,202.41 124.81,205.03 123.67,207.66C122.52,210.3 121.3,212.92 120.15,215.56C119.01,218.19 117.85,220.81 116.8,223.46C115.76,226.08 114.78,228.72 113.86,231.37C112.95,233.99 112.14,236.63 111.33,239.27C110.52,241.9 109.77,244.54 109.01,247.17C108.25,249.8 107.47,252.43 106.75,255.07C106.04,257.7 105.25,260.33 104.72,262.98C104.19,265.6 103.65,268.24 103.56,270.88C103.47,273.51 103.58,276.19 104.19,278.78C104.82,281.46 105.95,284.14 107.39,286.68C108.94,289.42 111.09,292.04 113.32,294.59C115.7,297.32 118.57,299.89 121.35,302.49C124.2,305.16 127.32,307.74 130.22,310.39C133.07,313 136.01,315.59 138.6,318.29C141.07,320.87 143.46,323.48 145.47,326.2C147.37,328.76 149.06,331.4 150.43,334.1Q151.74,336.68 153.6,342Z\" style=\"vector-effect: non-scaling-stroke; stroke-width: 2px; stroke: rgb(0, 128, 128); stroke-opacity: 1; fill: rgb(0, 128, 128); fill-opacity: 0.5;\"/><path class=\"box\" d=\"M137.77,228.61H176.23M137.77,277.21H176.23V163.8H137.77ZM157,277.21V293.41M157,163.8V66.59\" style=\"vector-effect: non-scaling-stroke; stroke-width: 2px; stroke: rgb(0, 128, 128); stroke-opacity: 1; fill: rgb(0, 128, 128); fill-opacity: 0.5;\"/><g class=\"points\"/></g><g class=\"trace violins\" style=\"opacity: 1;\"><path class=\"violin\" d=\"M476.49,326.53Q479.58,322.81 481.57,321.1C483.82,319.16 486.55,317.39 489.45,315.68C492.7,313.75 496.44,312 500.22,310.25C504.3,308.37 508.78,306.62 513.12,304.82C517.51,303 522.18,301.27 526.42,299.4C530.4,297.65 534.5,295.94 537.83,293.97C540.68,292.28 543.62,290.59 545.33,288.54C546.71,286.89 547.83,284.94 547.93,283.11C548.03,281.32 547.06,279.4 546.06,277.69C544.94,275.76 542.98,274.03 541.27,272.26C539.49,270.41 537.37,268.67 535.56,266.83C533.81,265.05 532,263.28 530.55,261.41C529.2,259.66 527.99,257.84 527.08,255.98C526.22,254.22 525.64,252.38 525.15,250.55C524.67,248.76 524.47,246.94 524.15,245.13C523.83,243.32 523.66,241.5 523.25,239.7C522.83,237.88 522.36,236.05 521.65,234.27C520.91,232.42 519.97,230.6 518.86,228.84C517.69,226.98 516.25,225.19 514.74,223.42C513.16,221.57 511.34,219.78 509.56,217.99C507.74,216.16 505.76,214.38 503.91,212.56C502.08,210.76 500.2,208.98 498.52,207.14C496.9,205.37 495.32,203.57 493.99,201.71C492.73,199.95 491.59,198.13 490.69,196.28C489.83,194.51 489.16,192.68 488.65,190.85C488.15,189.06 487.87,187.24 487.64,185.43C487.42,183.63 487.36,181.81 487.3,180C487.24,178.19 487.27,176.38 487.28,174.57C487.29,172.76 487.33,170.96 487.34,169.15C487.35,167.34 487.36,165.53 487.34,163.72C487.32,161.91 487.29,160.1 487.24,158.29C487.19,156.48 487.12,154.67 487.04,152.86C486.96,151.05 486.85,149.25 486.75,147.44C486.64,145.63 486.52,143.82 486.41,142.01C486.3,140.2 486.18,138.39 486.08,136.58C485.98,134.77 485.87,132.97 485.8,131.16C485.73,129.35 485.67,127.54 485.64,125.73C485.61,123.92 485.6,122.11 485.6,120.3C485.6,118.49 485.62,116.68 485.64,114.87C485.66,113.06 485.69,111.26 485.7,109.45C485.71,107.64 485.73,105.83 485.72,104.02C485.71,102.21 485.69,100.4 485.63,98.59C485.57,96.78 485.49,94.98 485.38,93.17C485.26,91.36 485.13,89.55 484.94,87.74C484.75,85.93 484.52,84.12 484.24,82.31C483.95,80.5 483.62,78.69 483.23,76.89C482.83,75.07 482.37,73.26 481.86,71.46C481.35,69.64 480.76,67.83 480.16,66.03C479.56,64.21 478.89,62.41 478.25,60.6C477.61,58.79 476.94,56.99 476.34,55.18C475.74,53.38 475.14,51.57 474.63,49.75C474.12,47.95 473.65,46.14 473.26,44.32C472.87,42.52 472.55,40.71 472.28,38.9Q472.01,37.1 471.66,33.47L470.34,33.47Q469.99,37.1 469.72,38.9C469.45,40.71 469.13,42.52 468.74,44.32C468.35,46.14 467.88,47.95 467.37,49.75C466.86,51.57 466.26,53.38 465.66,55.18C465.06,56.99 464.39,58.79 463.75,60.6C463.11,62.41 462.44,64.21 461.84,66.03C461.24,67.83 460.65,69.64 460.14,71.46C459.63,73.26 459.17,75.07 458.77,76.89C458.38,78.69 458.05,80.5 457.76,82.31C457.48,84.12 457.25,85.93 457.06,87.74C456.87,89.55 456.74,91.36 456.62,93.17C456.51,94.98 456.43,96.78 456.37,98.59C456.31,100.4 456.29,102.21 456.28,104.02C456.27,105.83 456.29,107.64 456.3,109.45C456.31,111.26 456.34,113.06 456.36,114.87C456.38,116.68 456.4,118.49 456.4,120.3C456.4,122.11 456.39,123.92 456.36,125.73C456.33,127.54 456.27,129.35 456.2,131.16C456.13,132.97 456.02,134.77 455.92,136.58C455.82,138.39 455.7,140.2 455.59,142.01C455.48,143.82 455.36,145.63 455.25,147.44C455.15,149.25 455.04,151.05 454.96,152.86C454.88,154.67 454.81,156.48 454.76,158.29C454.71,160.1 454.68,161.91 454.66,163.72C454.64,165.53 454.65,167.34 454.66,169.15C454.67,170.96 454.71,172.76 454.72,174.57C454.73,176.38 454.76,178.19 454.7,180C454.64,181.81 454.58,183.63 454.36,185.43C454.13,187.24 453.85,189.06 453.35,190.85C452.84,192.68 452.17,194.51 451.31,196.28C450.41,198.13 449.27,199.95 448.01,201.71C446.68,203.57 445.1,205.37 443.48,207.14C441.8,208.98 439.92,210.76 438.09,212.56C436.24,214.38 434.26,216.16 432.44,217.99C430.66,219.78 428.84,221.57 427.26,223.42C425.75,225.19 424.31,226.98 423.14,228.84C422.03,230.6 421.09,232.42 420.35,234.27C419.64,236.05 419.17,237.88 418.75,239.7C418.34,241.5 418.17,243.32 417.85,245.13C417.53,246.94 417.33,248.76 416.85,250.55C416.36,252.38 415.78,254.22 414.92,255.98C414.01,257.84 412.8,259.66 411.45,261.41C410,263.28 408.19,265.05 406.44,266.83C404.63,268.67 402.51,270.41 400.73,272.26C399.02,274.03 397.06,275.76 395.94,277.69C394.94,279.4 393.97,281.32 394.07,283.11C394.17,284.94 395.29,286.89 396.67,288.54C398.38,290.59 401.32,292.28 404.17,293.97C407.5,295.94 411.6,297.65 415.58,299.4C419.82,301.27 424.49,303 428.88,304.82C433.22,306.62 437.7,308.37 441.78,310.25C445.56,312 449.3,313.75 452.55,315.68C455.45,317.39 458.18,319.16 460.43,321.1Q462.42,322.81 465.51,326.53Z\" style=\"vector-effect: non-scaling-stroke; stroke-width: 2px; stroke: rgb(0, 204, 204); stroke-opacity: 1; fill: rgb(0, 204, 204); fill-opacity: 0.5;\"/><path class=\"box\" d=\"M451.77,244.81H490.23M451.77,285.31H490.23V196.2H451.77ZM471,285.31V293.41M471,196.2V66.59\" style=\"vector-effect: non-scaling-stroke; stroke-width: 2px; stroke: rgb(0, 204, 204); stroke-opacity: 1; fill: rgb(0, 204, 204); fill-opacity: 0.5;\"/><g class=\"points\"/></g></g></g><g class=\"overplot\"/><path class=\"xlines-above crisp\" d=\"M0,0\" style=\"fill: none;\"/><path class=\"ylines-above crisp\" d=\"M0,0\" style=\"fill: none;\"/><g class=\"overlines-above\"/><g class=\"xaxislayer-above\"><g class=\"xtick\"><text text-anchor=\"middle\" x=\"0\" y=\"433\" transform=\"translate(237,0)\" style=\"font-family: 'Open Sans', verdana, arial, sans-serif; font-size: 12px; fill: rgb(42, 63, 95); fill-opacity: 1; white-space: pre; opacity: 1;\">Yes</text></g><g class=\"xtick\"><text text-anchor=\"middle\" x=\"0\" y=\"433\" transform=\"translate(551,0)\" style=\"font-family: 'Open Sans', verdana, arial, sans-serif; font-size: 12px; fill: rgb(42, 63, 95); fill-opacity: 1; white-space: pre; opacity: 1;\">No</text></g></g><g class=\"yaxislayer-above\"><g class=\"ytick\"><text text-anchor=\"end\" x=\"79\" y=\"4.199999999999999\" transform=\"translate(0,402.02)\" style=\"font-family: 'Open Sans', verdana, arial, sans-serif; font-size: 12px; fill: rgb(42, 63, 95); fill-opacity: 1; white-space: pre; opacity: 1;\">−5</text></g><g class=\"ytick\"><text text-anchor=\"end\" x=\"79\" y=\"4.199999999999999\" style=\"font-family: 'Open Sans', verdana, arial, sans-serif; font-size: 12px; fill: rgb(42, 63, 95); fill-opacity: 1; white-space: pre; opacity: 1;\" transform=\"translate(0,361.52)\">0</text></g><g class=\"ytick\"><text text-anchor=\"end\" x=\"79\" y=\"4.199999999999999\" style=\"font-family: 'Open Sans', verdana, arial, sans-serif; font-size: 12px; fill: rgb(42, 63, 95); fill-opacity: 1; white-space: pre; opacity: 1;\" transform=\"translate(0,321.01)\">5</text></g><g class=\"ytick\"><text text-anchor=\"end\" x=\"79\" y=\"4.199999999999999\" style=\"font-family: 'Open Sans', verdana, arial, sans-serif; font-size: 12px; fill: rgb(42, 63, 95); fill-opacity: 1; white-space: pre; opacity: 1;\" transform=\"translate(0,280.51)\">10</text></g><g class=\"ytick\"><text text-anchor=\"end\" x=\"79\" y=\"4.199999999999999\" style=\"font-family: 'Open Sans', verdana, arial, sans-serif; font-size: 12px; fill: rgb(42, 63, 95); fill-opacity: 1; white-space: pre; opacity: 1;\" transform=\"translate(0,240)\">15</text></g><g class=\"ytick\"><text text-anchor=\"end\" x=\"79\" y=\"4.199999999999999\" style=\"font-family: 'Open Sans', verdana, arial, sans-serif; font-size: 12px; fill: rgb(42, 63, 95); fill-opacity: 1; white-space: pre; opacity: 1;\" transform=\"translate(0,199.49)\">20</text></g><g class=\"ytick\"><text text-anchor=\"end\" x=\"79\" y=\"4.199999999999999\" style=\"font-family: 'Open Sans', verdana, arial, sans-serif; font-size: 12px; fill: rgb(42, 63, 95); fill-opacity: 1; white-space: pre; opacity: 1;\" transform=\"translate(0,158.99)\">25</text></g><g class=\"ytick\"><text text-anchor=\"end\" x=\"79\" y=\"4.199999999999999\" style=\"font-family: 'Open Sans', verdana, arial, sans-serif; font-size: 12px; fill: rgb(42, 63, 95); fill-opacity: 1; white-space: pre; opacity: 1;\" transform=\"translate(0,118.47999999999999)\">30</text></g><g class=\"ytick\"><text text-anchor=\"end\" x=\"79\" y=\"4.199999999999999\" style=\"font-family: 'Open Sans', verdana, arial, sans-serif; font-size: 12px; fill: rgb(42, 63, 95); fill-opacity: 1; white-space: pre; opacity: 1;\" transform=\"translate(0,77.98)\">35</text></g></g><g class=\"overaxes-above\"/></g></g><g class=\"polarlayer\"/><g class=\"smithlayer\"/><g class=\"ternarylayer\"/><g class=\"geolayer\"/><g class=\"funnelarealayer\"/><g class=\"pielayer\"/><g class=\"iciclelayer\"/><g class=\"treemaplayer\"/><g class=\"sunburstlayer\"/><g class=\"glimages\"/><defs id=\"topdefs-de22ea\"><g class=\"clips\"/><clipPath id=\"legendde22ea\"><rect width=\"67\" height=\"67\" x=\"0\" y=\"0\"/></clipPath></defs><g class=\"layer-above\"><g class=\"imagelayer\"/><g class=\"shapelayer\"/></g><g class=\"infolayer\"><g class=\"legend\" pointer-events=\"all\" transform=\"translate(720.5600000000001,60)\"><rect class=\"bg\" shape-rendering=\"crispEdges\" width=\"67\" height=\"67\" x=\"0\" y=\"0\" style=\"stroke: rgb(68, 68, 68); stroke-opacity: 1; fill: rgb(255, 255, 255); fill-opacity: 1; stroke-width: 0px;\"/><g class=\"scrollbox\" transform=\"\" clip-path=\"url(#legendde22ea)\"><text class=\"legendtitletext\" text-anchor=\"start\" x=\"2\" y=\"18.2\" style=\"font-family: 'Open Sans', verdana, arial, sans-serif; font-size: 14px; fill: rgb(42, 63, 95); fill-opacity: 1; white-space: pre;\">Attrition</text><g class=\"groups\" transform=\"\"><g class=\"traces\" transform=\"translate(0,32.7)\" style=\"opacity: 1;\"><text class=\"legendtext\" text-anchor=\"start\" x=\"40\" y=\"4.680000000000001\" style=\"font-family: 'Open Sans', verdana, arial, sans-serif; font-size: 12px; fill: rgb(42, 63, 95); fill-opacity: 1; white-space: pre;\">Yes</text><g class=\"layers\" style=\"opacity: 1;\"><g class=\"legendfill\"/><g class=\"legendlines\"/><g class=\"legendsymbols\"><g class=\"legendpoints\"><path class=\"legendbox\" d=\"M6,6H-6V-6H6Z\" transform=\"translate(20,0)\" style=\"stroke-width: 2px; fill: rgb(0, 128, 128); fill-opacity: 0.5; stroke: rgb(0, 128, 128); stroke-opacity: 1;\"/></g></g></g><rect class=\"legendtoggle\" x=\"0\" y=\"-9.5\" width=\"61.78125\" height=\"19\" style=\"fill: rgb(0, 0, 0); fill-opacity: 0;\"/></g></g><g class=\"groups\" transform=\"\"><g class=\"traces\" transform=\"translate(0,51.7)\" style=\"opacity: 1;\"><text class=\"legendtext\" text-anchor=\"start\" x=\"40\" y=\"4.680000000000001\" style=\"font-family: 'Open Sans', verdana, arial, sans-serif; font-size: 12px; fill: rgb(42, 63, 95); fill-opacity: 1; white-space: pre;\">No</text><g class=\"layers\" style=\"opacity: 1;\"><g class=\"legendfill\"/><g class=\"legendlines\"/><g class=\"legendsymbols\"><g class=\"legendpoints\"><path class=\"legendbox\" d=\"M6,6H-6V-6H6Z\" transform=\"translate(20,0)\" style=\"stroke-width: 2px; fill: rgb(0, 204, 204); fill-opacity: 0.5; stroke: rgb(0, 204, 204); stroke-opacity: 1;\"/></g></g></g><rect class=\"legendtoggle\" x=\"0\" y=\"-9.5\" width=\"61.78125\" height=\"19\" style=\"fill: rgb(0, 0, 0); fill-opacity: 0;\"/></g></g></g><rect class=\"scrollbar\" rx=\"20\" ry=\"3\" width=\"0\" height=\"0\" x=\"0\" y=\"0\" style=\"fill: rgb(128, 139, 164); fill-opacity: 1;\"/></g><g class=\"g-gtitle\"><text class=\"gtitle\" x=\"40\" y=\"30\" text-anchor=\"start\" dy=\"0em\" style=\"font-family: 'Open Sans', verdana, arial, sans-serif; font-size: 17px; fill: rgb(42, 63, 95); opacity: 1; font-weight: normal; white-space: pre;\">Effect of Distance from Home on Attrition</text></g><g class=\"g-xtitle\"><text class=\"xtitle\" x=\"394\" y=\"460.8\" text-anchor=\"middle\" style=\"font-family: 'Open Sans', verdana, arial, sans-serif; font-size: 14px; fill: rgb(42, 63, 95); opacity: 1; font-weight: normal; white-space: pre;\">Distance from Home</text></g><g class=\"g-ytitle\"><text class=\"ytitle\" transform=\"rotate(-90,36.746875,240)\" x=\"36.746875\" y=\"240\" text-anchor=\"middle\" style=\"font-family: 'Open Sans', verdana, arial, sans-serif; font-size: 14px; fill: rgb(42, 63, 95); opacity: 1; font-weight: normal; white-space: pre;\">Attrition</text></g></g></svg>"
      ]
     },
     "metadata": {},
     "output_type": "display_data"
    }
   ],
   "source": [
    "fig = px.violin(df, x='Attrition', y='DistanceFromHome', box=True, color='Attrition',\n",
    "                color_discrete_sequence=['#008080', '#00cccc'], \n",
    "                orientation='v')\n",
    "fig.update_layout(\n",
    "    width=800,\n",
    "    height=500,\n",
    "    plot_bgcolor='#FFFFFF',\n",
    "    title='Effect of Distance from Home on Attrition',\n",
    "    xaxis_title='Distance from Home',\n",
    "    yaxis_title='Attrition'\n",
    ")\n",
    "\n",
    "fig.show(renderer=\"svg\")"
   ]
  },
  {
   "cell_type": "markdown",
   "metadata": {},
   "source": [
    "#### 10. Do higher salary hikes benefits relate to lower attrition?"
   ]
  },
  {
   "cell_type": "code",
   "execution_count": 22,
   "metadata": {},
   "outputs": [
    {
     "data": {
      "image/svg+xml": [
       "<svg class=\"main-svg\" xmlns=\"http://www.w3.org/2000/svg\" xmlns:xlink=\"http://www.w3.org/1999/xlink\" width=\"800\" height=\"500\" style=\"\" viewBox=\"0 0 800 500\"><rect x=\"0\" y=\"0\" width=\"800\" height=\"500\" style=\"fill: rgb(255, 255, 255); fill-opacity: 1;\"/><defs id=\"defs-139936\"><g class=\"clips\"><clipPath id=\"clip139936xyplot\" class=\"plotclip\"><rect width=\"628\" height=\"360\"/></clipPath><clipPath class=\"axesclip\" id=\"clip139936x\"><rect x=\"80\" y=\"0\" width=\"628\" height=\"500\"/></clipPath><clipPath class=\"axesclip\" id=\"clip139936y\"><rect x=\"0\" y=\"60\" width=\"800\" height=\"360\"/></clipPath><clipPath class=\"axesclip\" id=\"clip139936xy\"><rect x=\"80\" y=\"60\" width=\"628\" height=\"360\"/></clipPath></g><g class=\"gradients\"/><g class=\"patterns\"/></defs><g class=\"bglayer\"><rect class=\"bg\" x=\"80\" y=\"60\" width=\"628\" height=\"360\" style=\"fill: rgb(255, 255, 255); fill-opacity: 1; stroke-width: 0;\"/></g><g class=\"layer-below\"><g class=\"imagelayer\"/><g class=\"shapelayer\"/></g><g class=\"cartesianlayer\"><g class=\"subplot xy\"><g class=\"layer-subplot\"><g class=\"shapelayer\"/><g class=\"imagelayer\"/></g><g class=\"minor-gridlayer\"><g class=\"x\"/><g class=\"y\"/></g><g class=\"gridlayer\"><g class=\"x\"/><g class=\"y\"><path class=\"ygrid crisp\" transform=\"translate(0,378.86)\" d=\"M80,0h628\" style=\"stroke: rgb(255, 255, 255); stroke-opacity: 1; stroke-width: 1px;\"/><path class=\"ygrid crisp\" transform=\"translate(0,332.57)\" d=\"M80,0h628\" style=\"stroke: rgb(255, 255, 255); stroke-opacity: 1; stroke-width: 1px;\"/><path class=\"ygrid crisp\" transform=\"translate(0,286.28999999999996)\" d=\"M80,0h628\" style=\"stroke: rgb(255, 255, 255); stroke-opacity: 1; stroke-width: 1px;\"/><path class=\"ygrid crisp\" transform=\"translate(0,240)\" d=\"M80,0h628\" style=\"stroke: rgb(255, 255, 255); stroke-opacity: 1; stroke-width: 1px;\"/><path class=\"ygrid crisp\" transform=\"translate(0,193.71)\" d=\"M80,0h628\" style=\"stroke: rgb(255, 255, 255); stroke-opacity: 1; stroke-width: 1px;\"/><path class=\"ygrid crisp\" transform=\"translate(0,147.43)\" d=\"M80,0h628\" style=\"stroke: rgb(255, 255, 255); stroke-opacity: 1; stroke-width: 1px;\"/><path class=\"ygrid crisp\" transform=\"translate(0,101.14)\" d=\"M80,0h628\" style=\"stroke: rgb(255, 255, 255); stroke-opacity: 1; stroke-width: 1px;\"/></g></g><g class=\"zerolinelayer\"/><path class=\"xlines-below\"/><path class=\"ylines-below\"/><g class=\"overlines-below\"/><g class=\"xaxislayer-below\"/><g class=\"yaxislayer-below\"/><g class=\"overaxes-below\"/><g class=\"plot\" transform=\"translate(80,60)\" clip-path=\"url(#clip139936xyplot)\"><g class=\"boxlayer mlayer\"><g class=\"trace boxes\" style=\"opacity: 1;\"><path class=\"box\" d=\"M80.07,272.57H233.93M80.07,318.86H233.93V197.36H80.07ZM157,318.86V342M157,197.36V18M118.54,342H195.47M118.54,18H195.47\" style=\"vector-effect: non-scaling-stroke; stroke-width: 2px; stroke: rgb(0, 204, 204); stroke-opacity: 1; fill: rgb(0, 204, 204); fill-opacity: 0.5;\"/><g class=\"points\"/></g><g class=\"trace boxes\" style=\"opacity: 1;\"><path class=\"box\" d=\"M394.07,272.57H547.93M394.07,318.86H547.93V180H394.07ZM471,318.86V342M471,180V18M432.54,342H509.47M432.54,18H509.47\" style=\"vector-effect: non-scaling-stroke; stroke-width: 2px; stroke: rgb(0, 128, 128); stroke-opacity: 1; fill: rgb(0, 128, 128); fill-opacity: 0.5;\"/><g class=\"points\"/></g></g></g><g class=\"overplot\"/><path class=\"xlines-above crisp\" d=\"M0,0\" style=\"fill: none;\"/><path class=\"ylines-above crisp\" d=\"M0,0\" style=\"fill: none;\"/><g class=\"overlines-above\"/><g class=\"xaxislayer-above\"><g class=\"xtick\"><text text-anchor=\"middle\" x=\"0\" y=\"433\" transform=\"translate(237,0)\" style=\"font-family: 'Open Sans', verdana, arial, sans-serif; font-size: 12px; fill: rgb(42, 63, 95); fill-opacity: 1; white-space: pre; opacity: 1;\">Yes</text></g><g class=\"xtick\"><text text-anchor=\"middle\" x=\"0\" y=\"433\" transform=\"translate(551,0)\" style=\"font-family: 'Open Sans', verdana, arial, sans-serif; font-size: 12px; fill: rgb(42, 63, 95); fill-opacity: 1; white-space: pre; opacity: 1;\">No</text></g></g><g class=\"yaxislayer-above\"><g class=\"ytick\"><text text-anchor=\"end\" x=\"79\" y=\"4.199999999999999\" transform=\"translate(0,378.86)\" style=\"font-family: 'Open Sans', verdana, arial, sans-serif; font-size: 12px; fill: rgb(42, 63, 95); fill-opacity: 1; white-space: pre; opacity: 1;\">12</text></g><g class=\"ytick\"><text text-anchor=\"end\" x=\"79\" y=\"4.199999999999999\" style=\"font-family: 'Open Sans', verdana, arial, sans-serif; font-size: 12px; fill: rgb(42, 63, 95); fill-opacity: 1; white-space: pre; opacity: 1;\" transform=\"translate(0,332.57)\">14</text></g><g class=\"ytick\"><text text-anchor=\"end\" x=\"79\" y=\"4.199999999999999\" style=\"font-family: 'Open Sans', verdana, arial, sans-serif; font-size: 12px; fill: rgb(42, 63, 95); fill-opacity: 1; white-space: pre; opacity: 1;\" transform=\"translate(0,286.28999999999996)\">16</text></g><g class=\"ytick\"><text text-anchor=\"end\" x=\"79\" y=\"4.199999999999999\" style=\"font-family: 'Open Sans', verdana, arial, sans-serif; font-size: 12px; fill: rgb(42, 63, 95); fill-opacity: 1; white-space: pre; opacity: 1;\" transform=\"translate(0,240)\">18</text></g><g class=\"ytick\"><text text-anchor=\"end\" x=\"79\" y=\"4.199999999999999\" style=\"font-family: 'Open Sans', verdana, arial, sans-serif; font-size: 12px; fill: rgb(42, 63, 95); fill-opacity: 1; white-space: pre; opacity: 1;\" transform=\"translate(0,193.71)\">20</text></g><g class=\"ytick\"><text text-anchor=\"end\" x=\"79\" y=\"4.199999999999999\" style=\"font-family: 'Open Sans', verdana, arial, sans-serif; font-size: 12px; fill: rgb(42, 63, 95); fill-opacity: 1; white-space: pre; opacity: 1;\" transform=\"translate(0,147.43)\">22</text></g><g class=\"ytick\"><text text-anchor=\"end\" x=\"79\" y=\"4.199999999999999\" style=\"font-family: 'Open Sans', verdana, arial, sans-serif; font-size: 12px; fill: rgb(42, 63, 95); fill-opacity: 1; white-space: pre; opacity: 1;\" transform=\"translate(0,101.14)\">24</text></g></g><g class=\"overaxes-above\"/></g></g><g class=\"polarlayer\"/><g class=\"smithlayer\"/><g class=\"ternarylayer\"/><g class=\"geolayer\"/><g class=\"funnelarealayer\"/><g class=\"pielayer\"/><g class=\"iciclelayer\"/><g class=\"treemaplayer\"/><g class=\"sunburstlayer\"/><g class=\"glimages\"/><defs id=\"topdefs-139936\"><g class=\"clips\"/><clipPath id=\"legend139936\"><rect width=\"67\" height=\"67\" x=\"0\" y=\"0\"/></clipPath></defs><g class=\"layer-above\"><g class=\"imagelayer\"/><g class=\"shapelayer\"/></g><g class=\"infolayer\"><g class=\"legend\" pointer-events=\"all\" transform=\"translate(720.5600000000001,60)\"><rect class=\"bg\" shape-rendering=\"crispEdges\" width=\"67\" height=\"67\" x=\"0\" y=\"0\" style=\"stroke: rgb(68, 68, 68); stroke-opacity: 1; fill: rgb(255, 255, 255); fill-opacity: 1; stroke-width: 0px;\"/><g class=\"scrollbox\" transform=\"\" clip-path=\"url(#legend139936)\"><text class=\"legendtitletext\" text-anchor=\"start\" x=\"2\" y=\"18.2\" style=\"font-family: 'Open Sans', verdana, arial, sans-serif; font-size: 14px; fill: rgb(42, 63, 95); fill-opacity: 1; white-space: pre;\">Attrition</text><g class=\"groups\" transform=\"\"><g class=\"traces\" transform=\"translate(0,32.7)\" style=\"opacity: 1;\"><text class=\"legendtext\" text-anchor=\"start\" x=\"40\" y=\"4.680000000000001\" style=\"font-family: 'Open Sans', verdana, arial, sans-serif; font-size: 12px; fill: rgb(42, 63, 95); fill-opacity: 1; white-space: pre;\">Yes</text><g class=\"layers\" style=\"opacity: 1;\"><g class=\"legendfill\"/><g class=\"legendlines\"/><g class=\"legendsymbols\"><g class=\"legendpoints\"><path class=\"legendbox\" d=\"M6,6H-6V-6H6Z\" transform=\"translate(20,0)\" style=\"stroke-width: 2px; fill: rgb(0, 204, 204); fill-opacity: 0.5; stroke: rgb(0, 204, 204); stroke-opacity: 1;\"/></g></g></g><rect class=\"legendtoggle\" x=\"0\" y=\"-9.5\" width=\"61.78125\" height=\"19\" style=\"fill: rgb(0, 0, 0); fill-opacity: 0;\"/></g></g><g class=\"groups\" transform=\"\"><g class=\"traces\" transform=\"translate(0,51.7)\" style=\"opacity: 1;\"><text class=\"legendtext\" text-anchor=\"start\" x=\"40\" y=\"4.680000000000001\" style=\"font-family: 'Open Sans', verdana, arial, sans-serif; font-size: 12px; fill: rgb(42, 63, 95); fill-opacity: 1; white-space: pre;\">No</text><g class=\"layers\" style=\"opacity: 1;\"><g class=\"legendfill\"/><g class=\"legendlines\"/><g class=\"legendsymbols\"><g class=\"legendpoints\"><path class=\"legendbox\" d=\"M6,6H-6V-6H6Z\" transform=\"translate(20,0)\" style=\"stroke-width: 2px; fill: rgb(0, 128, 128); fill-opacity: 0.5; stroke: rgb(0, 128, 128); stroke-opacity: 1;\"/></g></g></g><rect class=\"legendtoggle\" x=\"0\" y=\"-9.5\" width=\"61.78125\" height=\"19\" style=\"fill: rgb(0, 0, 0); fill-opacity: 0;\"/></g></g></g><rect class=\"scrollbar\" rx=\"20\" ry=\"3\" width=\"0\" height=\"0\" x=\"0\" y=\"0\" style=\"fill: rgb(128, 139, 164); fill-opacity: 1;\"/></g><g class=\"g-gtitle\"><text class=\"gtitle\" x=\"40\" y=\"30\" text-anchor=\"start\" dy=\"0em\" style=\"font-family: 'Open Sans', verdana, arial, sans-serif; font-size: 17px; fill: rgb(42, 63, 95); opacity: 1; font-weight: normal; white-space: pre;\">Relationship between Salary Hikes and Attrition</text></g><g class=\"g-xtitle\"><text class=\"xtitle\" x=\"394\" y=\"460.8\" text-anchor=\"middle\" style=\"font-family: 'Open Sans', verdana, arial, sans-serif; font-size: 14px; fill: rgb(42, 63, 95); opacity: 1; font-weight: normal; white-space: pre;\">Attrition</text></g><g class=\"g-ytitle\"><text class=\"ytitle\" transform=\"rotate(-90,38.934375,240)\" x=\"38.934375\" y=\"240\" text-anchor=\"middle\" style=\"font-family: 'Open Sans', verdana, arial, sans-serif; font-size: 14px; fill: rgb(42, 63, 95); opacity: 1; font-weight: normal; white-space: pre;\">Salary Hike</text></g></g></svg>"
      ]
     },
     "metadata": {},
     "output_type": "display_data"
    }
   ],
   "source": [
    "fig = px.box(df, x='Attrition', y='PercentSalaryHike', color='Attrition', \n",
    "             color_discrete_sequence=['#00cccc', '#008080'])\n",
    "fig.update_layout(\n",
    "    width=800,\n",
    "    height=500,\n",
    "    plot_bgcolor='#FFFFFF',\n",
    "    title='Relationship between Salary Hikes and Attrition',\n",
    "    xaxis_title='Attrition',\n",
    "    yaxis_title='Salary Hike'\n",
    ")\n",
    "\n",
    "fig.show(renderer=\"svg\")"
   ]
  }
 ],
 "metadata": {
  "kernelspec": {
   "display_name": "base",
   "language": "python",
   "name": "python3"
  },
  "language_info": {
   "codemirror_mode": {
    "name": "ipython",
    "version": 3
   },
   "file_extension": ".py",
   "mimetype": "text/x-python",
   "name": "python",
   "nbconvert_exporter": "python",
   "pygments_lexer": "ipython3",
   "version": "3.11.4"
  }
 },
 "nbformat": 4,
 "nbformat_minor": 2
}
