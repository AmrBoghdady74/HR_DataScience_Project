{
 "cells": [
  {
   "cell_type": "markdown",
   "metadata": {},
   "source": [
    "## Human Resources Department Prject\n",
    "\n",
    "Develop a machine learning solution to predict employee attrition based on historical data, aiming to identify factors influencing employees' decisions to leave the company. The objective is to create a robust predictive model that enables proactive measures for employee retention."
   ]
  },
  {
   "cell_type": "code",
   "execution_count": 1,
   "metadata": {},
   "outputs": [],
   "source": [
    "DF_PATH = '../data/processed/HR_Processed_Engineered.pkl'\n",
    "MODEL_PATH = '../models/HR_Model.pkl'"
   ]
  },
  {
   "cell_type": "markdown",
   "metadata": {},
   "source": [
    "#### Import libraries"
   ]
  },
  {
   "cell_type": "code",
   "execution_count": 2,
   "metadata": {},
   "outputs": [],
   "source": [
    "import pandas as pd\n",
    "import numpy as np\n",
    "import matplotlib.pyplot as plt\n",
    "import seaborn as sns\n",
    "import plotly.express as px\n",
    "from plotly.subplots import make_subplots\n",
    "import plotly.graph_objs as go\n",
    "import pickle\n",
    "import joblib\n",
    "from sklearn.model_selection import train_test_split\n",
    "from sklearn.preprocessing import RobustScaler, LabelEncoder\n",
    "from sklearn.ensemble import RandomForestClassifier\n",
    "from sklearn.svm import SVC\n",
    "from sklearn.tree import DecisionTreeClassifier\n",
    "from xgboost import XGBClassifier\n",
    "from sklearn.metrics import accuracy_score, confusion_matrix, classification_report\n",
    "from sklearn.model_selection import GridSearchCV\n",
    "from sklearn.pipeline import Pipeline\n",
    "from sklearn.decomposition import PCA, KernelPCA\n",
    "from sklearn.compose import ColumnTransformer\n",
    "import category_encoders as ce"
   ]
  },
  {
   "cell_type": "markdown",
   "metadata": {},
   "source": [
    "#### Read data"
   ]
  },
  {
   "cell_type": "code",
   "execution_count": 3,
   "metadata": {},
   "outputs": [
    {
     "data": {
      "text/plain": [
       "(1470, 26)"
      ]
     },
     "execution_count": 3,
     "metadata": {},
     "output_type": "execute_result"
    }
   ],
   "source": [
    "df = pd.read_pickle(DF_PATH)\n",
    "df.shape"
   ]
  },
  {
   "cell_type": "markdown",
   "metadata": {},
   "source": [
    "#### Encode the target feature"
   ]
  },
  {
   "cell_type": "code",
   "execution_count": 4,
   "metadata": {},
   "outputs": [],
   "source": [
    "df['Attrition'] = df['Attrition'].map({'Yes': 1, 'No': 0})"
   ]
  },
  {
   "cell_type": "code",
   "execution_count": 5,
   "metadata": {},
   "outputs": [],
   "source": [
    "X = df.drop('Attrition', axis=1)\n",
    "y = df['Attrition']"
   ]
  },
  {
   "cell_type": "markdown",
   "metadata": {},
   "source": [
    "#### Split the data into training set and test set"
   ]
  },
  {
   "cell_type": "code",
   "execution_count": 6,
   "metadata": {},
   "outputs": [],
   "source": [
    "X_train, X_test, y_train, y_test = train_test_split(X, y, test_size=0.2, random_state=42)"
   ]
  },
  {
   "cell_type": "markdown",
   "metadata": {},
   "source": [
    "#### Make pipeline to train this model with specific steps"
   ]
  },
  {
   "cell_type": "code",
   "execution_count": 7,
   "metadata": {},
   "outputs": [
    {
     "data": {
      "text/plain": [
       "['BusinessTravel',\n",
       " 'Department',\n",
       " 'EducationField',\n",
       " 'Gender',\n",
       " 'JobRole',\n",
       " 'MaritalStatus',\n",
       " 'OverTime']"
      ]
     },
     "execution_count": 7,
     "metadata": {},
     "output_type": "execute_result"
    }
   ],
   "source": [
    "cat_cols = X_train.select_dtypes(include=object).columns.tolist()\n",
    "cat_cols"
   ]
  },
  {
   "cell_type": "code",
   "execution_count": 8,
   "metadata": {},
   "outputs": [
    {
     "data": {
      "text/plain": [
       "['Age',\n",
       " 'DailyRate',\n",
       " 'DistanceFromHome',\n",
       " 'Education',\n",
       " 'EnvironmentSatisfaction',\n",
       " 'HourlyRate',\n",
       " 'JobInvolvement',\n",
       " 'JobSatisfaction',\n",
       " 'MonthlyIncome',\n",
       " 'MonthlyRate',\n",
       " 'NumCompaniesWorked',\n",
       " 'PercentSalaryHike',\n",
       " 'RelationshipSatisfaction',\n",
       " 'StockOptionLevel',\n",
       " 'TrainingTimesLastYear',\n",
       " 'WorkLifeBalance',\n",
       " 'YearsSinceLastPromotion',\n",
       " 'YearsWithCurrManager']"
      ]
     },
     "execution_count": 8,
     "metadata": {},
     "output_type": "execute_result"
    }
   ],
   "source": [
    "numeric_cols = X_train.select_dtypes(include=np.number).columns.tolist()\n",
    "numeric_cols"
   ]
  },
  {
   "cell_type": "markdown",
   "metadata": {},
   "source": [
    "##### Setup the preprocessing pipelines"
   ]
  },
  {
   "cell_type": "code",
   "execution_count": 9,
   "metadata": {},
   "outputs": [],
   "source": [
    "# Preprocessing\n",
    "numeric_features = Pipeline(steps=[\n",
    "    ('ScalingNumeric', RobustScaler())\n",
    "])\n",
    "categorical_features = Pipeline(steps=[\n",
    "    ('EncodingCat', ce.BinaryEncoder(cols=cat_cols))\n",
    "])\n",
    "preprocessor = ColumnTransformer(\n",
    "    transformers=[\n",
    "        ('num', numeric_features, numeric_cols),\n",
    "        ('cat', categorical_features, cat_cols)\n",
    "    ]\n",
    ")"
   ]
  },
  {
   "cell_type": "markdown",
   "metadata": {},
   "source": [
    "##### Add with the model training and decompisition"
   ]
  },
  {
   "cell_type": "code",
   "execution_count": 10,
   "metadata": {},
   "outputs": [],
   "source": [
    "pipeline = Pipeline(steps=[\n",
    "    ('Preprocessor', preprocessor),\n",
    "    ('PCA', PCA(n_components=0.95, random_state=42)),\n",
    "    ('Classifier', SVC(random_state=42))\n",
    "])"
   ]
  },
  {
   "cell_type": "code",
   "execution_count": 11,
   "metadata": {},
   "outputs": [
    {
     "data": {
      "text/html": [
       "<style>#sk-container-id-1 {color: black;}#sk-container-id-1 pre{padding: 0;}#sk-container-id-1 div.sk-toggleable {background-color: white;}#sk-container-id-1 label.sk-toggleable__label {cursor: pointer;display: block;width: 100%;margin-bottom: 0;padding: 0.3em;box-sizing: border-box;text-align: center;}#sk-container-id-1 label.sk-toggleable__label-arrow:before {content: \"▸\";float: left;margin-right: 0.25em;color: #696969;}#sk-container-id-1 label.sk-toggleable__label-arrow:hover:before {color: black;}#sk-container-id-1 div.sk-estimator:hover label.sk-toggleable__label-arrow:before {color: black;}#sk-container-id-1 div.sk-toggleable__content {max-height: 0;max-width: 0;overflow: hidden;text-align: left;background-color: #f0f8ff;}#sk-container-id-1 div.sk-toggleable__content pre {margin: 0.2em;color: black;border-radius: 0.25em;background-color: #f0f8ff;}#sk-container-id-1 input.sk-toggleable__control:checked~div.sk-toggleable__content {max-height: 200px;max-width: 100%;overflow: auto;}#sk-container-id-1 input.sk-toggleable__control:checked~label.sk-toggleable__label-arrow:before {content: \"▾\";}#sk-container-id-1 div.sk-estimator input.sk-toggleable__control:checked~label.sk-toggleable__label {background-color: #d4ebff;}#sk-container-id-1 div.sk-label input.sk-toggleable__control:checked~label.sk-toggleable__label {background-color: #d4ebff;}#sk-container-id-1 input.sk-hidden--visually {border: 0;clip: rect(1px 1px 1px 1px);clip: rect(1px, 1px, 1px, 1px);height: 1px;margin: -1px;overflow: hidden;padding: 0;position: absolute;width: 1px;}#sk-container-id-1 div.sk-estimator {font-family: monospace;background-color: #f0f8ff;border: 1px dotted black;border-radius: 0.25em;box-sizing: border-box;margin-bottom: 0.5em;}#sk-container-id-1 div.sk-estimator:hover {background-color: #d4ebff;}#sk-container-id-1 div.sk-parallel-item::after {content: \"\";width: 100%;border-bottom: 1px solid gray;flex-grow: 1;}#sk-container-id-1 div.sk-label:hover label.sk-toggleable__label {background-color: #d4ebff;}#sk-container-id-1 div.sk-serial::before {content: \"\";position: absolute;border-left: 1px solid gray;box-sizing: border-box;top: 0;bottom: 0;left: 50%;z-index: 0;}#sk-container-id-1 div.sk-serial {display: flex;flex-direction: column;align-items: center;background-color: white;padding-right: 0.2em;padding-left: 0.2em;position: relative;}#sk-container-id-1 div.sk-item {position: relative;z-index: 1;}#sk-container-id-1 div.sk-parallel {display: flex;align-items: stretch;justify-content: center;background-color: white;position: relative;}#sk-container-id-1 div.sk-item::before, #sk-container-id-1 div.sk-parallel-item::before {content: \"\";position: absolute;border-left: 1px solid gray;box-sizing: border-box;top: 0;bottom: 0;left: 50%;z-index: -1;}#sk-container-id-1 div.sk-parallel-item {display: flex;flex-direction: column;z-index: 1;position: relative;background-color: white;}#sk-container-id-1 div.sk-parallel-item:first-child::after {align-self: flex-end;width: 50%;}#sk-container-id-1 div.sk-parallel-item:last-child::after {align-self: flex-start;width: 50%;}#sk-container-id-1 div.sk-parallel-item:only-child::after {width: 0;}#sk-container-id-1 div.sk-dashed-wrapped {border: 1px dashed gray;margin: 0 0.4em 0.5em 0.4em;box-sizing: border-box;padding-bottom: 0.4em;background-color: white;}#sk-container-id-1 div.sk-label label {font-family: monospace;font-weight: bold;display: inline-block;line-height: 1.2em;}#sk-container-id-1 div.sk-label-container {text-align: center;}#sk-container-id-1 div.sk-container {/* jupyter's `normalize.less` sets `[hidden] { display: none; }` but bootstrap.min.css set `[hidden] { display: none !important; }` so we also need the `!important` here to be able to override the default hidden behavior on the sphinx rendered scikit-learn.org. See: https://github.com/scikit-learn/scikit-learn/issues/21755 */display: inline-block !important;position: relative;}#sk-container-id-1 div.sk-text-repr-fallback {display: none;}</style><div id=\"sk-container-id-1\" class=\"sk-top-container\"><div class=\"sk-text-repr-fallback\"><pre>Pipeline(steps=[(&#x27;Preprocessor&#x27;,\n",
       "                 ColumnTransformer(transformers=[(&#x27;num&#x27;,\n",
       "                                                  Pipeline(steps=[(&#x27;ScalingNumeric&#x27;,\n",
       "                                                                   RobustScaler())]),\n",
       "                                                  [&#x27;Age&#x27;, &#x27;DailyRate&#x27;,\n",
       "                                                   &#x27;DistanceFromHome&#x27;,\n",
       "                                                   &#x27;Education&#x27;,\n",
       "                                                   &#x27;EnvironmentSatisfaction&#x27;,\n",
       "                                                   &#x27;HourlyRate&#x27;,\n",
       "                                                   &#x27;JobInvolvement&#x27;,\n",
       "                                                   &#x27;JobSatisfaction&#x27;,\n",
       "                                                   &#x27;MonthlyIncome&#x27;,\n",
       "                                                   &#x27;MonthlyRate&#x27;,\n",
       "                                                   &#x27;NumCompaniesWorked&#x27;,\n",
       "                                                   &#x27;PercentSalaryHike&#x27;,\n",
       "                                                   &#x27;RelationshipSatisfaction&#x27;,\n",
       "                                                   &#x27;Stoc...\n",
       "                                                   &#x27;YearsWithCurrManager&#x27;]),\n",
       "                                                 (&#x27;cat&#x27;,\n",
       "                                                  Pipeline(steps=[(&#x27;EncodingCat&#x27;,\n",
       "                                                                   BinaryEncoder(cols=[&#x27;BusinessTravel&#x27;,\n",
       "                                                                                       &#x27;Department&#x27;,\n",
       "                                                                                       &#x27;EducationField&#x27;,\n",
       "                                                                                       &#x27;Gender&#x27;,\n",
       "                                                                                       &#x27;JobRole&#x27;,\n",
       "                                                                                       &#x27;MaritalStatus&#x27;,\n",
       "                                                                                       &#x27;OverTime&#x27;]))]),\n",
       "                                                  [&#x27;BusinessTravel&#x27;,\n",
       "                                                   &#x27;Department&#x27;,\n",
       "                                                   &#x27;EducationField&#x27;, &#x27;Gender&#x27;,\n",
       "                                                   &#x27;JobRole&#x27;, &#x27;MaritalStatus&#x27;,\n",
       "                                                   &#x27;OverTime&#x27;])])),\n",
       "                (&#x27;PCA&#x27;, PCA(n_components=0.95, random_state=42)),\n",
       "                (&#x27;Classifier&#x27;, SVC(random_state=42))])</pre><b>In a Jupyter environment, please rerun this cell to show the HTML representation or trust the notebook. <br />On GitHub, the HTML representation is unable to render, please try loading this page with nbviewer.org.</b></div><div class=\"sk-container\" hidden><div class=\"sk-item sk-dashed-wrapped\"><div class=\"sk-label-container\"><div class=\"sk-label sk-toggleable\"><input class=\"sk-toggleable__control sk-hidden--visually\" id=\"sk-estimator-id-1\" type=\"checkbox\" ><label for=\"sk-estimator-id-1\" class=\"sk-toggleable__label sk-toggleable__label-arrow\">Pipeline</label><div class=\"sk-toggleable__content\"><pre>Pipeline(steps=[(&#x27;Preprocessor&#x27;,\n",
       "                 ColumnTransformer(transformers=[(&#x27;num&#x27;,\n",
       "                                                  Pipeline(steps=[(&#x27;ScalingNumeric&#x27;,\n",
       "                                                                   RobustScaler())]),\n",
       "                                                  [&#x27;Age&#x27;, &#x27;DailyRate&#x27;,\n",
       "                                                   &#x27;DistanceFromHome&#x27;,\n",
       "                                                   &#x27;Education&#x27;,\n",
       "                                                   &#x27;EnvironmentSatisfaction&#x27;,\n",
       "                                                   &#x27;HourlyRate&#x27;,\n",
       "                                                   &#x27;JobInvolvement&#x27;,\n",
       "                                                   &#x27;JobSatisfaction&#x27;,\n",
       "                                                   &#x27;MonthlyIncome&#x27;,\n",
       "                                                   &#x27;MonthlyRate&#x27;,\n",
       "                                                   &#x27;NumCompaniesWorked&#x27;,\n",
       "                                                   &#x27;PercentSalaryHike&#x27;,\n",
       "                                                   &#x27;RelationshipSatisfaction&#x27;,\n",
       "                                                   &#x27;Stoc...\n",
       "                                                   &#x27;YearsWithCurrManager&#x27;]),\n",
       "                                                 (&#x27;cat&#x27;,\n",
       "                                                  Pipeline(steps=[(&#x27;EncodingCat&#x27;,\n",
       "                                                                   BinaryEncoder(cols=[&#x27;BusinessTravel&#x27;,\n",
       "                                                                                       &#x27;Department&#x27;,\n",
       "                                                                                       &#x27;EducationField&#x27;,\n",
       "                                                                                       &#x27;Gender&#x27;,\n",
       "                                                                                       &#x27;JobRole&#x27;,\n",
       "                                                                                       &#x27;MaritalStatus&#x27;,\n",
       "                                                                                       &#x27;OverTime&#x27;]))]),\n",
       "                                                  [&#x27;BusinessTravel&#x27;,\n",
       "                                                   &#x27;Department&#x27;,\n",
       "                                                   &#x27;EducationField&#x27;, &#x27;Gender&#x27;,\n",
       "                                                   &#x27;JobRole&#x27;, &#x27;MaritalStatus&#x27;,\n",
       "                                                   &#x27;OverTime&#x27;])])),\n",
       "                (&#x27;PCA&#x27;, PCA(n_components=0.95, random_state=42)),\n",
       "                (&#x27;Classifier&#x27;, SVC(random_state=42))])</pre></div></div></div><div class=\"sk-serial\"><div class=\"sk-item sk-dashed-wrapped\"><div class=\"sk-label-container\"><div class=\"sk-label sk-toggleable\"><input class=\"sk-toggleable__control sk-hidden--visually\" id=\"sk-estimator-id-2\" type=\"checkbox\" ><label for=\"sk-estimator-id-2\" class=\"sk-toggleable__label sk-toggleable__label-arrow\">Preprocessor: ColumnTransformer</label><div class=\"sk-toggleable__content\"><pre>ColumnTransformer(transformers=[(&#x27;num&#x27;,\n",
       "                                 Pipeline(steps=[(&#x27;ScalingNumeric&#x27;,\n",
       "                                                  RobustScaler())]),\n",
       "                                 [&#x27;Age&#x27;, &#x27;DailyRate&#x27;, &#x27;DistanceFromHome&#x27;,\n",
       "                                  &#x27;Education&#x27;, &#x27;EnvironmentSatisfaction&#x27;,\n",
       "                                  &#x27;HourlyRate&#x27;, &#x27;JobInvolvement&#x27;,\n",
       "                                  &#x27;JobSatisfaction&#x27;, &#x27;MonthlyIncome&#x27;,\n",
       "                                  &#x27;MonthlyRate&#x27;, &#x27;NumCompaniesWorked&#x27;,\n",
       "                                  &#x27;PercentSalaryHike&#x27;,\n",
       "                                  &#x27;RelationshipSatisfaction&#x27;,\n",
       "                                  &#x27;StockOptionLevel&#x27;, &#x27;TrainingTimesLastYear&#x27;,\n",
       "                                  &#x27;WorkLifeBalance&#x27;, &#x27;YearsSinceLastPromotion&#x27;,\n",
       "                                  &#x27;YearsWithCurrManager&#x27;]),\n",
       "                                (&#x27;cat&#x27;,\n",
       "                                 Pipeline(steps=[(&#x27;EncodingCat&#x27;,\n",
       "                                                  BinaryEncoder(cols=[&#x27;BusinessTravel&#x27;,\n",
       "                                                                      &#x27;Department&#x27;,\n",
       "                                                                      &#x27;EducationField&#x27;,\n",
       "                                                                      &#x27;Gender&#x27;,\n",
       "                                                                      &#x27;JobRole&#x27;,\n",
       "                                                                      &#x27;MaritalStatus&#x27;,\n",
       "                                                                      &#x27;OverTime&#x27;]))]),\n",
       "                                 [&#x27;BusinessTravel&#x27;, &#x27;Department&#x27;,\n",
       "                                  &#x27;EducationField&#x27;, &#x27;Gender&#x27;, &#x27;JobRole&#x27;,\n",
       "                                  &#x27;MaritalStatus&#x27;, &#x27;OverTime&#x27;])])</pre></div></div></div><div class=\"sk-parallel\"><div class=\"sk-parallel-item\"><div class=\"sk-item\"><div class=\"sk-label-container\"><div class=\"sk-label sk-toggleable\"><input class=\"sk-toggleable__control sk-hidden--visually\" id=\"sk-estimator-id-3\" type=\"checkbox\" ><label for=\"sk-estimator-id-3\" class=\"sk-toggleable__label sk-toggleable__label-arrow\">num</label><div class=\"sk-toggleable__content\"><pre>[&#x27;Age&#x27;, &#x27;DailyRate&#x27;, &#x27;DistanceFromHome&#x27;, &#x27;Education&#x27;, &#x27;EnvironmentSatisfaction&#x27;, &#x27;HourlyRate&#x27;, &#x27;JobInvolvement&#x27;, &#x27;JobSatisfaction&#x27;, &#x27;MonthlyIncome&#x27;, &#x27;MonthlyRate&#x27;, &#x27;NumCompaniesWorked&#x27;, &#x27;PercentSalaryHike&#x27;, &#x27;RelationshipSatisfaction&#x27;, &#x27;StockOptionLevel&#x27;, &#x27;TrainingTimesLastYear&#x27;, &#x27;WorkLifeBalance&#x27;, &#x27;YearsSinceLastPromotion&#x27;, &#x27;YearsWithCurrManager&#x27;]</pre></div></div></div><div class=\"sk-serial\"><div class=\"sk-item\"><div class=\"sk-serial\"><div class=\"sk-item\"><div class=\"sk-estimator sk-toggleable\"><input class=\"sk-toggleable__control sk-hidden--visually\" id=\"sk-estimator-id-4\" type=\"checkbox\" ><label for=\"sk-estimator-id-4\" class=\"sk-toggleable__label sk-toggleable__label-arrow\">RobustScaler</label><div class=\"sk-toggleable__content\"><pre>RobustScaler()</pre></div></div></div></div></div></div></div></div><div class=\"sk-parallel-item\"><div class=\"sk-item\"><div class=\"sk-label-container\"><div class=\"sk-label sk-toggleable\"><input class=\"sk-toggleable__control sk-hidden--visually\" id=\"sk-estimator-id-5\" type=\"checkbox\" ><label for=\"sk-estimator-id-5\" class=\"sk-toggleable__label sk-toggleable__label-arrow\">cat</label><div class=\"sk-toggleable__content\"><pre>[&#x27;BusinessTravel&#x27;, &#x27;Department&#x27;, &#x27;EducationField&#x27;, &#x27;Gender&#x27;, &#x27;JobRole&#x27;, &#x27;MaritalStatus&#x27;, &#x27;OverTime&#x27;]</pre></div></div></div><div class=\"sk-serial\"><div class=\"sk-item\"><div class=\"sk-serial\"><div class=\"sk-item\"><div class=\"sk-estimator sk-toggleable\"><input class=\"sk-toggleable__control sk-hidden--visually\" id=\"sk-estimator-id-6\" type=\"checkbox\" ><label for=\"sk-estimator-id-6\" class=\"sk-toggleable__label sk-toggleable__label-arrow\">BinaryEncoder</label><div class=\"sk-toggleable__content\"><pre>BinaryEncoder(cols=[&#x27;BusinessTravel&#x27;, &#x27;Department&#x27;, &#x27;EducationField&#x27;, &#x27;Gender&#x27;,\n",
       "                    &#x27;JobRole&#x27;, &#x27;MaritalStatus&#x27;, &#x27;OverTime&#x27;])</pre></div></div></div></div></div></div></div></div></div></div><div class=\"sk-item\"><div class=\"sk-estimator sk-toggleable\"><input class=\"sk-toggleable__control sk-hidden--visually\" id=\"sk-estimator-id-7\" type=\"checkbox\" ><label for=\"sk-estimator-id-7\" class=\"sk-toggleable__label sk-toggleable__label-arrow\">PCA</label><div class=\"sk-toggleable__content\"><pre>PCA(n_components=0.95, random_state=42)</pre></div></div></div><div class=\"sk-item\"><div class=\"sk-estimator sk-toggleable\"><input class=\"sk-toggleable__control sk-hidden--visually\" id=\"sk-estimator-id-8\" type=\"checkbox\" ><label for=\"sk-estimator-id-8\" class=\"sk-toggleable__label sk-toggleable__label-arrow\">SVC</label><div class=\"sk-toggleable__content\"><pre>SVC(random_state=42)</pre></div></div></div></div></div></div></div>"
      ],
      "text/plain": [
       "Pipeline(steps=[('Preprocessor',\n",
       "                 ColumnTransformer(transformers=[('num',\n",
       "                                                  Pipeline(steps=[('ScalingNumeric',\n",
       "                                                                   RobustScaler())]),\n",
       "                                                  ['Age', 'DailyRate',\n",
       "                                                   'DistanceFromHome',\n",
       "                                                   'Education',\n",
       "                                                   'EnvironmentSatisfaction',\n",
       "                                                   'HourlyRate',\n",
       "                                                   'JobInvolvement',\n",
       "                                                   'JobSatisfaction',\n",
       "                                                   'MonthlyIncome',\n",
       "                                                   'MonthlyRate',\n",
       "                                                   'NumCompaniesWorked',\n",
       "                                                   'PercentSalaryHike',\n",
       "                                                   'RelationshipSatisfaction',\n",
       "                                                   'Stoc...\n",
       "                                                   'YearsWithCurrManager']),\n",
       "                                                 ('cat',\n",
       "                                                  Pipeline(steps=[('EncodingCat',\n",
       "                                                                   BinaryEncoder(cols=['BusinessTravel',\n",
       "                                                                                       'Department',\n",
       "                                                                                       'EducationField',\n",
       "                                                                                       'Gender',\n",
       "                                                                                       'JobRole',\n",
       "                                                                                       'MaritalStatus',\n",
       "                                                                                       'OverTime']))]),\n",
       "                                                  ['BusinessTravel',\n",
       "                                                   'Department',\n",
       "                                                   'EducationField', 'Gender',\n",
       "                                                   'JobRole', 'MaritalStatus',\n",
       "                                                   'OverTime'])])),\n",
       "                ('PCA', PCA(n_components=0.95, random_state=42)),\n",
       "                ('Classifier', SVC(random_state=42))])"
      ]
     },
     "execution_count": 11,
     "metadata": {},
     "output_type": "execute_result"
    }
   ],
   "source": [
    "pipeline.fit(X_train, y_train)"
   ]
  },
  {
   "cell_type": "code",
   "execution_count": 12,
   "metadata": {},
   "outputs": [],
   "source": [
    "y_pred = pipeline.predict(X_test)"
   ]
  },
  {
   "cell_type": "code",
   "execution_count": 13,
   "metadata": {},
   "outputs": [
    {
     "data": {
      "text/plain": [
       "array([[254,   1],\n",
       "       [ 32,   7]], dtype=int64)"
      ]
     },
     "execution_count": 13,
     "metadata": {},
     "output_type": "execute_result"
    }
   ],
   "source": [
    "cm = confusion_matrix(y_test, y_pred)\n",
    "cm"
   ]
  },
  {
   "cell_type": "code",
   "execution_count": 14,
   "metadata": {},
   "outputs": [
    {
     "data": {
      "image/svg+xml": [
       "<svg class=\"main-svg\" xmlns=\"http://www.w3.org/2000/svg\" xmlns:xlink=\"http://www.w3.org/1999/xlink\" width=\"800\" height=\"500\" style=\"\" viewBox=\"0 0 800 500\"><rect x=\"0\" y=\"0\" width=\"800\" height=\"500\" style=\"fill: rgb(255, 255, 255); fill-opacity: 1;\"/><defs id=\"defs-beed44\"><g class=\"clips\"><clipPath id=\"clipbeed44xyplot\" class=\"plotclip\"><rect width=\"320\" height=\"320\"/></clipPath><clipPath class=\"axesclip\" id=\"clipbeed44x\"><rect x=\"231\" y=\"0\" width=\"320\" height=\"500\"/></clipPath><clipPath class=\"axesclip\" id=\"clipbeed44y\"><rect x=\"0\" y=\"100\" width=\"800\" height=\"320\"/></clipPath><clipPath class=\"axesclip\" id=\"clipbeed44xy\"><rect x=\"231\" y=\"100\" width=\"320\" height=\"320\"/></clipPath></g><g class=\"gradients\"><linearGradient x1=\"0\" x2=\"0\" y1=\"1\" y2=\"0\" id=\"gbeed44-cbcoloraxis\"><stop offset=\"0%\" stop-color=\"rgb(209, 238, 234)\" stop-opacity=\"1\"/><stop offset=\"16.666667%\" stop-color=\"rgb(168, 219, 217)\" stop-opacity=\"1\"/><stop offset=\"33.333333%\" stop-color=\"rgb(133, 196, 201)\" stop-opacity=\"1\"/><stop offset=\"50%\" stop-color=\"rgb(104, 171, 184)\" stop-opacity=\"1\"/><stop offset=\"66.666667%\" stop-color=\"rgb(79, 144, 166)\" stop-opacity=\"1\"/><stop offset=\"83.333333%\" stop-color=\"rgb(59, 115, 143)\" stop-opacity=\"1\"/><stop offset=\"100%\" stop-color=\"rgb(42, 86, 116)\" stop-opacity=\"1\"/></linearGradient></g><g class=\"patterns\"/></defs><g class=\"bglayer\"><rect class=\"bg\" x=\"231\" y=\"100\" width=\"320\" height=\"320\" style=\"fill: rgb(229, 236, 246); fill-opacity: 1; stroke-width: 0;\"/></g><g class=\"layer-below\"><g class=\"imagelayer\"/><g class=\"shapelayer\"/></g><g class=\"cartesianlayer\"><g class=\"subplot xy\"><g class=\"layer-subplot\"><g class=\"shapelayer\"/><g class=\"imagelayer\"/></g><g class=\"minor-gridlayer\"><g class=\"x\"/><g class=\"y\"/></g><g class=\"gridlayer\"><g class=\"x\"><path class=\"xgrid crisp\" transform=\"translate(311,0)\" d=\"M0,100v320\" style=\"stroke: rgb(255, 255, 255); stroke-opacity: 1; stroke-width: 1px;\"/><path class=\"xgrid crisp\" transform=\"translate(471,0)\" d=\"M0,100v320\" style=\"stroke: rgb(255, 255, 255); stroke-opacity: 1; stroke-width: 1px;\"/></g><g class=\"y\"><path class=\"ygrid crisp\" transform=\"translate(0,340)\" d=\"M231,0h320\" style=\"stroke: rgb(255, 255, 255); stroke-opacity: 1; stroke-width: 1px;\"/><path class=\"ygrid crisp\" transform=\"translate(0,180)\" d=\"M231,0h320\" style=\"stroke: rgb(255, 255, 255); stroke-opacity: 1; stroke-width: 1px;\"/></g></g><g class=\"zerolinelayer\"/><path class=\"xlines-below\"/><path class=\"ylines-below\"/><g class=\"overlines-below\"/><g class=\"xaxislayer-below\"/><g class=\"yaxislayer-below\"/><g class=\"overaxes-below\"/><g class=\"plot\" transform=\"translate(231,100)\" clip-path=\"url(#clipbeed44xyplot)\"><g class=\"heatmaplayer mlayer\"><g class=\"hm\"><image xmlns=\"http://www.w3.org/2000/svg\" preserveAspectRatio=\"none\" height=\"320\" width=\"320\" x=\"0\" y=\"0\" xlink:href=\"data:image/png;base64,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\" style=\"opacity: 1;\"/><g class=\"heatmap-label\"><text text-anchor=\"middle\" data-notex=\"1\" x=\"80\" y=\"84.2\" style=\"font-family: 'Open Sans', verdana, arial, sans-serif; font-size: 12px; fill: rgb(255, 255, 255); fill-opacity: 1; white-space: pre;\">254</text></g><g class=\"heatmap-label\"><text text-anchor=\"middle\" data-notex=\"1\" x=\"240\" y=\"84.2\" style=\"font-family: 'Open Sans', verdana, arial, sans-serif; font-size: 12px; fill: rgb(68, 68, 68); fill-opacity: 1; white-space: pre;\">1</text></g><g class=\"heatmap-label\"><text text-anchor=\"middle\" data-notex=\"1\" x=\"80\" y=\"244.2\" style=\"font-family: 'Open Sans', verdana, arial, sans-serif; font-size: 12px; fill: rgb(68, 68, 68); fill-opacity: 1; white-space: pre;\">32</text></g><g class=\"heatmap-label\"><text text-anchor=\"middle\" data-notex=\"1\" x=\"240\" y=\"244.2\" style=\"font-family: 'Open Sans', verdana, arial, sans-serif; font-size: 12px; fill: rgb(68, 68, 68); fill-opacity: 1; white-space: pre;\">7</text></g></g></g></g><g class=\"overplot\"/><path class=\"xlines-above crisp\" d=\"M0,0\" style=\"fill: none;\"/><path class=\"ylines-above crisp\" d=\"M0,0\" style=\"fill: none;\"/><g class=\"overlines-above\"/><g class=\"xaxislayer-above\"><g class=\"xtick\"><text text-anchor=\"middle\" x=\"0\" y=\"433\" transform=\"translate(311,0)\" style=\"font-family: 'Open Sans', verdana, arial, sans-serif; font-size: 12px; fill: rgb(42, 63, 95); fill-opacity: 1; white-space: pre; opacity: 1;\">No</text></g><g class=\"xtick\"><text text-anchor=\"middle\" x=\"0\" y=\"433\" transform=\"translate(471,0)\" style=\"font-family: 'Open Sans', verdana, arial, sans-serif; font-size: 12px; fill: rgb(42, 63, 95); fill-opacity: 1; white-space: pre; opacity: 1;\">Yes</text></g></g><g class=\"yaxislayer-above\"><g class=\"ytick\"><text text-anchor=\"end\" x=\"230\" y=\"4.199999999999999\" transform=\"translate(0,340)\" style=\"font-family: 'Open Sans', verdana, arial, sans-serif; font-size: 12px; fill: rgb(42, 63, 95); fill-opacity: 1; white-space: pre; opacity: 1;\">Yes</text></g><g class=\"ytick\"><text text-anchor=\"end\" x=\"230\" y=\"4.199999999999999\" transform=\"translate(0,180)\" style=\"font-family: 'Open Sans', verdana, arial, sans-serif; font-size: 12px; fill: rgb(42, 63, 95); fill-opacity: 1; white-space: pre; opacity: 1;\">No</text></g></g><g class=\"overaxes-above\"/></g></g><g class=\"polarlayer\"/><g class=\"smithlayer\"/><g class=\"ternarylayer\"/><g class=\"geolayer\"/><g class=\"funnelarealayer\"/><g class=\"pielayer\"/><g class=\"iciclelayer\"/><g class=\"treemaplayer\"/><g class=\"sunburstlayer\"/><g class=\"glimages\"/><defs id=\"topdefs-beed44\"><g class=\"clips\"/></defs><g class=\"layer-above\"><g class=\"imagelayer\"/><g class=\"shapelayer\"/></g><g class=\"infolayer\"><g class=\"cbcoloraxis colorbar\" transform=\"translate(80,100)\"><rect class=\"cbbg\" x=\"634\" y=\"0\" width=\"73.28125\" height=\"320\" style=\"fill: rgb(0, 0, 0); fill-opacity: 0; stroke: rgb(68, 68, 68); stroke-opacity: 1; stroke-width: 0;\"/><g class=\"cbfills\" transform=\"translate(0,32)\"><rect class=\"cbfill gradient_filled\" x=\"644\" y=\"0\" width=\"30\" height=\"278\" style=\"fill: url('#gbeed44-cbcoloraxis');\"/></g><g class=\"cblines\" transform=\"translate(0,32)\"/><g class=\"cbaxis crisp\" transform=\"translate(0,-100)\"><g class=\"ycbcoloraxistick\"><text text-anchor=\"start\" x=\"676.9\" y=\"4.199999999999999\" transform=\"translate(0,356.15999999999997)\" style=\"font-family: 'Open Sans', verdana, arial, sans-serif; font-size: 12px; fill: rgb(42, 63, 95); fill-opacity: 1; white-space: pre; opacity: 1;\">50</text></g><g class=\"ycbcoloraxistick\"><text text-anchor=\"start\" x=\"676.9\" y=\"4.199999999999999\" style=\"font-family: 'Open Sans', verdana, arial, sans-serif; font-size: 12px; fill: rgb(42, 63, 95); fill-opacity: 1; white-space: pre; opacity: 1;\" transform=\"translate(0,301.22)\">100</text></g><g class=\"ycbcoloraxistick\"><text text-anchor=\"start\" x=\"676.9\" y=\"4.199999999999999\" style=\"font-family: 'Open Sans', verdana, arial, sans-serif; font-size: 12px; fill: rgb(42, 63, 95); fill-opacity: 1; white-space: pre; opacity: 1;\" transform=\"translate(0,246.28)\">150</text></g><g class=\"ycbcoloraxistick\"><text text-anchor=\"start\" x=\"676.9\" y=\"4.199999999999999\" style=\"font-family: 'Open Sans', verdana, arial, sans-serif; font-size: 12px; fill: rgb(42, 63, 95); fill-opacity: 1; white-space: pre; opacity: 1;\" transform=\"translate(0,191.34)\">200</text></g><g class=\"ycbcoloraxistick\"><text text-anchor=\"start\" x=\"676.9\" y=\"4.199999999999999\" style=\"font-family: 'Open Sans', verdana, arial, sans-serif; font-size: 12px; fill: rgb(42, 63, 95); fill-opacity: 1; white-space: pre; opacity: 1;\" transform=\"translate(0,136.4)\">250</text></g></g><g class=\"cbtitleunshift\" transform=\"translate(-80,-100)\"><g class=\"cbtitle\" transform=\"\"><text class=\"ycbcoloraxistitle\" x=\"724.44\" y=\"123.5\" text-anchor=\"start\" style=\"font-family: 'Open Sans', verdana, arial, sans-serif; font-size: 14px; fill: rgb(42, 63, 95); opacity: 1; font-weight: normal; white-space: pre;\">Count</text></g></g><rect class=\"cboutline\" x=\"644\" y=\"32\" width=\"30\" height=\"278\" style=\"stroke: rgb(68, 68, 68); stroke-opacity: 1; fill: none; stroke-width: 0;\"/></g><g class=\"g-gtitle\"><text class=\"gtitle\" x=\"40\" y=\"50\" text-anchor=\"start\" dy=\"0em\" style=\"font-family: 'Open Sans', verdana, arial, sans-serif; font-size: 17px; fill: rgb(42, 63, 95); opacity: 1; font-weight: normal; white-space: pre;\">Confusion Matrix (SVM)</text></g><g class=\"g-xtitle\"><text class=\"xtitle\" x=\"391\" y=\"460.8\" text-anchor=\"middle\" style=\"font-family: 'Open Sans', verdana, arial, sans-serif; font-size: 14px; fill: rgb(42, 63, 95); opacity: 1; font-weight: normal; white-space: pre;\">Predicted</text></g><g class=\"g-ytitle\"><text class=\"ytitle\" transform=\"rotate(-90,184.16875,260)\" x=\"184.16875\" y=\"260\" text-anchor=\"middle\" style=\"font-family: 'Open Sans', verdana, arial, sans-serif; font-size: 14px; fill: rgb(42, 63, 95); opacity: 1; font-weight: normal; white-space: pre;\">Actual</text></g></g></svg>"
      ]
     },
     "metadata": {},
     "output_type": "display_data"
    }
   ],
   "source": [
    "fig = px.imshow(cm, labels=dict(x=\"Predicted\", y=\"Actual\", color=\"Count\"),\n",
    "          x=['No', 'Yes'], y=['No', 'Yes'], color_continuous_scale='Teal', \n",
    "          title='Confusion Matrix (SVM)', \n",
    "          width=800, height=500,\n",
    "          text_auto=True)\n",
    "fig.show(renderer=\"png\")"
   ]
  },
  {
   "cell_type": "markdown",
   "metadata": {},
   "source": [
    "#### Tune the parameters of the Pipeline"
   ]
  },
  {
   "cell_type": "code",
   "execution_count": 15,
   "metadata": {},
   "outputs": [],
   "source": [
    "hpt_pipeline = Pipeline(steps=[\n",
    "    ('Preprocessor', preprocessor),\n",
    "    ('PCA', PCA(random_state=42)),\n",
    "    ('Classifier', SVC(random_state=42))\n",
    "])"
   ]
  },
  {
   "cell_type": "code",
   "execution_count": 16,
   "metadata": {},
   "outputs": [],
   "source": [
    "tuned_params = {\n",
    "    'PCA__n_components': [0.7, 0.85, 0.95],\n",
    "    'Classifier__C': [0.1, 1, 10],\n",
    "    'Classifier__gamma': [0.1, 1, 10],\n",
    "    'Classifier__kernel': ['linear', 'rbf', 'poly']\n",
    "}"
   ]
  },
  {
   "cell_type": "code",
   "execution_count": 17,
   "metadata": {},
   "outputs": [],
   "source": [
    "hpt_pipeline = GridSearchCV(hpt_pipeline, tuned_params)"
   ]
  },
  {
   "cell_type": "code",
   "execution_count": 18,
   "metadata": {},
   "outputs": [
    {
     "data": {
      "text/html": [
       "<style>#sk-container-id-2 {color: black;}#sk-container-id-2 pre{padding: 0;}#sk-container-id-2 div.sk-toggleable {background-color: white;}#sk-container-id-2 label.sk-toggleable__label {cursor: pointer;display: block;width: 100%;margin-bottom: 0;padding: 0.3em;box-sizing: border-box;text-align: center;}#sk-container-id-2 label.sk-toggleable__label-arrow:before {content: \"▸\";float: left;margin-right: 0.25em;color: #696969;}#sk-container-id-2 label.sk-toggleable__label-arrow:hover:before {color: black;}#sk-container-id-2 div.sk-estimator:hover label.sk-toggleable__label-arrow:before {color: black;}#sk-container-id-2 div.sk-toggleable__content {max-height: 0;max-width: 0;overflow: hidden;text-align: left;background-color: #f0f8ff;}#sk-container-id-2 div.sk-toggleable__content pre {margin: 0.2em;color: black;border-radius: 0.25em;background-color: #f0f8ff;}#sk-container-id-2 input.sk-toggleable__control:checked~div.sk-toggleable__content {max-height: 200px;max-width: 100%;overflow: auto;}#sk-container-id-2 input.sk-toggleable__control:checked~label.sk-toggleable__label-arrow:before {content: \"▾\";}#sk-container-id-2 div.sk-estimator input.sk-toggleable__control:checked~label.sk-toggleable__label {background-color: #d4ebff;}#sk-container-id-2 div.sk-label input.sk-toggleable__control:checked~label.sk-toggleable__label {background-color: #d4ebff;}#sk-container-id-2 input.sk-hidden--visually {border: 0;clip: rect(1px 1px 1px 1px);clip: rect(1px, 1px, 1px, 1px);height: 1px;margin: -1px;overflow: hidden;padding: 0;position: absolute;width: 1px;}#sk-container-id-2 div.sk-estimator {font-family: monospace;background-color: #f0f8ff;border: 1px dotted black;border-radius: 0.25em;box-sizing: border-box;margin-bottom: 0.5em;}#sk-container-id-2 div.sk-estimator:hover {background-color: #d4ebff;}#sk-container-id-2 div.sk-parallel-item::after {content: \"\";width: 100%;border-bottom: 1px solid gray;flex-grow: 1;}#sk-container-id-2 div.sk-label:hover label.sk-toggleable__label {background-color: #d4ebff;}#sk-container-id-2 div.sk-serial::before {content: \"\";position: absolute;border-left: 1px solid gray;box-sizing: border-box;top: 0;bottom: 0;left: 50%;z-index: 0;}#sk-container-id-2 div.sk-serial {display: flex;flex-direction: column;align-items: center;background-color: white;padding-right: 0.2em;padding-left: 0.2em;position: relative;}#sk-container-id-2 div.sk-item {position: relative;z-index: 1;}#sk-container-id-2 div.sk-parallel {display: flex;align-items: stretch;justify-content: center;background-color: white;position: relative;}#sk-container-id-2 div.sk-item::before, #sk-container-id-2 div.sk-parallel-item::before {content: \"\";position: absolute;border-left: 1px solid gray;box-sizing: border-box;top: 0;bottom: 0;left: 50%;z-index: -1;}#sk-container-id-2 div.sk-parallel-item {display: flex;flex-direction: column;z-index: 1;position: relative;background-color: white;}#sk-container-id-2 div.sk-parallel-item:first-child::after {align-self: flex-end;width: 50%;}#sk-container-id-2 div.sk-parallel-item:last-child::after {align-self: flex-start;width: 50%;}#sk-container-id-2 div.sk-parallel-item:only-child::after {width: 0;}#sk-container-id-2 div.sk-dashed-wrapped {border: 1px dashed gray;margin: 0 0.4em 0.5em 0.4em;box-sizing: border-box;padding-bottom: 0.4em;background-color: white;}#sk-container-id-2 div.sk-label label {font-family: monospace;font-weight: bold;display: inline-block;line-height: 1.2em;}#sk-container-id-2 div.sk-label-container {text-align: center;}#sk-container-id-2 div.sk-container {/* jupyter's `normalize.less` sets `[hidden] { display: none; }` but bootstrap.min.css set `[hidden] { display: none !important; }` so we also need the `!important` here to be able to override the default hidden behavior on the sphinx rendered scikit-learn.org. See: https://github.com/scikit-learn/scikit-learn/issues/21755 */display: inline-block !important;position: relative;}#sk-container-id-2 div.sk-text-repr-fallback {display: none;}</style><div id=\"sk-container-id-2\" class=\"sk-top-container\"><div class=\"sk-text-repr-fallback\"><pre>GridSearchCV(estimator=Pipeline(steps=[(&#x27;Preprocessor&#x27;,\n",
       "                                        ColumnTransformer(transformers=[(&#x27;num&#x27;,\n",
       "                                                                         Pipeline(steps=[(&#x27;ScalingNumeric&#x27;,\n",
       "                                                                                          RobustScaler())]),\n",
       "                                                                         [&#x27;Age&#x27;,\n",
       "                                                                          &#x27;DailyRate&#x27;,\n",
       "                                                                          &#x27;DistanceFromHome&#x27;,\n",
       "                                                                          &#x27;Education&#x27;,\n",
       "                                                                          &#x27;EnvironmentSatisfaction&#x27;,\n",
       "                                                                          &#x27;HourlyRate&#x27;,\n",
       "                                                                          &#x27;JobInvolvement&#x27;,\n",
       "                                                                          &#x27;JobSatisfaction&#x27;,\n",
       "                                                                          &#x27;MonthlyIncome&#x27;,\n",
       "                                                                          &#x27;MonthlyRate&#x27;,\n",
       "                                                                          &#x27;NumCompaniesWorked&#x27;,\n",
       "                                                                          &#x27;PercentSalaryHike&#x27;,\n",
       "                                                                          &#x27;Relation...\n",
       "                                                                                                              &#x27;MaritalStatus&#x27;,\n",
       "                                                                                                              &#x27;OverTime&#x27;]))]),\n",
       "                                                                         [&#x27;BusinessTravel&#x27;,\n",
       "                                                                          &#x27;Department&#x27;,\n",
       "                                                                          &#x27;EducationField&#x27;,\n",
       "                                                                          &#x27;Gender&#x27;,\n",
       "                                                                          &#x27;JobRole&#x27;,\n",
       "                                                                          &#x27;MaritalStatus&#x27;,\n",
       "                                                                          &#x27;OverTime&#x27;])])),\n",
       "                                       (&#x27;PCA&#x27;, PCA(random_state=42)),\n",
       "                                       (&#x27;Classifier&#x27;, SVC(random_state=42))]),\n",
       "             param_grid={&#x27;Classifier__C&#x27;: [0.1, 1, 10],\n",
       "                         &#x27;Classifier__gamma&#x27;: [0.1, 1, 10],\n",
       "                         &#x27;Classifier__kernel&#x27;: [&#x27;linear&#x27;, &#x27;rbf&#x27;, &#x27;poly&#x27;],\n",
       "                         &#x27;PCA__n_components&#x27;: [0.7, 0.85, 0.95]})</pre><b>In a Jupyter environment, please rerun this cell to show the HTML representation or trust the notebook. <br />On GitHub, the HTML representation is unable to render, please try loading this page with nbviewer.org.</b></div><div class=\"sk-container\" hidden><div class=\"sk-item sk-dashed-wrapped\"><div class=\"sk-label-container\"><div class=\"sk-label sk-toggleable\"><input class=\"sk-toggleable__control sk-hidden--visually\" id=\"sk-estimator-id-9\" type=\"checkbox\" ><label for=\"sk-estimator-id-9\" class=\"sk-toggleable__label sk-toggleable__label-arrow\">GridSearchCV</label><div class=\"sk-toggleable__content\"><pre>GridSearchCV(estimator=Pipeline(steps=[(&#x27;Preprocessor&#x27;,\n",
       "                                        ColumnTransformer(transformers=[(&#x27;num&#x27;,\n",
       "                                                                         Pipeline(steps=[(&#x27;ScalingNumeric&#x27;,\n",
       "                                                                                          RobustScaler())]),\n",
       "                                                                         [&#x27;Age&#x27;,\n",
       "                                                                          &#x27;DailyRate&#x27;,\n",
       "                                                                          &#x27;DistanceFromHome&#x27;,\n",
       "                                                                          &#x27;Education&#x27;,\n",
       "                                                                          &#x27;EnvironmentSatisfaction&#x27;,\n",
       "                                                                          &#x27;HourlyRate&#x27;,\n",
       "                                                                          &#x27;JobInvolvement&#x27;,\n",
       "                                                                          &#x27;JobSatisfaction&#x27;,\n",
       "                                                                          &#x27;MonthlyIncome&#x27;,\n",
       "                                                                          &#x27;MonthlyRate&#x27;,\n",
       "                                                                          &#x27;NumCompaniesWorked&#x27;,\n",
       "                                                                          &#x27;PercentSalaryHike&#x27;,\n",
       "                                                                          &#x27;Relation...\n",
       "                                                                                                              &#x27;MaritalStatus&#x27;,\n",
       "                                                                                                              &#x27;OverTime&#x27;]))]),\n",
       "                                                                         [&#x27;BusinessTravel&#x27;,\n",
       "                                                                          &#x27;Department&#x27;,\n",
       "                                                                          &#x27;EducationField&#x27;,\n",
       "                                                                          &#x27;Gender&#x27;,\n",
       "                                                                          &#x27;JobRole&#x27;,\n",
       "                                                                          &#x27;MaritalStatus&#x27;,\n",
       "                                                                          &#x27;OverTime&#x27;])])),\n",
       "                                       (&#x27;PCA&#x27;, PCA(random_state=42)),\n",
       "                                       (&#x27;Classifier&#x27;, SVC(random_state=42))]),\n",
       "             param_grid={&#x27;Classifier__C&#x27;: [0.1, 1, 10],\n",
       "                         &#x27;Classifier__gamma&#x27;: [0.1, 1, 10],\n",
       "                         &#x27;Classifier__kernel&#x27;: [&#x27;linear&#x27;, &#x27;rbf&#x27;, &#x27;poly&#x27;],\n",
       "                         &#x27;PCA__n_components&#x27;: [0.7, 0.85, 0.95]})</pre></div></div></div><div class=\"sk-parallel\"><div class=\"sk-parallel-item\"><div class=\"sk-item\"><div class=\"sk-label-container\"><div class=\"sk-label sk-toggleable\"><input class=\"sk-toggleable__control sk-hidden--visually\" id=\"sk-estimator-id-10\" type=\"checkbox\" ><label for=\"sk-estimator-id-10\" class=\"sk-toggleable__label sk-toggleable__label-arrow\">estimator: Pipeline</label><div class=\"sk-toggleable__content\"><pre>Pipeline(steps=[(&#x27;Preprocessor&#x27;,\n",
       "                 ColumnTransformer(transformers=[(&#x27;num&#x27;,\n",
       "                                                  Pipeline(steps=[(&#x27;ScalingNumeric&#x27;,\n",
       "                                                                   RobustScaler())]),\n",
       "                                                  [&#x27;Age&#x27;, &#x27;DailyRate&#x27;,\n",
       "                                                   &#x27;DistanceFromHome&#x27;,\n",
       "                                                   &#x27;Education&#x27;,\n",
       "                                                   &#x27;EnvironmentSatisfaction&#x27;,\n",
       "                                                   &#x27;HourlyRate&#x27;,\n",
       "                                                   &#x27;JobInvolvement&#x27;,\n",
       "                                                   &#x27;JobSatisfaction&#x27;,\n",
       "                                                   &#x27;MonthlyIncome&#x27;,\n",
       "                                                   &#x27;MonthlyRate&#x27;,\n",
       "                                                   &#x27;NumCompaniesWorked&#x27;,\n",
       "                                                   &#x27;PercentSalaryHike&#x27;,\n",
       "                                                   &#x27;RelationshipSatisfaction&#x27;,\n",
       "                                                   &#x27;Stoc...\n",
       "                                                   &#x27;YearsSinceLastPromotion&#x27;,\n",
       "                                                   &#x27;YearsWithCurrManager&#x27;]),\n",
       "                                                 (&#x27;cat&#x27;,\n",
       "                                                  Pipeline(steps=[(&#x27;EncodingCat&#x27;,\n",
       "                                                                   BinaryEncoder(cols=[&#x27;BusinessTravel&#x27;,\n",
       "                                                                                       &#x27;Department&#x27;,\n",
       "                                                                                       &#x27;EducationField&#x27;,\n",
       "                                                                                       &#x27;Gender&#x27;,\n",
       "                                                                                       &#x27;JobRole&#x27;,\n",
       "                                                                                       &#x27;MaritalStatus&#x27;,\n",
       "                                                                                       &#x27;OverTime&#x27;]))]),\n",
       "                                                  [&#x27;BusinessTravel&#x27;,\n",
       "                                                   &#x27;Department&#x27;,\n",
       "                                                   &#x27;EducationField&#x27;, &#x27;Gender&#x27;,\n",
       "                                                   &#x27;JobRole&#x27;, &#x27;MaritalStatus&#x27;,\n",
       "                                                   &#x27;OverTime&#x27;])])),\n",
       "                (&#x27;PCA&#x27;, PCA(random_state=42)),\n",
       "                (&#x27;Classifier&#x27;, SVC(random_state=42))])</pre></div></div></div><div class=\"sk-serial\"><div class=\"sk-item\"><div class=\"sk-serial\"><div class=\"sk-item sk-dashed-wrapped\"><div class=\"sk-label-container\"><div class=\"sk-label sk-toggleable\"><input class=\"sk-toggleable__control sk-hidden--visually\" id=\"sk-estimator-id-11\" type=\"checkbox\" ><label for=\"sk-estimator-id-11\" class=\"sk-toggleable__label sk-toggleable__label-arrow\">Preprocessor: ColumnTransformer</label><div class=\"sk-toggleable__content\"><pre>ColumnTransformer(transformers=[(&#x27;num&#x27;,\n",
       "                                 Pipeline(steps=[(&#x27;ScalingNumeric&#x27;,\n",
       "                                                  RobustScaler())]),\n",
       "                                 [&#x27;Age&#x27;, &#x27;DailyRate&#x27;, &#x27;DistanceFromHome&#x27;,\n",
       "                                  &#x27;Education&#x27;, &#x27;EnvironmentSatisfaction&#x27;,\n",
       "                                  &#x27;HourlyRate&#x27;, &#x27;JobInvolvement&#x27;,\n",
       "                                  &#x27;JobSatisfaction&#x27;, &#x27;MonthlyIncome&#x27;,\n",
       "                                  &#x27;MonthlyRate&#x27;, &#x27;NumCompaniesWorked&#x27;,\n",
       "                                  &#x27;PercentSalaryHike&#x27;,\n",
       "                                  &#x27;RelationshipSatisfaction&#x27;,\n",
       "                                  &#x27;StockOptionLevel&#x27;, &#x27;TrainingTimesLastYear&#x27;,\n",
       "                                  &#x27;WorkLifeBalance&#x27;, &#x27;YearsSinceLastPromotion&#x27;,\n",
       "                                  &#x27;YearsWithCurrManager&#x27;]),\n",
       "                                (&#x27;cat&#x27;,\n",
       "                                 Pipeline(steps=[(&#x27;EncodingCat&#x27;,\n",
       "                                                  BinaryEncoder(cols=[&#x27;BusinessTravel&#x27;,\n",
       "                                                                      &#x27;Department&#x27;,\n",
       "                                                                      &#x27;EducationField&#x27;,\n",
       "                                                                      &#x27;Gender&#x27;,\n",
       "                                                                      &#x27;JobRole&#x27;,\n",
       "                                                                      &#x27;MaritalStatus&#x27;,\n",
       "                                                                      &#x27;OverTime&#x27;]))]),\n",
       "                                 [&#x27;BusinessTravel&#x27;, &#x27;Department&#x27;,\n",
       "                                  &#x27;EducationField&#x27;, &#x27;Gender&#x27;, &#x27;JobRole&#x27;,\n",
       "                                  &#x27;MaritalStatus&#x27;, &#x27;OverTime&#x27;])])</pre></div></div></div><div class=\"sk-parallel\"><div class=\"sk-parallel-item\"><div class=\"sk-item\"><div class=\"sk-label-container\"><div class=\"sk-label sk-toggleable\"><input class=\"sk-toggleable__control sk-hidden--visually\" id=\"sk-estimator-id-12\" type=\"checkbox\" ><label for=\"sk-estimator-id-12\" class=\"sk-toggleable__label sk-toggleable__label-arrow\">num</label><div class=\"sk-toggleable__content\"><pre>[&#x27;Age&#x27;, &#x27;DailyRate&#x27;, &#x27;DistanceFromHome&#x27;, &#x27;Education&#x27;, &#x27;EnvironmentSatisfaction&#x27;, &#x27;HourlyRate&#x27;, &#x27;JobInvolvement&#x27;, &#x27;JobSatisfaction&#x27;, &#x27;MonthlyIncome&#x27;, &#x27;MonthlyRate&#x27;, &#x27;NumCompaniesWorked&#x27;, &#x27;PercentSalaryHike&#x27;, &#x27;RelationshipSatisfaction&#x27;, &#x27;StockOptionLevel&#x27;, &#x27;TrainingTimesLastYear&#x27;, &#x27;WorkLifeBalance&#x27;, &#x27;YearsSinceLastPromotion&#x27;, &#x27;YearsWithCurrManager&#x27;]</pre></div></div></div><div class=\"sk-serial\"><div class=\"sk-item\"><div class=\"sk-serial\"><div class=\"sk-item\"><div class=\"sk-estimator sk-toggleable\"><input class=\"sk-toggleable__control sk-hidden--visually\" id=\"sk-estimator-id-13\" type=\"checkbox\" ><label for=\"sk-estimator-id-13\" class=\"sk-toggleable__label sk-toggleable__label-arrow\">RobustScaler</label><div class=\"sk-toggleable__content\"><pre>RobustScaler()</pre></div></div></div></div></div></div></div></div><div class=\"sk-parallel-item\"><div class=\"sk-item\"><div class=\"sk-label-container\"><div class=\"sk-label sk-toggleable\"><input class=\"sk-toggleable__control sk-hidden--visually\" id=\"sk-estimator-id-14\" type=\"checkbox\" ><label for=\"sk-estimator-id-14\" class=\"sk-toggleable__label sk-toggleable__label-arrow\">cat</label><div class=\"sk-toggleable__content\"><pre>[&#x27;BusinessTravel&#x27;, &#x27;Department&#x27;, &#x27;EducationField&#x27;, &#x27;Gender&#x27;, &#x27;JobRole&#x27;, &#x27;MaritalStatus&#x27;, &#x27;OverTime&#x27;]</pre></div></div></div><div class=\"sk-serial\"><div class=\"sk-item\"><div class=\"sk-serial\"><div class=\"sk-item\"><div class=\"sk-estimator sk-toggleable\"><input class=\"sk-toggleable__control sk-hidden--visually\" id=\"sk-estimator-id-15\" type=\"checkbox\" ><label for=\"sk-estimator-id-15\" class=\"sk-toggleable__label sk-toggleable__label-arrow\">BinaryEncoder</label><div class=\"sk-toggleable__content\"><pre>BinaryEncoder(cols=[&#x27;BusinessTravel&#x27;, &#x27;Department&#x27;, &#x27;EducationField&#x27;, &#x27;Gender&#x27;,\n",
       "                    &#x27;JobRole&#x27;, &#x27;MaritalStatus&#x27;, &#x27;OverTime&#x27;])</pre></div></div></div></div></div></div></div></div></div></div><div class=\"sk-item\"><div class=\"sk-estimator sk-toggleable\"><input class=\"sk-toggleable__control sk-hidden--visually\" id=\"sk-estimator-id-16\" type=\"checkbox\" ><label for=\"sk-estimator-id-16\" class=\"sk-toggleable__label sk-toggleable__label-arrow\">PCA</label><div class=\"sk-toggleable__content\"><pre>PCA(random_state=42)</pre></div></div></div><div class=\"sk-item\"><div class=\"sk-estimator sk-toggleable\"><input class=\"sk-toggleable__control sk-hidden--visually\" id=\"sk-estimator-id-17\" type=\"checkbox\" ><label for=\"sk-estimator-id-17\" class=\"sk-toggleable__label sk-toggleable__label-arrow\">SVC</label><div class=\"sk-toggleable__content\"><pre>SVC(random_state=42)</pre></div></div></div></div></div></div></div></div></div></div></div></div>"
      ],
      "text/plain": [
       "GridSearchCV(estimator=Pipeline(steps=[('Preprocessor',\n",
       "                                        ColumnTransformer(transformers=[('num',\n",
       "                                                                         Pipeline(steps=[('ScalingNumeric',\n",
       "                                                                                          RobustScaler())]),\n",
       "                                                                         ['Age',\n",
       "                                                                          'DailyRate',\n",
       "                                                                          'DistanceFromHome',\n",
       "                                                                          'Education',\n",
       "                                                                          'EnvironmentSatisfaction',\n",
       "                                                                          'HourlyRate',\n",
       "                                                                          'JobInvolvement',\n",
       "                                                                          'JobSatisfaction',\n",
       "                                                                          'MonthlyIncome',\n",
       "                                                                          'MonthlyRate',\n",
       "                                                                          'NumCompaniesWorked',\n",
       "                                                                          'PercentSalaryHike',\n",
       "                                                                          'Relation...\n",
       "                                                                                                              'MaritalStatus',\n",
       "                                                                                                              'OverTime']))]),\n",
       "                                                                         ['BusinessTravel',\n",
       "                                                                          'Department',\n",
       "                                                                          'EducationField',\n",
       "                                                                          'Gender',\n",
       "                                                                          'JobRole',\n",
       "                                                                          'MaritalStatus',\n",
       "                                                                          'OverTime'])])),\n",
       "                                       ('PCA', PCA(random_state=42)),\n",
       "                                       ('Classifier', SVC(random_state=42))]),\n",
       "             param_grid={'Classifier__C': [0.1, 1, 10],\n",
       "                         'Classifier__gamma': [0.1, 1, 10],\n",
       "                         'Classifier__kernel': ['linear', 'rbf', 'poly'],\n",
       "                         'PCA__n_components': [0.7, 0.85, 0.95]})"
      ]
     },
     "execution_count": 18,
     "metadata": {},
     "output_type": "execute_result"
    }
   ],
   "source": [
    "hpt_pipeline.fit(X_train, y_train)"
   ]
  },
  {
   "cell_type": "code",
   "execution_count": 19,
   "metadata": {},
   "outputs": [
    {
     "data": {
      "text/plain": [
       "{'Classifier__C': 1,\n",
       " 'Classifier__gamma': 0.1,\n",
       " 'Classifier__kernel': 'linear',\n",
       " 'PCA__n_components': 0.95}"
      ]
     },
     "execution_count": 19,
     "metadata": {},
     "output_type": "execute_result"
    }
   ],
   "source": [
    "hpt_pipeline.best_params_"
   ]
  },
  {
   "cell_type": "code",
   "execution_count": 20,
   "metadata": {},
   "outputs": [],
   "source": [
    "y_pred_tuned = hpt_pipeline.predict(X_test)"
   ]
  },
  {
   "cell_type": "code",
   "execution_count": 21,
   "metadata": {},
   "outputs": [
    {
     "data": {
      "text/plain": [
       "array([[252,   3],\n",
       "       [ 26,  13]], dtype=int64)"
      ]
     },
     "execution_count": 21,
     "metadata": {},
     "output_type": "execute_result"
    }
   ],
   "source": [
    "cm_tuned = confusion_matrix(y_test, y_pred_tuned)\n",
    "cm_tuned"
   ]
  },
  {
   "cell_type": "code",
   "execution_count": 25,
   "metadata": {},
   "outputs": [
    {
     "data": {
      "image/png": "[encoded data removed]"
     },
     "metadata": {},
     "output_type": "display_data"
    }
   ],
   "source": [
    "fig = px.imshow(cm_tuned, labels=dict(x=\"Predicted\", y=\"Actual\", color=\"Count\"),\n",
    "          x=['No', 'Yes'], y=['No', 'Yes'], color_continuous_scale='Teal', \n",
    "          title='Confusion Matrix (SVM)', \n",
    "          width=800, height=500,\n",
    "          text_auto=True)\n",
    "fig.show(renderer=\"png\")"
   ]
  },
  {
   "cell_type": "markdown",
   "metadata": {},
   "source": [
    "#### Calculating evaluation matrics from confusion matrix"
   ]
  },
  {
   "cell_type": "code",
   "execution_count": 23,
   "metadata": {},
   "outputs": [
    {
     "name": "stdout",
     "output_type": "stream",
     "text": [
      "Accuracy of SVM model: 90.14\n",
      "Precision of SVM model: 81.25\n",
      "Recall of SVM model: 33.33\n",
      "F1 Score of SVM model: 47.27\n",
      "Support of SVM model: 39\n"
     ]
    }
   ],
   "source": [
    "tn, fp, fn, tp = cm_tuned.ravel()\n",
    "\n",
    "accuracy = (tp + tn) / (tp + tn + fp + fn)\n",
    "precision = tp / (tp + fp)\n",
    "recall = tp / (tp + fn)\n",
    "f1_score = 2 * (precision * recall) / (precision + recall)\n",
    "support = tp + fn\n",
    "\n",
    "print(f'Accuracy of SVM model: {np.round(accuracy * 100, 2)}')\n",
    "print(f'Precision of SVM model: {np.round(precision * 100, 2)}')\n",
    "print(f'Recall of SVM model: {np.round(recall * 100, 2)}')\n",
    "print(f'F1 Score of SVM model: {np.round(f1_score * 100, 2)}')\n",
    "print(f'Support of SVM model: {support}')"
   ]
  },
  {
   "cell_type": "markdown",
   "metadata": {},
   "source": [
    "#### Save the model"
   ]
  },
  {
   "cell_type": "code",
   "execution_count": 24,
   "metadata": {},
   "outputs": [
    {
     "data": {
      "text/plain": [
       "['../models/HR_Model.pkl']"
      ]
     },
     "execution_count": 24,
     "metadata": {},
     "output_type": "execute_result"
    }
   ],
   "source": [
    "joblib.dump(hpt_pipeline, MODEL_PATH)"
   ]
  }
 ],
 "metadata": {
  "kernelspec": {
   "display_name": "base",
   "language": "python",
   "name": "python3"
  },
  "language_info": {
   "codemirror_mode": {
    "name": "ipython",
    "version": 3
   },
   "file_extension": ".py",
   "mimetype": "text/x-python",
   "name": "python",
   "nbconvert_exporter": "python",
   "pygments_lexer": "ipython3",
   "version": "3.11.4"
  }
 },
 "nbformat": 4,
 "nbformat_minor": 2
}
